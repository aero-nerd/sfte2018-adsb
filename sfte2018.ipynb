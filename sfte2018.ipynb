{
 "cells": [
  {
   "cell_type": "markdown",
   "metadata": {
    "slideshow": {
     "slide_type": "slide"
    }
   },
   "source": [
    "# Visualizing Flight Test Data Interactively With Open Source Tools\n",
    "---\n",
    "## Society of Flight Test Engineers 49th Annual International Symposium\n",
    "### 9 October 2018, Savannah GA\n",
    "### Luke Starnes (GTRI)"
   ]
  },
  {
   "cell_type": "markdown",
   "metadata": {
    "slideshow": {
     "slide_type": "slide"
    }
   },
   "source": [
    "# Agenda\n",
    "* OSS Value Proposition\n",
    "* ADS-B Background\n",
    "* Tooling Overview\n",
    "* Examples"
   ]
  },
  {
   "cell_type": "markdown",
   "metadata": {
    "slideshow": {
     "slide_type": "slide"
    }
   },
   "source": [
    "# OSS Value Proposition\n",
    "\n",
    "\n",
    "* Proprietary data analysis tools are expensive and create “vendor lock”\n",
    "* Walled Garden\n",
    "\n",
    " ![](images/walled_garden.jpg)"
   ]
  },
  {
   "cell_type": "markdown",
   "metadata": {
    "slideshow": {
     "slide_type": "subslide"
    }
   },
   "source": [
    "# OSS Value Proposition\n",
    "\n",
    "* open source tools are a superior choice for today’s flight test analysis problems\n",
    "* open interfaces\n",
    "* widespread compatibility (community of interoperable tools)\n",
    "* seamless migration between tools (no “vendor lock”)\n",
    "* flexibility and agility"
   ]
  },
  {
   "cell_type": "markdown",
   "metadata": {
    "slideshow": {
     "slide_type": "slide"
    }
   },
   "source": [
    "# Open Flight Data as Lens for Talking OSS Tooling\n",
    "\n",
    "\n",
    "<div align=\"center\"><table><tr><td><img src='images/adsb.png'></td><td><img src='images/lens.png'></td><td><img src='images/osi_logo.png'></td></tr></table></div>\n"
   ]
  },
  {
   "cell_type": "markdown",
   "metadata": {
    "slideshow": {
     "slide_type": "slide"
    }
   },
   "source": [
    "# ADS-B Background\n",
    "* Automatic Dependent Surveillance-Broadcast\n",
    "* Airfract system for broadcasting identification and position data\n",
    "* Facilitated by uibiquity of GPS\n",
    "* Driven by cost of maintaining ATC radars\n",
    "* ADSB mandated in US starting Jan 1, 2020\n",
    " * required for aircraft operating about 10k', around airports, or off Gulf of Mexico\n",
    "* European mandate starts Jan 1, 2019"
   ]
  },
  {
   "cell_type": "markdown",
   "metadata": {
    "slideshow": {
     "slide_type": "subslide"
    }
   },
   "source": [
    "* ADSB is Line of Sight - requires network of ground stations to recieve reports (min ~100NM)\n",
    "\n",
    "<div align=\"center\"><img src=\"images/adsb_ground_stations.png\"></div>\n",
    "\n",
    "* Transmissions are unencrypted\n",
    "Thus a preponderance of..."
   ]
  },
  {
   "cell_type": "markdown",
   "metadata": {
    "slideshow": {
     "slide_type": "fragment"
    }
   },
   "source": [
    "<div align=\"center\"><img src=\"images/prostick.jpg\" height=30% width=30%></div>"
   ]
  },
  {
   "cell_type": "markdown",
   "metadata": {
    "slideshow": {
     "slide_type": "slide"
    }
   },
   "source": [
    "<div align=\"center\"><img src=\"images/planefinder.png\"></div>\n",
    "<div align=\"center\"><sup>Source: [planefinder.net](https://planefinder.net/)</sup></div>\n",
    "\n",
    "Other simlar sites: include [flightradar24.com](https://www.flightradar24.com/), [flightaware.com](https://flightaware.com/), and [adsbexchange.com](https://www.adsbexchange.com/)."
   ]
  },
  {
   "cell_type": "markdown",
   "metadata": {
    "slideshow": {
     "slide_type": "subslide"
    }
   },
   "source": [
    "* ADSB-B Exchange ([adsbexchange.com](https://www.adsbexchange.com/)) provides public access to their worldwide dataset (begins June 9, 2016)\n",
    "<div align=\"center\"><img src=\"images/adsbexchange_logo_full.png\"></div>\n",
    "* Data made available as JSON\n",
    "* Each day is a single zip file with 1,440 JSON files (1 file per minute)"
   ]
  },
  {
   "cell_type": "markdown",
   "metadata": {
    "slideshow": {
     "slide_type": "slide"
    }
   },
   "source": [
    "# OSS Tool Stack\n",
    "* __Hierarchical Data Format 5 (HDF5)__ - multiplatform, effient, fast data storage format, metadata support\n",
    "* __Pandas__ - robust tool for accessing, transforming, and analyzing tabular data\n",
    "* __Luigi__ - pipelining tool for managing complex pipelines with inter-dependent steps\n",
    "* __Jupyter__ - (*this*) web tool for integrating code, documentation, and visualization into narrative notebook\n",
    "* __Bokeh__ - browser-based interactive visualization tool\n",
    "* __Datashader__ - plotting tool for visualizing large datasets (points >> pixels)"
   ]
  },
  {
   "cell_type": "markdown",
   "metadata": {
    "slideshow": {
     "slide_type": "slide"
    }
   },
   "source": [
    "# Pandas"
   ]
  },
  {
   "cell_type": "code",
   "execution_count": 1,
   "metadata": {
    "slideshow": {
     "slide_type": "skip"
    }
   },
   "outputs": [],
   "source": [
    "import pandas as pd\n",
    "import os"
   ]
  },
  {
   "cell_type": "code",
   "execution_count": 2,
   "metadata": {
    "slideshow": {
     "slide_type": "skip"
    }
   },
   "outputs": [
    {
     "name": "stdout",
     "output_type": "stream",
     "text": [
      "Wall time: 303 ms\n"
     ]
    }
   ],
   "source": [
    "%%time\n",
    "row_len = 500_000\n",
    "h5_dir = r'c:\\adsb'\n",
    "h5_file = os.path.join(h5_dir, '2018-06-16.h5')\n",
    "pickle_name = f'{os.path.basename(h5_file)}-{row_len}.p'\n",
    "pickle_path = os.path.join(os.getcwd(), 'data', pickle_name)\n",
    "if os.path.exists(pickle_path):\n",
    "    df = pd.read_pickle(pickle_path)\n",
    "else:\n",
    "    try:\n",
    "        from download_files import DownloadFile\n",
    "        DownloadFile(pickle_path)\n",
    "        df = pd.read_pickle(pickle_path)\n",
    "    except:\n",
    "        with pd.HDFStore(h5_file, mode='r') as store:\n",
    "            df = store.select('data', stop = row_len, \n",
    "                              columns=['Man', 'Icao', 'Type', 'Op'])\n",
    "        main_ops = ['Southwest', 'American', 'Delta', 'SkyWest', \n",
    "                    'Air Canada', 'Alaska', 'Virgin', 'United',\n",
    "                    'JetBlue', 'Spirit', 'Frontier', 'Wells Fargo']\n",
    "        for o in main_ops:\n",
    "            df.loc[df.Op.fillna('-').str.lower().str.contains(o.lower()), 'Op'] = o\n",
    "        df.to_pickle(pickle_path)"
   ]
  },
  {
   "cell_type": "code",
   "execution_count": 4,
   "metadata": {
    "slideshow": {
     "slide_type": "subslide"
    }
   },
   "outputs": [
    {
     "name": "stdout",
     "output_type": "stream",
     "text": [
      "Wall time: 2.99 ms\n"
     ]
    }
   ],
   "source": [
    "%%time\n",
    "row_len = 50\n",
    "pickle_name = f'{os.path.basename(h5_file)}-{row_len}.p'\n",
    "pickle_path = os.path.join(os.getcwd(), 'data', pickle_name)\n",
    "if os.path.exists(pickle_path):\n",
    "    df2 = pd.read_pickle(pickle_path)\n",
    "else:\n",
    "    try:\n",
    "        from download_files import DownloadFile\n",
    "        DownloadFile(pickle_path)\n",
    "        df2 = pd.read_pickle(pickle_path)\n",
    "    except:\n",
    "        print('except')\n",
    "        with pd.HDFStore(h5_file, mode='r') as store:\n",
    "            df2 = store.select('data', stop = row_len)\n",
    "        df2.to_pickle(pickle_path)"
   ]
  },
  {
   "cell_type": "markdown",
   "metadata": {
    "slideshow": {
     "slide_type": "subslide"
    }
   },
   "source": [
    "| Field        | Description|\n",
    "| ------------- |:-------------|\n",
    "| Id | The unique identifier of the aircraft.|\n",
    "| TSecs | The number of seconds that the aircraft has been tracked for.|\n",
    "| Rcvr | The ID of the feed that last supplied information about the aircraft. Will be different to srcFeed if the source is a merged feed.|\n",
    "| Icao | The ICAO of the aircraft.|\n",
    "| Bad | True if the ICAO is known to be invalid. This information comes from the local BaseStation.sqb database.|\n",
    "| Reg | The registration.|\n",
    "| Alt | The altitude in feet at standard pressure.|\n",
    "| GAlt | The altitude adjusted for local air pressure, should be roughly the height above mean sea level.|\n",
    "| InHg | The air pressure in inches of mercury that was used to calculate the AMSL altitude from the standard pressure altitude.|\n",
    "| AltT | The type of altitude transmitted by the aircraft: 0 = standard pressure altitude, 1 = indicated altitude (above mean sea level). Default to standard pressure altitude until told otherwise.|\n",
    "| TAlt | The target altitude, in feet, set on the autopilot / FMS etc.|\n",
    "| Call | The callsign.|\n",
    "| CallSus | True if the callsign may not be correct.|\n",
    "| Lat | The aircraft's latitude over the ground.|\n",
    "| Long | The aircraft's longitude over the ground.|\n",
    "| PosTime | The time (at UTC in JavaScript ticks) that the position was last reported by the aircraft.|\n",
    "| Mlat | True if the latitude and longitude appear to have been calculated by an MLAT server and were not transmitted by the aircraft.|\n",
    "| PosStale | True if the last position update is older than the display timeout value - usually only seen on MLAT aircraft in merged feeds.|\n",
    "| IsTisb | True if the last message received for the aircraft was from a TIS-B source.|\n",
    "| Spd | The ground speed in knots.|\n",
    "| SpdTyp | The type of speed that Spd represents. Only used with raw feeds. 0/missing = ground speed, 1 = ground speed reversing, 2 = indicated air speed, 3 = true air speed.|\n",
    "| Vsi | Vertical speed in feet per minute.|\n",
    "| VsiT | 0 = vertical speed is barometric, 1 = vertical speed is geometric. Default to barometric until told otherwise.|\n",
    "| Trak | Aircraft's track angle across the ground clockwise from 0° north.|\n",
    "| TrkH | True if Trak is the aircraft's heading, false if it's the ground track. Default to ground track until told otherwise.|\n",
    "| TTrk | The track or heading currently set on the aircraft's autopilot or FMS.|\n",
    "| Type | The aircraft model's ICAO type code.|\n",
    "| Mdl | A description of the aircraft's model. Usually also includes the manufacturer's name.|\n",
    "| Man | The manufacturer's name.|\n",
    "| CNum | The aircraft's construction or serial number.|\n",
    "| From | The code and name of the departure airport.|\n",
    "| To | The code and name of the arrival airport.|\n",
    "| Stops | An array of strings, each being a stopover on the route.|\n",
    "| Op | The name of the aircraft's operator.|\n",
    "| OpCode | The operator's ICAO code.|\n",
    "| Sqk | The squawk as a decimal number (e.g. a squawk of 7654 is passed as 7654, not 4012).|\n",
    "| Help | True if the aircraft is transmitting an emergency squawk.|\n",
    "| Dst | The distance to the aircraft in kilometres.|\n",
    "| Brng | The bearing from the browser to the aircraft clockwise from 0° north.|\n",
    "| WTC | The wake turbulence category of the aircraft - see enums.js for values.|\n",
    "| Engines | The number of engines the aircraft has. Usually '1', '2' etc. but can also be a string - see ICAO documentation.|\n",
    "| EngType | The type of engine the aircraft uses - see enums.js for values.|\n",
    "| EngMount | The placement of engines on the aircraft - see enums.js for values.|\n",
    "| Species | The species of the aircraft (helicopter, jet etc.) - see enums.js for values.|\n",
    "| Mil | True if the aircraft appears to be operated by the military.|\n",
    "| Cou | The country that the aircraft is registered to.|\n",
    "| HasPic | True if the aircraft has a picture associated with it.|\n",
    "| PicX | The width of the picture in pixels.|\n",
    "| PicY | The height of the picture in pixels.|\n",
    "| FlightsCount | The number of Flights records the aircraft has in the database.|\n",
    "| CMsgs | The count of messages received for the aircraft.|\n",
    "| Gnd | True if the aircraft is on the ground.|\n",
    "| Tag | The user tag found for the aircraft in the BaseStation.sqb local database.|\n",
    "| Interested | True if the aircraft is flagged as interesting in the BaseStation.sqb local database.|\n",
    "| TT | Trail type - empty for plain trails, 'a' for trails that include altitude, 's' for trails that include speed.|\n",
    "| Trt | Transponder type - 0=Unknown, 1=Mode-S, 2=ADS-B (unknown version), 3=ADS-B 0, 4=ADS-B 1, 5=ADS-B 2.|\n",
    "| Year | The year that the aircraft was manufactured.|\n",
    "| Sat | True if the aircraft has been seen on a SatCom ACARS feed (e.g. a JAERO feed).|\n",
    "| Cos | Short trails - see note 1.|\n",
    "| Cot | Full trails - see note 2.|\n",
    "| ResetTrail | True if the entire trail has been sent and the JavaScript should discard any existing trail history it's built up for the aircraft.|\n",
    "| HasSig | True if the aircraft has a signal level associated with it.|\n",
    "| Sig | The signal level for the last message received from the aircraft, as reported by the receiver. Not all receivers pass signal levels. The value's units are receiver-dependent.|"
   ]
  },
  {
   "cell_type": "code",
   "execution_count": 4,
   "metadata": {
    "slideshow": {
     "slide_type": "subslide"
    }
   },
   "outputs": [
    {
     "data": {
      "text/plain": [
       "Alt                            24025\n",
       "AltT                               0\n",
       "Bad                            False\n",
       "CMsgs                             12\n",
       "CNum                           62294\n",
       "Call                         VVLL877\n",
       "CallSus                        False\n",
       "Cos                                 \n",
       "Cou                    United States\n",
       "EngMount                           0\n",
       "EngType                            3\n",
       "Engines                            2\n",
       "FSeen                  1529107221934\n",
       "FlightsCount                       0\n",
       "GAlt                           24034\n",
       "Gnd                            False\n",
       "HasPic                         False\n",
       "HasSig                         False\n",
       "Help                           False\n",
       "Icao                          AE5C5A\n",
       "Id                          11426906\n",
       "InHg                         29.9291\n",
       "Interested                     False\n",
       "Lat                          32.8567\n",
       "Long                         -80.555\n",
       "Man                           Boeing\n",
       "Mdl             Boeing P-8A Poseidon\n",
       "Mil                             True\n",
       "Mlat                           False\n",
       "Op                United States Navy\n",
       "OpIcao                           USN\n",
       "PosStale                       False\n",
       "PosTime                  1.52911e+12\n",
       "Rcvr                           13004\n",
       "Reg                           169328\n",
       "ResetTrail                      True\n",
       "Sat                            False\n",
       "Spd                              417\n",
       "SpdTyp                             0\n",
       "Species                            1\n",
       "Sqk                                 \n",
       "TSecs                             10\n",
       "TT                                 a\n",
       "Tisb                           False\n",
       "Trak                             196\n",
       "TrkH                           False\n",
       "Trt                                2\n",
       "Type                              P8\n",
       "Vsi                                0\n",
       "VsiT                               0\n",
       "WTC                                2\n",
       "Year                            2016\n",
       "Cot                                0\n",
       "Name: 25, dtype: object"
      ]
     },
     "execution_count": 4,
     "metadata": {},
     "output_type": "execute_result"
    }
   ],
   "source": [
    "df2.loc[25].dropna()"
   ]
  },
  {
   "cell_type": "code",
   "execution_count": 5,
   "metadata": {
    "slideshow": {
     "slide_type": "subslide"
    }
   },
   "outputs": [
    {
     "name": "stdout",
     "output_type": "stream",
     "text": [
      "(500000, 4)\n"
     ]
    },
    {
     "data": {
      "text/html": [
       "<div>\n",
       "<style scoped>\n",
       "    .dataframe tbody tr th:only-of-type {\n",
       "        vertical-align: middle;\n",
       "    }\n",
       "\n",
       "    .dataframe tbody tr th {\n",
       "        vertical-align: top;\n",
       "    }\n",
       "\n",
       "    .dataframe thead th {\n",
       "        text-align: right;\n",
       "    }\n",
       "</style>\n",
       "<table border=\"1\" class=\"dataframe\">\n",
       "  <thead>\n",
       "    <tr style=\"text-align: right;\">\n",
       "      <th></th>\n",
       "      <th>Man</th>\n",
       "      <th>Icao</th>\n",
       "      <th>Type</th>\n",
       "      <th>Op</th>\n",
       "    </tr>\n",
       "  </thead>\n",
       "  <tbody>\n",
       "    <tr>\n",
       "      <th>1</th>\n",
       "      <td>Raytheon Aircraft Company</td>\n",
       "      <td>A3286B</td>\n",
       "      <td>BE40</td>\n",
       "      <td>MOSER AVIATION LLC     - ENGLEWOOD, CO</td>\n",
       "    </tr>\n",
       "    <tr>\n",
       "      <th>3</th>\n",
       "      <td>Boeing</td>\n",
       "      <td>AB1FFE</td>\n",
       "      <td>B739</td>\n",
       "      <td>Delta</td>\n",
       "    </tr>\n",
       "    <tr>\n",
       "      <th>6</th>\n",
       "      <td>Robinson</td>\n",
       "      <td>A56D30</td>\n",
       "      <td>R44</td>\n",
       "      <td>Robinson Helicopter Company</td>\n",
       "    </tr>\n",
       "    <tr>\n",
       "      <th>10</th>\n",
       "      <td>Airbus</td>\n",
       "      <td>424356</td>\n",
       "      <td>A320</td>\n",
       "      <td>Aeroflot Russian Airlines</td>\n",
       "    </tr>\n",
       "    <tr>\n",
       "      <th>13</th>\n",
       "      <td>McDonnell Douglas</td>\n",
       "      <td>AD8563</td>\n",
       "      <td>MD83</td>\n",
       "      <td>Wells Fargo</td>\n",
       "    </tr>\n",
       "  </tbody>\n",
       "</table>\n",
       "</div>"
      ],
      "text/plain": [
       "                          Man    Icao  Type  \\\n",
       "1   Raytheon Aircraft Company  A3286B  BE40   \n",
       "3                      Boeing  AB1FFE  B739   \n",
       "6                    Robinson  A56D30   R44   \n",
       "10                     Airbus  424356  A320   \n",
       "13          McDonnell Douglas  AD8563  MD83   \n",
       "\n",
       "                                        Op  \n",
       "1   MOSER AVIATION LLC     - ENGLEWOOD, CO  \n",
       "3                                    Delta  \n",
       "6              Robinson Helicopter Company  \n",
       "10               Aeroflot Russian Airlines  \n",
       "13                             Wells Fargo  "
      ]
     },
     "execution_count": 5,
     "metadata": {},
     "output_type": "execute_result"
    }
   ],
   "source": [
    "print(df.shape)\n",
    "df.dropna(how='any').head()"
   ]
  },
  {
   "cell_type": "code",
   "execution_count": 6,
   "metadata": {
    "slideshow": {
     "slide_type": "subslide"
    }
   },
   "outputs": [
    {
     "data": {
      "text/plain": [
       "Boeing                          120932\n",
       "Airbus                           92420\n",
       "Embraer                          27713\n",
       "Bombardier                       26085\n",
       "Cessna                            9963\n",
       "McDonnell Douglas                 5777\n",
       "Gulfstream Aerospace              2578\n",
       "Beech                             2491\n",
       "Piper                             2365\n",
       "Avions de Transport Regional      2350\n",
       "Name: Man, dtype: int64"
      ]
     },
     "execution_count": 6,
     "metadata": {},
     "output_type": "execute_result"
    }
   ],
   "source": [
    "df['Man'].value_counts()[:10]"
   ]
  },
  {
   "cell_type": "code",
   "execution_count": 7,
   "metadata": {
    "slideshow": {
     "slide_type": "subslide"
    }
   },
   "outputs": [
    {
     "data": {
      "text/html": [
       "<div>\n",
       "<style scoped>\n",
       "    .dataframe tbody tr th:only-of-type {\n",
       "        vertical-align: middle;\n",
       "    }\n",
       "\n",
       "    .dataframe tbody tr th {\n",
       "        vertical-align: top;\n",
       "    }\n",
       "\n",
       "    .dataframe thead th {\n",
       "        text-align: right;\n",
       "    }\n",
       "</style>\n",
       "<table border=\"1\" class=\"dataframe\">\n",
       "  <thead>\n",
       "    <tr style=\"text-align: right;\">\n",
       "      <th></th>\n",
       "      <th>Icao</th>\n",
       "    </tr>\n",
       "    <tr>\n",
       "      <th>Op</th>\n",
       "      <th></th>\n",
       "    </tr>\n",
       "  </thead>\n",
       "  <tbody>\n",
       "    <tr>\n",
       "      <th>American</th>\n",
       "      <td>649</td>\n",
       "    </tr>\n",
       "    <tr>\n",
       "      <th>Delta</th>\n",
       "      <td>573</td>\n",
       "    </tr>\n",
       "    <tr>\n",
       "      <th>United</th>\n",
       "      <td>537</td>\n",
       "    </tr>\n",
       "    <tr>\n",
       "      <th>Southwest</th>\n",
       "      <td>483</td>\n",
       "    </tr>\n",
       "    <tr>\n",
       "      <th>Wells Fargo</th>\n",
       "      <td>327</td>\n",
       "    </tr>\n",
       "    <tr>\n",
       "      <th>Private</th>\n",
       "      <td>234</td>\n",
       "    </tr>\n",
       "    <tr>\n",
       "      <th>Air Canada</th>\n",
       "      <td>226</td>\n",
       "    </tr>\n",
       "    <tr>\n",
       "      <th>JetBlue</th>\n",
       "      <td>150</td>\n",
       "    </tr>\n",
       "    <tr>\n",
       "      <th>Virgin</th>\n",
       "      <td>132</td>\n",
       "    </tr>\n",
       "    <tr>\n",
       "      <th>SkyWest</th>\n",
       "      <td>126</td>\n",
       "    </tr>\n",
       "    <tr>\n",
       "      <th>China Southern Airlines</th>\n",
       "      <td>114</td>\n",
       "    </tr>\n",
       "    <tr>\n",
       "      <th>Alaska</th>\n",
       "      <td>98</td>\n",
       "    </tr>\n",
       "    <tr>\n",
       "      <th>Air China</th>\n",
       "      <td>98</td>\n",
       "    </tr>\n",
       "    <tr>\n",
       "      <th>LATAM Airlines</th>\n",
       "      <td>98</td>\n",
       "    </tr>\n",
       "    <tr>\n",
       "      <th>China Eastern Airlines</th>\n",
       "      <td>93</td>\n",
       "    </tr>\n",
       "  </tbody>\n",
       "</table>\n",
       "</div>"
      ],
      "text/plain": [
       "                         Icao\n",
       "Op                           \n",
       "American                  649\n",
       "Delta                     573\n",
       "United                    537\n",
       "Southwest                 483\n",
       "Wells Fargo               327\n",
       "Private                   234\n",
       "Air Canada                226\n",
       "JetBlue                   150\n",
       "Virgin                    132\n",
       "SkyWest                   126\n",
       "China Southern Airlines   114\n",
       "Alaska                     98\n",
       "Air China                  98\n",
       "LATAM Airlines             98\n",
       "China Eastern Airlines     93"
      ]
     },
     "execution_count": 7,
     "metadata": {},
     "output_type": "execute_result"
    }
   ],
   "source": [
    "df.groupby('Op').agg({'Icao': pd.Series.nunique}).sort_values('Icao', ascending=False)[:15]"
   ]
  },
  {
   "cell_type": "code",
   "execution_count": 8,
   "metadata": {
    "slideshow": {
     "slide_type": "subslide"
    }
   },
   "outputs": [
    {
     "data": {
      "text/html": [
       "<div>\n",
       "<style scoped>\n",
       "    .dataframe tbody tr th:only-of-type {\n",
       "        vertical-align: middle;\n",
       "    }\n",
       "\n",
       "    .dataframe tbody tr th {\n",
       "        vertical-align: top;\n",
       "    }\n",
       "\n",
       "    .dataframe thead th {\n",
       "        text-align: right;\n",
       "    }\n",
       "</style>\n",
       "<table border=\"1\" class=\"dataframe\">\n",
       "  <thead>\n",
       "    <tr style=\"text-align: right;\">\n",
       "      <th></th>\n",
       "      <th>Op</th>\n",
       "      <th>Air Canada</th>\n",
       "      <th>American</th>\n",
       "      <th>Delta</th>\n",
       "      <th>JetBlue</th>\n",
       "      <th>Private</th>\n",
       "      <th>SkyWest</th>\n",
       "      <th>Southwest</th>\n",
       "      <th>United</th>\n",
       "      <th>Virgin</th>\n",
       "      <th>Wells Fargo</th>\n",
       "      <th>Total</th>\n",
       "    </tr>\n",
       "    <tr>\n",
       "      <th></th>\n",
       "      <th>Type</th>\n",
       "      <th></th>\n",
       "      <th></th>\n",
       "      <th></th>\n",
       "      <th></th>\n",
       "      <th></th>\n",
       "      <th></th>\n",
       "      <th></th>\n",
       "      <th></th>\n",
       "      <th></th>\n",
       "      <th></th>\n",
       "      <th></th>\n",
       "    </tr>\n",
       "  </thead>\n",
       "  <tbody>\n",
       "    <tr>\n",
       "      <th rowspan=\"10\" valign=\"top\">Icao</th>\n",
       "      <th>B738</th>\n",
       "      <td></td>\n",
       "      <td>172</td>\n",
       "      <td>52</td>\n",
       "      <td></td>\n",
       "      <td></td>\n",
       "      <td></td>\n",
       "      <td>142</td>\n",
       "      <td>48</td>\n",
       "      <td>53</td>\n",
       "      <td>21</td>\n",
       "      <td>488</td>\n",
       "    </tr>\n",
       "    <tr>\n",
       "      <th>B737</th>\n",
       "      <td></td>\n",
       "      <td></td>\n",
       "      <td>4</td>\n",
       "      <td></td>\n",
       "      <td></td>\n",
       "      <td></td>\n",
       "      <td>317</td>\n",
       "      <td>17</td>\n",
       "      <td>2</td>\n",
       "      <td>18</td>\n",
       "      <td>358</td>\n",
       "    </tr>\n",
       "    <tr>\n",
       "      <th>A320</th>\n",
       "      <td>36</td>\n",
       "      <td>24</td>\n",
       "      <td>37</td>\n",
       "      <td>83</td>\n",
       "      <td></td>\n",
       "      <td></td>\n",
       "      <td></td>\n",
       "      <td>57</td>\n",
       "      <td>35</td>\n",
       "      <td>10</td>\n",
       "      <td>282</td>\n",
       "    </tr>\n",
       "    <tr>\n",
       "      <th>A321</th>\n",
       "      <td>12</td>\n",
       "      <td>141</td>\n",
       "      <td>40</td>\n",
       "      <td>37</td>\n",
       "      <td></td>\n",
       "      <td></td>\n",
       "      <td></td>\n",
       "      <td></td>\n",
       "      <td></td>\n",
       "      <td>4</td>\n",
       "      <td>234</td>\n",
       "    </tr>\n",
       "    <tr>\n",
       "      <th>A319</th>\n",
       "      <td>22</td>\n",
       "      <td>55</td>\n",
       "      <td>33</td>\n",
       "      <td></td>\n",
       "      <td></td>\n",
       "      <td></td>\n",
       "      <td></td>\n",
       "      <td>45</td>\n",
       "      <td>7</td>\n",
       "      <td>13</td>\n",
       "      <td>175</td>\n",
       "    </tr>\n",
       "    <tr>\n",
       "      <th>B739</th>\n",
       "      <td></td>\n",
       "      <td></td>\n",
       "      <td>64</td>\n",
       "      <td></td>\n",
       "      <td></td>\n",
       "      <td></td>\n",
       "      <td></td>\n",
       "      <td>80</td>\n",
       "      <td></td>\n",
       "      <td>1</td>\n",
       "      <td>145</td>\n",
       "    </tr>\n",
       "    <tr>\n",
       "      <th>CRJ9</th>\n",
       "      <td>11</td>\n",
       "      <td>7</td>\n",
       "      <td>60</td>\n",
       "      <td></td>\n",
       "      <td></td>\n",
       "      <td>10</td>\n",
       "      <td></td>\n",
       "      <td></td>\n",
       "      <td></td>\n",
       "      <td>25</td>\n",
       "      <td>113</td>\n",
       "    </tr>\n",
       "    <tr>\n",
       "      <th>E145</th>\n",
       "      <td></td>\n",
       "      <td>50</td>\n",
       "      <td></td>\n",
       "      <td></td>\n",
       "      <td></td>\n",
       "      <td></td>\n",
       "      <td></td>\n",
       "      <td>7</td>\n",
       "      <td></td>\n",
       "      <td>36</td>\n",
       "      <td>93</td>\n",
       "    </tr>\n",
       "    <tr>\n",
       "      <th>B752</th>\n",
       "      <td></td>\n",
       "      <td>9</td>\n",
       "      <td>50</td>\n",
       "      <td></td>\n",
       "      <td></td>\n",
       "      <td></td>\n",
       "      <td></td>\n",
       "      <td>29</td>\n",
       "      <td></td>\n",
       "      <td>4</td>\n",
       "      <td>92</td>\n",
       "    </tr>\n",
       "    <tr>\n",
       "      <th>CRJ7</th>\n",
       "      <td></td>\n",
       "      <td>13</td>\n",
       "      <td>10</td>\n",
       "      <td></td>\n",
       "      <td></td>\n",
       "      <td>38</td>\n",
       "      <td></td>\n",
       "      <td>9</td>\n",
       "      <td></td>\n",
       "      <td>21</td>\n",
       "      <td>91</td>\n",
       "    </tr>\n",
       "  </tbody>\n",
       "</table>\n",
       "</div>"
      ],
      "text/plain": [
       "Op        Air Canada American Delta JetBlue Private SkyWest Southwest United  \\\n",
       "     Type                                                                      \n",
       "Icao B738                 172    52                               142     48   \n",
       "     B737                         4                               317     17   \n",
       "     A320         36       24    37      83                               57   \n",
       "     A321         12      141    40      37                                    \n",
       "     A319         22       55    33                                       45   \n",
       "     B739                        64                                       80   \n",
       "     CRJ9         11        7    60                      10                    \n",
       "     E145                  50                                              7   \n",
       "     B752                   9    50                                       29   \n",
       "     CRJ7                  13    10                      38                9   \n",
       "\n",
       "Op        Virgin Wells Fargo  Total  \n",
       "     Type                            \n",
       "Icao B738     53          21    488  \n",
       "     B737      2          18    358  \n",
       "     A320     35          10    282  \n",
       "     A321                  4    234  \n",
       "     A319      7          13    175  \n",
       "     B739                  1    145  \n",
       "     CRJ9                 25    113  \n",
       "     E145                 36     93  \n",
       "     B752                  4     92  \n",
       "     CRJ7                 21     91  "
      ]
     },
     "execution_count": 8,
     "metadata": {},
     "output_type": "execute_result"
    }
   ],
   "source": [
    "airlines_filter = df['Op'].isin(df.Op.value_counts().index[:10])\n",
    "table = df[airlines_filter].groupby(['Op','Type']).agg({'Icao': pd.Series.nunique}).unstack().T\n",
    "table['Total'] = table.sum(skipna=True, axis=1).map(int)\n",
    "table.sort_values('Total', ascending=False).fillna('')[:10]"
   ]
  },
  {
   "cell_type": "markdown",
   "metadata": {
    "slideshow": {
     "slide_type": "slide"
    }
   },
   "source": [
    "# Bokeh"
   ]
  },
  {
   "cell_type": "markdown",
   "metadata": {
    "slideshow": {
     "slide_type": "subslide"
    }
   },
   "source": [
    "# Why Visualization is important\n",
    "<div align=\"center\"><img src=\"images/anscombe's_quartet.png\" height=50% width=50%></div>\n",
    "<div align=\"center\">Anscombe's quartet - dataset consisting of four sets of points which are all statistically similar, but visually varied.</div>\n"
   ]
  },
  {
   "cell_type": "markdown",
   "metadata": {
    "slideshow": {
     "slide_type": "slide"
    }
   },
   "source": [
    "# Datashader - The Why\n",
    "\n",
    "<div align=\"center\"><img src=\"images/datashader-plotting-pitfalls.png\"></div>\n"
   ]
  },
  {
   "cell_type": "markdown",
   "metadata": {
    "slideshow": {
     "slide_type": "subslide"
    }
   },
   "source": [
    "# Datashader Examples\n",
    "* [Worldwide Viz with Datashades](/notebooks/GitHub/sfte2018-adsb/Worldwide Viz with Datashader.ipynb)\n",
    "* [Interactive Datashader](/notebooks/GitHub/sfte2018-adsb/Interactive Datashader.ipynb)"
   ]
  },
  {
   "cell_type": "markdown",
   "metadata": {
    "slideshow": {
     "slide_type": "slide"
    }
   },
   "source": [
    "# Conclusion\n",
    "\n",
    "* open source tools are a superior choice for today’s flight test analysis problems\n",
    "* open interfaces\n",
    "* widespread compatibility (community of interoperable tools)\n",
    "* seamless migration between tools (no “vendor lock”)\n",
    "* flexibility and agility\n",
    "\n",
    "### Slides / Notebooks available here:\n",
    "\n",
    "* https://github.com/slstarnes/sfte2018-adsb"
   ]
  }
 ],
 "metadata": {
  "celltoolbar": "Slideshow",
  "kernelspec": {
   "display_name": "Python 3",
   "language": "python",
   "name": "python3"
  },
  "language_info": {
   "codemirror_mode": {
    "name": "ipython",
    "version": 3
   },
   "file_extension": ".py",
   "mimetype": "text/x-python",
   "name": "python",
   "nbconvert_exporter": "python",
   "pygments_lexer": "ipython3",
   "version": "3.6.2"
  }
 },
 "nbformat": 4,
 "nbformat_minor": 2
}
