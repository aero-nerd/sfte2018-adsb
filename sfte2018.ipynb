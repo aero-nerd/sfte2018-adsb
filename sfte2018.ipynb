{
 "cells": [
  {
   "cell_type": "markdown",
   "metadata": {},
   "source": [
    "# Visualizing Flight Test Data Interactively With Open Source Tools\n",
    "---\n",
    "## Society of Flight Test Engineers 49th Annual International Symposium\n",
    "### 10 October 2018, Savannah GA\n",
    "### Luke Starnes (GTRI)"
   ]
  },
  {
   "cell_type": "markdown",
   "metadata": {},
   "source": [
    "# Agenda\n",
    "* OSS Value Proposition\n",
    "* ADS-B Background\n",
    "* Tooling Overview\n",
    "* Examples"
   ]
  },
  {
   "cell_type": "markdown",
   "metadata": {},
   "source": [
    "* Proprietary data analysis tools are expensive and create “vendor lock”\n",
    "* Walled Garden\n",
    "\n",
    "![](images/walled_garden.jpg)"
   ]
  },
  {
   "cell_type": "markdown",
   "metadata": {},
   "source": []
  },
  {
   "cell_type": "markdown",
   "metadata": {},
   "source": [
    "* open source tools are a superior choice for today’s flight test analysis problems\n",
    "* open interfaces \n",
    "* widespread compatibility (community of interoperable tools)\n",
    "* seamless migration between tools (no “vendor lock”)\n",
    "* flexibility and agility"
   ]
  },
  {
   "cell_type": "markdown",
   "metadata": {},
   "source": []
  },
  {
   "cell_type": "markdown",
   "metadata": {},
   "source": [
    "![](images/osi_logo.png)\n",
    "\n",
    "![](images/lens.png)\n",
    "\n",
    "![](images/adsb.png)"
   ]
  },
  {
   "cell_type": "code",
   "execution_count": null,
   "metadata": {},
   "outputs": [],
   "source": []
  }
 ],
 "metadata": {
  "kernelspec": {
   "display_name": "Python [conda env:py3.6_sfte]",
   "language": "python",
   "name": "conda-env-py3.6_sfte-py"
  },
  "language_info": {
   "codemirror_mode": {
    "name": "ipython",
    "version": 3
   },
   "file_extension": ".py",
   "mimetype": "text/x-python",
   "name": "python",
   "nbconvert_exporter": "python",
   "pygments_lexer": "ipython3",
   "version": "3.6.6"
  }
 },
 "nbformat": 4,
 "nbformat_minor": 2
}
