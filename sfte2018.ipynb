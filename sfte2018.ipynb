{
 "cells": [
  {
   "cell_type": "markdown",
   "metadata": {
    "slideshow": {
     "slide_type": "slide"
    }
   },
   "source": [
    "# Visualizing Flight Test Data Interactively With Open Source Tools\n",
    "---\n",
    "## Society of Flight Test Engineers 49th Annual International Symposium\n",
    "### 10 October 2018, Savannah GA\n",
    "### Luke Starnes (GTRI)"
   ]
  },
  {
   "cell_type": "markdown",
   "metadata": {
    "slideshow": {
     "slide_type": "slide"
    }
   },
   "source": [
    "# Agenda\n",
    "* OSS Value Proposition\n",
    "* ADS-B Background\n",
    "* Tooling Overview\n",
    "* Examples"
   ]
  },
  {
   "cell_type": "markdown",
   "metadata": {
    "slideshow": {
     "slide_type": "slide"
    }
   },
   "source": [
    "# OSS Value Proposition\n",
    "\n",
    "\n",
    "* Proprietary data analysis tools are expensive and create “vendor lock”\n",
    "* Walled Garden\n",
    " ![](images/walled_garden.jpg)"
   ]
  },
  {
   "cell_type": "markdown",
   "metadata": {
    "slideshow": {
     "slide_type": "fragment"
    }
   },
   "source": [
    "* open source tools are a superior choice for today’s flight test analysis problems\n",
    "* open interfaces\n",
    "* widespread compatibility (community of interoperable tools)\n",
    "* seamless migration between tools (no “vendor lock”)\n",
    "* flexibility and agility"
   ]
  },
  {
   "cell_type": "markdown",
   "metadata": {
    "collapsed": true,
    "slideshow": {
     "slide_type": "slide"
    }
   },
   "source": [
    "# Open Flight Data as Lens for Talking OSS Tooling\n",
    "\n",
    "<table><tr><td><img src='images/adsb.png'></td><td><img src='images/lens.png'></td><td><img src='images/osi_logo.png'></td></tr></table>"
   ]
  },
  {
   "cell_type": "markdown",
   "metadata": {
    "slideshow": {
     "slide_type": "slide"
    }
   },
   "source": [
    "# ADS-B Background\n",
    "* Automatic Dependent Surveillance-Broadcast\n",
    "* Airfract system for broadcasting identification and position data\n",
    "* Facilitated by uibiquity of GPS\n",
    "* Driven by cost of maintaining ATC radars\n",
    "* ADSB mandated in US starting Jan 1, 2020\n",
    " * required for aircraft operating about 10k', around airports, or off Gulf of Mexico\n",
    "* European mandate starts Jan 1, 2019"
   ]
  },
  {
   "cell_type": "markdown",
   "metadata": {
    "slideshow": {
     "slide_type": "subslide"
    }
   },
   "source": [
    "* ADSB is Line of Sight - requires network of ground stations to recieve reports (min ~100NM)\n",
    "![](images/adsb_ground_stations.png)\n",
    "\n",
    "* Transmissions are unencrypted\n",
    "* Thus a preponderance of..."
   ]
  },
  {
   "cell_type": "markdown",
   "metadata": {
    "slideshow": {
     "slide_type": "fragment"
    }
   },
   "source": [
    "![](images/prostick.jpg)"
   ]
  },
  {
   "cell_type": "markdown",
   "metadata": {
    "slideshow": {
     "slide_type": "subslide"
    }
   },
   "source": [
    "![](images/planefinder.png)"
   ]
  },
  {
   "cell_type": "markdown",
   "metadata": {
    "slideshow": {
     "slide_type": "subslide"
    }
   },
   "source": [
    "* ADSB-B Exchange (www.adsbexchange.com) provides public access to their worldwide dataset (begins June 9, 2016)\n",
    "![](images/adsbexchange_logo_full.png)\n",
    "* Data made available as JSON\n",
    "* Each day is a single zip file with 1,440 JSON files (1 file per minute)"
   ]
  },
  {
   "cell_type": "markdown",
   "metadata": {
    "slideshow": {
     "slide_type": "slide"
    }
   },
   "source": [
    "# OSS Tool Stack"
   ]
  },
  {
   "cell_type": "markdown",
   "metadata": {},
   "source": [
    "* HDF5\n",
    "* Pandas\n",
    "* Luigi\n",
    "* Jupyter\n",
    "* Bokeh\n",
    "* Datashader"
   ]
  },
  {
   "cell_type": "code",
   "execution_count": null,
   "metadata": {},
   "outputs": [],
   "source": []
  }
 ],
 "metadata": {
  "celltoolbar": "Slideshow",
  "kernelspec": {
   "display_name": "Python 3",
   "language": "python",
   "name": "python3"
  },
  "language_info": {
   "codemirror_mode": {
    "name": "ipython",
    "version": 3
   },
   "file_extension": ".py",
   "mimetype": "text/x-python",
   "name": "python",
   "nbconvert_exporter": "python",
   "pygments_lexer": "ipython3",
   "version": "3.6.2"
  }
 },
 "nbformat": 4,
 "nbformat_minor": 2
}
