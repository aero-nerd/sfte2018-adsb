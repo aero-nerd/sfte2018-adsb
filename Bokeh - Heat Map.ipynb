{
 "cells": [
  {
   "cell_type": "markdown",
   "metadata": {
    "slideshow": {
     "slide_type": "slide"
    }
   },
   "source": [
    "# Heat Maps in Bokeh"
   ]
  },
  {
   "cell_type": "code",
   "execution_count": 1,
   "metadata": {
    "ExecuteTime": {
     "end_time": "2018-10-04T21:18:53.982638Z",
     "start_time": "2018-10-04T21:18:53.970462Z"
    },
    "slideshow": {
     "slide_type": "skip"
    }
   },
   "outputs": [],
   "source": [
    "# Note: the below code requires a restart of the notebook the first time it is run\n",
    "import sys\n",
    "import os\n",
    "from traitlets.config.manager import BaseJSONConfigManager\n",
    "path = os.path.join(sys.prefix, 'etc', 'jupyter', 'nbconfig')\n",
    "cm = BaseJSONConfigManager(config_dir=path)\n",
    "cm.update(\"livereveal\", {\"scroll\": True});"
   ]
  },
  {
   "cell_type": "code",
   "execution_count": 2,
   "metadata": {
    "ExecuteTime": {
     "end_time": "2018-10-04T21:18:55.456523Z",
     "start_time": "2018-10-04T21:18:53.986823Z"
    },
    "slideshow": {
     "slide_type": "skip"
    }
   },
   "outputs": [
    {
     "data": {
      "text/html": [
       "\n",
       "    <div class=\"bk-root\">\n",
       "        <a href=\"https://bokeh.pydata.org\" target=\"_blank\" class=\"bk-logo bk-logo-small bk-logo-notebook\"></a>\n",
       "        <span id=\"79984c14-3bb6-4370-b31b-c2009e2bb6c4\">Loading BokehJS ...</span>\n",
       "    </div>"
      ]
     },
     "metadata": {},
     "output_type": "display_data"
    },
    {
     "data": {
      "application/javascript": [
       "\n",
       "(function(root) {\n",
       "  function now() {\n",
       "    return new Date();\n",
       "  }\n",
       "\n",
       "  var force = true;\n",
       "\n",
       "  if (typeof (root._bokeh_onload_callbacks) === \"undefined\" || force === true) {\n",
       "    root._bokeh_onload_callbacks = [];\n",
       "    root._bokeh_is_loading = undefined;\n",
       "  }\n",
       "\n",
       "  var JS_MIME_TYPE = 'application/javascript';\n",
       "  var HTML_MIME_TYPE = 'text/html';\n",
       "  var EXEC_MIME_TYPE = 'application/vnd.bokehjs_exec.v0+json';\n",
       "  var CLASS_NAME = 'output_bokeh rendered_html';\n",
       "\n",
       "  /**\n",
       "   * Render data to the DOM node\n",
       "   */\n",
       "  function render(props, node) {\n",
       "    var script = document.createElement(\"script\");\n",
       "    node.appendChild(script);\n",
       "  }\n",
       "\n",
       "  /**\n",
       "   * Handle when an output is cleared or removed\n",
       "   */\n",
       "  function handleClearOutput(event, handle) {\n",
       "    var cell = handle.cell;\n",
       "\n",
       "    var id = cell.output_area._bokeh_element_id;\n",
       "    var server_id = cell.output_area._bokeh_server_id;\n",
       "    // Clean up Bokeh references\n",
       "    if (id != null && id in Bokeh.index) {\n",
       "      Bokeh.index[id].model.document.clear();\n",
       "      delete Bokeh.index[id];\n",
       "    }\n",
       "\n",
       "    if (server_id !== undefined) {\n",
       "      // Clean up Bokeh references\n",
       "      var cmd = \"from bokeh.io.state import curstate; print(curstate().uuid_to_server['\" + server_id + \"'].get_sessions()[0].document.roots[0]._id)\";\n",
       "      cell.notebook.kernel.execute(cmd, {\n",
       "        iopub: {\n",
       "          output: function(msg) {\n",
       "            var id = msg.content.text.trim();\n",
       "            if (id in Bokeh.index) {\n",
       "              Bokeh.index[id].model.document.clear();\n",
       "              delete Bokeh.index[id];\n",
       "            }\n",
       "          }\n",
       "        }\n",
       "      });\n",
       "      // Destroy server and session\n",
       "      var cmd = \"import bokeh.io.notebook as ion; ion.destroy_server('\" + server_id + \"')\";\n",
       "      cell.notebook.kernel.execute(cmd);\n",
       "    }\n",
       "  }\n",
       "\n",
       "  /**\n",
       "   * Handle when a new output is added\n",
       "   */\n",
       "  function handleAddOutput(event, handle) {\n",
       "    var output_area = handle.output_area;\n",
       "    var output = handle.output;\n",
       "\n",
       "    // limit handleAddOutput to display_data with EXEC_MIME_TYPE content only\n",
       "    if ((output.output_type != \"display_data\") || (!output.data.hasOwnProperty(EXEC_MIME_TYPE))) {\n",
       "      return\n",
       "    }\n",
       "\n",
       "    var toinsert = output_area.element.find(\".\" + CLASS_NAME.split(' ')[0]);\n",
       "\n",
       "    if (output.metadata[EXEC_MIME_TYPE][\"id\"] !== undefined) {\n",
       "      toinsert[toinsert.length - 1].firstChild.textContent = output.data[JS_MIME_TYPE];\n",
       "      // store reference to embed id on output_area\n",
       "      output_area._bokeh_element_id = output.metadata[EXEC_MIME_TYPE][\"id\"];\n",
       "    }\n",
       "    if (output.metadata[EXEC_MIME_TYPE][\"server_id\"] !== undefined) {\n",
       "      var bk_div = document.createElement(\"div\");\n",
       "      bk_div.innerHTML = output.data[HTML_MIME_TYPE];\n",
       "      var script_attrs = bk_div.children[0].attributes;\n",
       "      for (var i = 0; i < script_attrs.length; i++) {\n",
       "        toinsert[toinsert.length - 1].firstChild.setAttribute(script_attrs[i].name, script_attrs[i].value);\n",
       "      }\n",
       "      // store reference to server id on output_area\n",
       "      output_area._bokeh_server_id = output.metadata[EXEC_MIME_TYPE][\"server_id\"];\n",
       "    }\n",
       "  }\n",
       "\n",
       "  function register_renderer(events, OutputArea) {\n",
       "\n",
       "    function append_mime(data, metadata, element) {\n",
       "      // create a DOM node to render to\n",
       "      var toinsert = this.create_output_subarea(\n",
       "        metadata,\n",
       "        CLASS_NAME,\n",
       "        EXEC_MIME_TYPE\n",
       "      );\n",
       "      this.keyboard_manager.register_events(toinsert);\n",
       "      // Render to node\n",
       "      var props = {data: data, metadata: metadata[EXEC_MIME_TYPE]};\n",
       "      render(props, toinsert[toinsert.length - 1]);\n",
       "      element.append(toinsert);\n",
       "      return toinsert\n",
       "    }\n",
       "\n",
       "    /* Handle when an output is cleared or removed */\n",
       "    events.on('clear_output.CodeCell', handleClearOutput);\n",
       "    events.on('delete.Cell', handleClearOutput);\n",
       "\n",
       "    /* Handle when a new output is added */\n",
       "    events.on('output_added.OutputArea', handleAddOutput);\n",
       "\n",
       "    /**\n",
       "     * Register the mime type and append_mime function with output_area\n",
       "     */\n",
       "    OutputArea.prototype.register_mime_type(EXEC_MIME_TYPE, append_mime, {\n",
       "      /* Is output safe? */\n",
       "      safe: true,\n",
       "      /* Index of renderer in `output_area.display_order` */\n",
       "      index: 0\n",
       "    });\n",
       "  }\n",
       "\n",
       "  // register the mime type if in Jupyter Notebook environment and previously unregistered\n",
       "  if (root.Jupyter !== undefined) {\n",
       "    var events = require('base/js/events');\n",
       "    var OutputArea = require('notebook/js/outputarea').OutputArea;\n",
       "\n",
       "    if (OutputArea.prototype.mime_types().indexOf(EXEC_MIME_TYPE) == -1) {\n",
       "      register_renderer(events, OutputArea);\n",
       "    }\n",
       "  }\n",
       "\n",
       "  \n",
       "  if (typeof (root._bokeh_timeout) === \"undefined\" || force === true) {\n",
       "    root._bokeh_timeout = Date.now() + 5000;\n",
       "    root._bokeh_failed_load = false;\n",
       "  }\n",
       "\n",
       "  var NB_LOAD_WARNING = {'data': {'text/html':\n",
       "     \"<div style='background-color: #fdd'>\\n\"+\n",
       "     \"<p>\\n\"+\n",
       "     \"BokehJS does not appear to have successfully loaded. If loading BokehJS from CDN, this \\n\"+\n",
       "     \"may be due to a slow or bad network connection. Possible fixes:\\n\"+\n",
       "     \"</p>\\n\"+\n",
       "     \"<ul>\\n\"+\n",
       "     \"<li>re-rerun `output_notebook()` to attempt to load from CDN again, or</li>\\n\"+\n",
       "     \"<li>use INLINE resources instead, as so:</li>\\n\"+\n",
       "     \"</ul>\\n\"+\n",
       "     \"<code>\\n\"+\n",
       "     \"from bokeh.resources import INLINE\\n\"+\n",
       "     \"output_notebook(resources=INLINE)\\n\"+\n",
       "     \"</code>\\n\"+\n",
       "     \"</div>\"}};\n",
       "\n",
       "  function display_loaded() {\n",
       "    var el = document.getElementById(\"79984c14-3bb6-4370-b31b-c2009e2bb6c4\");\n",
       "    if (el != null) {\n",
       "      el.textContent = \"BokehJS is loading...\";\n",
       "    }\n",
       "    if (root.Bokeh !== undefined) {\n",
       "      if (el != null) {\n",
       "        el.textContent = \"BokehJS \" + root.Bokeh.version + \" successfully loaded.\";\n",
       "      }\n",
       "    } else if (Date.now() < root._bokeh_timeout) {\n",
       "      setTimeout(display_loaded, 100)\n",
       "    }\n",
       "  }\n",
       "\n",
       "\n",
       "  function run_callbacks() {\n",
       "    try {\n",
       "      root._bokeh_onload_callbacks.forEach(function(callback) { callback() });\n",
       "    }\n",
       "    finally {\n",
       "      delete root._bokeh_onload_callbacks\n",
       "    }\n",
       "    console.info(\"Bokeh: all callbacks have finished\");\n",
       "  }\n",
       "\n",
       "  function load_libs(js_urls, callback) {\n",
       "    root._bokeh_onload_callbacks.push(callback);\n",
       "    if (root._bokeh_is_loading > 0) {\n",
       "      console.log(\"Bokeh: BokehJS is being loaded, scheduling callback at\", now());\n",
       "      return null;\n",
       "    }\n",
       "    if (js_urls == null || js_urls.length === 0) {\n",
       "      run_callbacks();\n",
       "      return null;\n",
       "    }\n",
       "    console.log(\"Bokeh: BokehJS not loaded, scheduling load and callback at\", now());\n",
       "    root._bokeh_is_loading = js_urls.length;\n",
       "    for (var i = 0; i < js_urls.length; i++) {\n",
       "      var url = js_urls[i];\n",
       "      var s = document.createElement('script');\n",
       "      s.src = url;\n",
       "      s.async = false;\n",
       "      s.onreadystatechange = s.onload = function() {\n",
       "        root._bokeh_is_loading--;\n",
       "        if (root._bokeh_is_loading === 0) {\n",
       "          console.log(\"Bokeh: all BokehJS libraries loaded\");\n",
       "          run_callbacks()\n",
       "        }\n",
       "      };\n",
       "      s.onerror = function() {\n",
       "        console.warn(\"failed to load library \" + url);\n",
       "      };\n",
       "      console.log(\"Bokeh: injecting script tag for BokehJS library: \", url);\n",
       "      document.getElementsByTagName(\"head\")[0].appendChild(s);\n",
       "    }\n",
       "  };var element = document.getElementById(\"79984c14-3bb6-4370-b31b-c2009e2bb6c4\");\n",
       "  if (element == null) {\n",
       "    console.log(\"Bokeh: ERROR: autoload.js configured with elementid '79984c14-3bb6-4370-b31b-c2009e2bb6c4' but no matching script tag was found. \")\n",
       "    return false;\n",
       "  }\n",
       "\n",
       "  var js_urls = [\"https://cdn.pydata.org/bokeh/release/bokeh-0.13.0.min.js\", \"https://cdn.pydata.org/bokeh/release/bokeh-widgets-0.13.0.min.js\", \"https://cdn.pydata.org/bokeh/release/bokeh-tables-0.13.0.min.js\", \"https://cdn.pydata.org/bokeh/release/bokeh-gl-0.13.0.min.js\"];\n",
       "\n",
       "  var inline_js = [\n",
       "    function(Bokeh) {\n",
       "      Bokeh.set_log_level(\"info\");\n",
       "    },\n",
       "    \n",
       "    function(Bokeh) {\n",
       "      \n",
       "    },\n",
       "    function(Bokeh) {\n",
       "      console.log(\"Bokeh: injecting CSS: https://cdn.pydata.org/bokeh/release/bokeh-0.13.0.min.css\");\n",
       "      Bokeh.embed.inject_css(\"https://cdn.pydata.org/bokeh/release/bokeh-0.13.0.min.css\");\n",
       "      console.log(\"Bokeh: injecting CSS: https://cdn.pydata.org/bokeh/release/bokeh-widgets-0.13.0.min.css\");\n",
       "      Bokeh.embed.inject_css(\"https://cdn.pydata.org/bokeh/release/bokeh-widgets-0.13.0.min.css\");\n",
       "      console.log(\"Bokeh: injecting CSS: https://cdn.pydata.org/bokeh/release/bokeh-tables-0.13.0.min.css\");\n",
       "      Bokeh.embed.inject_css(\"https://cdn.pydata.org/bokeh/release/bokeh-tables-0.13.0.min.css\");\n",
       "    }\n",
       "  ];\n",
       "\n",
       "  function run_inline_js() {\n",
       "    \n",
       "    if ((root.Bokeh !== undefined) || (force === true)) {\n",
       "      for (var i = 0; i < inline_js.length; i++) {\n",
       "        inline_js[i].call(root, root.Bokeh);\n",
       "      }if (force === true) {\n",
       "        display_loaded();\n",
       "      }} else if (Date.now() < root._bokeh_timeout) {\n",
       "      setTimeout(run_inline_js, 100);\n",
       "    } else if (!root._bokeh_failed_load) {\n",
       "      console.log(\"Bokeh: BokehJS failed to load within specified timeout.\");\n",
       "      root._bokeh_failed_load = true;\n",
       "    } else if (force !== true) {\n",
       "      var cell = $(document.getElementById(\"79984c14-3bb6-4370-b31b-c2009e2bb6c4\")).parents('.cell').data().cell;\n",
       "      cell.output_area.append_execute_result(NB_LOAD_WARNING)\n",
       "    }\n",
       "\n",
       "  }\n",
       "\n",
       "  if (root._bokeh_is_loading === 0) {\n",
       "    console.log(\"Bokeh: BokehJS loaded, going straight to plotting\");\n",
       "    run_inline_js();\n",
       "  } else {\n",
       "    load_libs(js_urls, function() {\n",
       "      console.log(\"Bokeh: BokehJS plotting callback run at\", now());\n",
       "      run_inline_js();\n",
       "    });\n",
       "  }\n",
       "}(window));"
      ],
      "application/vnd.bokehjs_load.v0+json": "\n(function(root) {\n  function now() {\n    return new Date();\n  }\n\n  var force = true;\n\n  if (typeof (root._bokeh_onload_callbacks) === \"undefined\" || force === true) {\n    root._bokeh_onload_callbacks = [];\n    root._bokeh_is_loading = undefined;\n  }\n\n  \n\n  \n  if (typeof (root._bokeh_timeout) === \"undefined\" || force === true) {\n    root._bokeh_timeout = Date.now() + 5000;\n    root._bokeh_failed_load = false;\n  }\n\n  var NB_LOAD_WARNING = {'data': {'text/html':\n     \"<div style='background-color: #fdd'>\\n\"+\n     \"<p>\\n\"+\n     \"BokehJS does not appear to have successfully loaded. If loading BokehJS from CDN, this \\n\"+\n     \"may be due to a slow or bad network connection. Possible fixes:\\n\"+\n     \"</p>\\n\"+\n     \"<ul>\\n\"+\n     \"<li>re-rerun `output_notebook()` to attempt to load from CDN again, or</li>\\n\"+\n     \"<li>use INLINE resources instead, as so:</li>\\n\"+\n     \"</ul>\\n\"+\n     \"<code>\\n\"+\n     \"from bokeh.resources import INLINE\\n\"+\n     \"output_notebook(resources=INLINE)\\n\"+\n     \"</code>\\n\"+\n     \"</div>\"}};\n\n  function display_loaded() {\n    var el = document.getElementById(\"79984c14-3bb6-4370-b31b-c2009e2bb6c4\");\n    if (el != null) {\n      el.textContent = \"BokehJS is loading...\";\n    }\n    if (root.Bokeh !== undefined) {\n      if (el != null) {\n        el.textContent = \"BokehJS \" + root.Bokeh.version + \" successfully loaded.\";\n      }\n    } else if (Date.now() < root._bokeh_timeout) {\n      setTimeout(display_loaded, 100)\n    }\n  }\n\n\n  function run_callbacks() {\n    try {\n      root._bokeh_onload_callbacks.forEach(function(callback) { callback() });\n    }\n    finally {\n      delete root._bokeh_onload_callbacks\n    }\n    console.info(\"Bokeh: all callbacks have finished\");\n  }\n\n  function load_libs(js_urls, callback) {\n    root._bokeh_onload_callbacks.push(callback);\n    if (root._bokeh_is_loading > 0) {\n      console.log(\"Bokeh: BokehJS is being loaded, scheduling callback at\", now());\n      return null;\n    }\n    if (js_urls == null || js_urls.length === 0) {\n      run_callbacks();\n      return null;\n    }\n    console.log(\"Bokeh: BokehJS not loaded, scheduling load and callback at\", now());\n    root._bokeh_is_loading = js_urls.length;\n    for (var i = 0; i < js_urls.length; i++) {\n      var url = js_urls[i];\n      var s = document.createElement('script');\n      s.src = url;\n      s.async = false;\n      s.onreadystatechange = s.onload = function() {\n        root._bokeh_is_loading--;\n        if (root._bokeh_is_loading === 0) {\n          console.log(\"Bokeh: all BokehJS libraries loaded\");\n          run_callbacks()\n        }\n      };\n      s.onerror = function() {\n        console.warn(\"failed to load library \" + url);\n      };\n      console.log(\"Bokeh: injecting script tag for BokehJS library: \", url);\n      document.getElementsByTagName(\"head\")[0].appendChild(s);\n    }\n  };var element = document.getElementById(\"79984c14-3bb6-4370-b31b-c2009e2bb6c4\");\n  if (element == null) {\n    console.log(\"Bokeh: ERROR: autoload.js configured with elementid '79984c14-3bb6-4370-b31b-c2009e2bb6c4' but no matching script tag was found. \")\n    return false;\n  }\n\n  var js_urls = [\"https://cdn.pydata.org/bokeh/release/bokeh-0.13.0.min.js\", \"https://cdn.pydata.org/bokeh/release/bokeh-widgets-0.13.0.min.js\", \"https://cdn.pydata.org/bokeh/release/bokeh-tables-0.13.0.min.js\", \"https://cdn.pydata.org/bokeh/release/bokeh-gl-0.13.0.min.js\"];\n\n  var inline_js = [\n    function(Bokeh) {\n      Bokeh.set_log_level(\"info\");\n    },\n    \n    function(Bokeh) {\n      \n    },\n    function(Bokeh) {\n      console.log(\"Bokeh: injecting CSS: https://cdn.pydata.org/bokeh/release/bokeh-0.13.0.min.css\");\n      Bokeh.embed.inject_css(\"https://cdn.pydata.org/bokeh/release/bokeh-0.13.0.min.css\");\n      console.log(\"Bokeh: injecting CSS: https://cdn.pydata.org/bokeh/release/bokeh-widgets-0.13.0.min.css\");\n      Bokeh.embed.inject_css(\"https://cdn.pydata.org/bokeh/release/bokeh-widgets-0.13.0.min.css\");\n      console.log(\"Bokeh: injecting CSS: https://cdn.pydata.org/bokeh/release/bokeh-tables-0.13.0.min.css\");\n      Bokeh.embed.inject_css(\"https://cdn.pydata.org/bokeh/release/bokeh-tables-0.13.0.min.css\");\n    }\n  ];\n\n  function run_inline_js() {\n    \n    if ((root.Bokeh !== undefined) || (force === true)) {\n      for (var i = 0; i < inline_js.length; i++) {\n        inline_js[i].call(root, root.Bokeh);\n      }if (force === true) {\n        display_loaded();\n      }} else if (Date.now() < root._bokeh_timeout) {\n      setTimeout(run_inline_js, 100);\n    } else if (!root._bokeh_failed_load) {\n      console.log(\"Bokeh: BokehJS failed to load within specified timeout.\");\n      root._bokeh_failed_load = true;\n    } else if (force !== true) {\n      var cell = $(document.getElementById(\"79984c14-3bb6-4370-b31b-c2009e2bb6c4\")).parents('.cell').data().cell;\n      cell.output_area.append_execute_result(NB_LOAD_WARNING)\n    }\n\n  }\n\n  if (root._bokeh_is_loading === 0) {\n    console.log(\"Bokeh: BokehJS loaded, going straight to plotting\");\n    run_inline_js();\n  } else {\n    load_libs(js_urls, function() {\n      console.log(\"Bokeh: BokehJS plotting callback run at\", now());\n      run_inline_js();\n    });\n  }\n}(window));"
     },
     "metadata": {},
     "output_type": "display_data"
    }
   ],
   "source": [
    "import pandas as pd\n",
    "import numpy as np\n",
    "import re\n",
    "import os\n",
    "from math import pi\n",
    "from bokeh.io import show\n",
    "from bokeh.models import LinearColorMapper, LogColorMapper, BasicTicker, PrintfTickFormatter, ColorBar\n",
    "from bokeh import plotting\n",
    "from bokeh.palettes import Viridis256, magma, RdYlGn, RdYlBu, Plasma256, Viridis256, Greens\n",
    "plotting.output_notebook()"
   ]
  },
  {
   "cell_type": "code",
   "execution_count": 3,
   "metadata": {
    "ExecuteTime": {
     "end_time": "2018-10-04T21:18:56.297516Z",
     "start_time": "2018-10-04T21:18:55.474334Z"
    },
    "slideshow": {
     "slide_type": "skip"
    }
   },
   "outputs": [
    {
     "name": "stdout",
     "output_type": "stream",
     "text": [
      "Wall time: 923 ms\n"
     ]
    }
   ],
   "source": [
    "%%time\n",
    "row_len = 2_000_000\n",
    "h5_dir = r'c:\\adsb'\n",
    "h5_file = os.path.join(h5_dir, '2018-06-24.h5')\n",
    "pickle_name = f'{os.path.basename(h5_file)}-{row_len}.p'\n",
    "pickle_path = os.path.join(os.getcwd(), 'data', pickle_name)\n",
    "if os.path.exists(pickle_path):\n",
    "    df = pd.read_pickle(pickle_path)\n",
    "else:\n",
    "    with pd.HDFStore(h5_file) as store:\n",
    "        columns_to_keep = ['Year', 'Cou', 'Icao', 'Op', 'Type']\n",
    "        df = store.select('data', stop = row_len, columns=columns_to_keep)\n",
    "        \n",
    "    df = df.sample(frac=0.5, replace=True, random_state=1)\n",
    "    \n",
    "    main_ops = ['Southwest', 'American', 'Delta', 'SkyWest', 'Air Canada', \n",
    "            'Virgin', 'United','JetBlue', 'Spirit', 'Frontier']\n",
    "    for o in main_ops:\n",
    "        df.loc[df.Op.fillna('Other').str.lower().str.contains(o.lower()), 'Op'] = o\n",
    "    df.loc[~df.Op.isin(main_ops), 'Op'] = 'Other'\n",
    "    df = df.astype({'Op':'category'})\n",
    "\n",
    "    df = df.dropna(subset=['Cou', 'Icao'], how='any')\n",
    "    df.to_pickle(pickle_path)"
   ]
  },
  {
   "cell_type": "markdown",
   "metadata": {
    "slideshow": {
     "slide_type": "slide"
    }
   },
   "source": [
    "## Country of Registration vs Purchase Year"
   ]
  },
  {
   "cell_type": "code",
   "execution_count": 4,
   "metadata": {
    "ExecuteTime": {
     "end_time": "2018-10-04T21:18:56.979621Z",
     "start_time": "2018-10-04T21:18:56.845632Z"
    },
    "slideshow": {
     "slide_type": "subslide"
    }
   },
   "outputs": [
    {
     "data": {
      "text/html": [
       "\n",
       "\n",
       "\n",
       "\n",
       "\n",
       "\n",
       "  <div class=\"bk-root\" id=\"137959c3-de42-41a3-9541-e1a0258ad336\"></div>\n"
      ]
     },
     "metadata": {},
     "output_type": "display_data"
    },
    {
     "data": {
      "application/javascript": [
       "(function(root) {\n",
       "  function embed_document(root) {\n",
       "    \n",
       "  var docs_json = {\"ccf203c8-820a-45db-84ae-a3d32f23da30\":{\"roots\":{\"references\":[{\"attributes\":{},\"id\":\"caf3672a-fb76-4db9-89e9-75575b40b1ba\",\"type\":\"SaveTool\"},{\"attributes\":{\"callback\":null,\"data\":{\"Cou\":[\"Australia\",\"Bermuda\",\"Brazil\",\"Canada\",\"China\",\"Indonesia\",\"Japan\",\"Malaysia\",\"Mexico\",\"Singapore\",\"Taiwan\",\"Thailand\",\"Turkey\",\"United Kingdom\",\"United States\",\"Australia\",\"Bermuda\",\"Brazil\",\"Canada\",\"China\",\"Indonesia\",\"Japan\",\"Malaysia\",\"Mexico\",\"Singapore\",\"Taiwan\",\"Thailand\",\"Turkey\",\"United Kingdom\",\"United States\",\"Australia\",\"Bermuda\",\"Brazil\",\"Canada\",\"China\",\"Indonesia\",\"Japan\",\"Malaysia\",\"Mexico\",\"Singapore\",\"Taiwan\",\"Thailand\",\"Turkey\",\"United Kingdom\",\"United States\",\"Australia\",\"Bermuda\",\"Brazil\",\"Canada\",\"China\",\"Indonesia\",\"Japan\",\"Malaysia\",\"Mexico\",\"Singapore\",\"Taiwan\",\"Thailand\",\"Turkey\",\"United Kingdom\",\"United States\",\"Australia\",\"Bermuda\",\"Brazil\",\"Canada\",\"China\",\"Indonesia\",\"Japan\",\"Malaysia\",\"Mexico\",\"Singapore\",\"Taiwan\",\"Thailand\",\"Turkey\",\"United Kingdom\",\"United States\",\"Australia\",\"Bermuda\",\"Brazil\",\"Canada\",\"China\",\"Indonesia\",\"Japan\",\"Malaysia\",\"Mexico\",\"Singapore\",\"Taiwan\",\"Thailand\",\"Turkey\",\"United Kingdom\",\"United States\",\"Australia\",\"Bermuda\",\"Brazil\",\"Canada\",\"China\",\"Indonesia\",\"Japan\",\"Malaysia\",\"Mexico\",\"Singapore\",\"Taiwan\",\"Thailand\",\"Turkey\",\"United Kingdom\",\"United States\",\"Australia\",\"Bermuda\",\"Brazil\",\"Canada\",\"China\",\"Indonesia\",\"Japan\",\"Malaysia\",\"Mexico\",\"Singapore\",\"Taiwan\",\"Thailand\",\"Turkey\",\"United Kingdom\",\"United States\",\"Australia\",\"Bermuda\",\"Brazil\",\"Canada\",\"China\",\"Indonesia\",\"Japan\",\"Malaysia\",\"Mexico\",\"Singapore\",\"Taiwan\",\"Thailand\",\"Turkey\",\"United Kingdom\",\"United States\",\"Australia\",\"Bermuda\",\"Brazil\",\"Canada\",\"China\",\"Indonesia\",\"Japan\",\"Malaysia\",\"Mexico\",\"Singapore\",\"Taiwan\",\"Thailand\",\"Turkey\",\"United Kingdom\",\"United States\",\"Australia\",\"Bermuda\",\"Brazil\",\"Canada\",\"China\",\"Indonesia\",\"Japan\",\"Malaysia\",\"Mexico\",\"Singapore\",\"Taiwan\",\"Thailand\",\"Turkey\",\"United Kingdom\",\"United States\",\"Australia\",\"Bermuda\",\"Brazil\",\"Canada\",\"China\",\"Indonesia\",\"Japan\",\"Malaysia\",\"Mexico\",\"Singapore\",\"Taiwan\",\"Thailand\",\"Turkey\",\"United Kingdom\",\"United States\",\"Australia\",\"Bermuda\",\"Brazil\",\"Canada\",\"China\",\"Indonesia\",\"Japan\",\"Malaysia\",\"Mexico\",\"Singapore\",\"Taiwan\",\"Thailand\",\"Turkey\",\"United Kingdom\",\"United States\",\"Australia\",\"Bermuda\",\"Brazil\",\"Canada\",\"China\",\"Indonesia\",\"Japan\",\"Malaysia\",\"Mexico\",\"Singapore\",\"Taiwan\",\"Thailand\",\"Turkey\",\"United Kingdom\",\"United States\",\"Australia\",\"Bermuda\",\"Brazil\",\"Canada\",\"China\",\"Indonesia\",\"Japan\",\"Malaysia\",\"Mexico\",\"Singapore\",\"Taiwan\",\"Thailand\",\"Turkey\",\"United Kingdom\",\"United States\",\"Australia\",\"Bermuda\",\"Brazil\",\"Canada\",\"China\",\"Indonesia\",\"Japan\",\"Malaysia\",\"Mexico\",\"Singapore\",\"Taiwan\",\"Thailand\",\"Turkey\",\"United Kingdom\",\"United States\",\"Australia\",\"Bermuda\",\"Brazil\",\"Canada\",\"China\",\"Indonesia\",\"Japan\",\"Malaysia\",\"Mexico\",\"Singapore\",\"Taiwan\",\"Thailand\",\"Turkey\",\"United Kingdom\",\"United States\",\"Australia\",\"Bermuda\",\"Brazil\",\"Canada\",\"China\",\"Indonesia\",\"Japan\",\"Malaysia\",\"Mexico\",\"Singapore\",\"Taiwan\",\"Thailand\",\"Turkey\",\"United Kingdom\",\"United States\",\"Australia\",\"Bermuda\",\"Brazil\",\"Canada\",\"China\",\"Indonesia\",\"Japan\",\"Malaysia\",\"Mexico\",\"Singapore\",\"Taiwan\",\"Thailand\",\"Turkey\",\"United Kingdom\",\"United States\",\"Australia\",\"Bermuda\",\"Brazil\",\"Canada\",\"China\",\"Indonesia\",\"Japan\",\"Malaysia\",\"Mexico\",\"Singapore\",\"Taiwan\",\"Thailand\",\"Turkey\",\"United Kingdom\",\"United States\"],\"Count\":{\"__ndarray__\":\"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\",\"dtype\":\"float64\",\"shape\":[300]},\"Percentage\":{\"__ndarray__\":\"2eM8BUheAEAV+awbTJEhQAAAAAAAAAAAajHYEY5NA0CaZxupfbzKPywnHeCaxvY/TlYpJwoy+z8AAAAAAAAAAAAAAAAAAAAAAAAAAAAAAACvXr169erlP2WTTTbZZOM/JlcQkyuICUDxqzGRHqgcQGvDNHfBXxVAVIDkBRFqAkB2gynyWTcAQFZVVVVV1QRA40Egbb286T+n+vfz7WTXPywnHeCaxtY/3o4bGlwh8j8AAAAAAAAAAAAAAAAAwAJAAAAAAAAAAACvXr169er1P2WTTTbZZOM/VxCTK4jJDUBNpAcqZ7cAQBbP/VYhjxVA2eM8BUheAEB2gynyWTcQQFZVVVVV1QRAKTRk9hVgFECaZxupfbzKPywnHeCaxuY/AAAAAAAAAAAAAAAAAAAAAAAAAAAAAOk/Pvjggw8+CECvXr169er1PxdddNFFF/0/xOQKYnIFAUDK2S38akwUQOUbg15s3hxAkU44hvVvE0CSz7rBFPkmQAAAAAAAAAlArC5MLQY7EkC0jdQ+Xg3kPywnHeCaxvY/ceTlo97tCEAAAAAAAAAAAAAAAAAAAPk/Pvjggw8+6D+vXr169eoFQGWTTTbZZOM/xOQKYnIFAUBNpAcqZ7cAQJZgqyYx1hVAQfKCCDWZGkB2gynyWTcQQKqqqqqqquA/ZTwIpK2XB0D++/l2sovxPywnHeCaxtY/lnKiILOpBkAAAAAAAAAAAAAAAAAAAAAAL7rooosuAkCvXr169er1PxdddNFFF/0/xOQKYnIF8T9ID1TObuEHQBasorcBARVAfcDWiBmfG0C0bjBFPusSQKqqqqqqquA/ajHYEY5NA0Cn+vfz7WT3PwAAAAAAAAAABDqwLWG6/z8AAAAAAAAAAAAAAAAAAOk/TjbZZJNNDkBbtmzZsmULQBdddNFFFw1AxOQKYnIF4T+c3cKvxkQKQJTJvASQgBdAAyQviFCTGUDyWTeYIp8FQKqqqqqqqvA/40Egbb28GUBFaJzq388HQCwnHeCaxuY/uQBfnYdlBEBdVgyU8EbzPwAAAAAAAPk/Pvjggw8+CECvXr169eoVQD744IMPPhhAxOQKYnIF8T+hcnYLvxoDQJZgqyYx1hVAQfKCCDWZGkDyWTeYIp8FQAAAAAAAwBJAIErEGlX0HEA61b+fbycLQGLdFSj0FPE/3o4bGlwhEkCKgRLeaOr8PwAAAAAAwBJAPvjggw8+CEBbtmzZsmULQD744IMPPghAJlcQkyuICUB2C78aE+kRQJprLctT8xFAFrKQhSxkEUDyWTeYIp8VQFVVVVVVFRtAyjIeBNLWI0Dx6V6OVYAQQGLdFSj0FPE/KMhsqjV2DUBdVgyU8EYDQAAAAAAAIBxAPvjggw8++D+FChUqVKgYQBdddNFFFw1AxOQKYnIFEUChcnYLvxoDQO6lGioz4BJA+Vx+ieKqHUB2gynyWTcgQKuqqqqqKh1ALik0ZPYVEEAHi9A41b8PQPlwJJhBePw/y0e923FDE0DA9pDLioEaQAAAAAAA4BVATjbZZJNNDkBbtmzZsmULQGWTTTbZZBNAJlcQkyuIGUD0QOXsFn4FQBkgNjqDyBJAdPkliqu2H0C0bjBFPusiQAAAAAAAABlA6Dbw2p1yFUAtRGYZJrkVQCj0FFG/XiBAF4EObEuYHkCKgRLeaOoMQAAAAAAAAAAAL7rooosuEkCvXr169er1P6uqqqqqqhpAxOQKYnIFAUBNpAcqZ7cQQOeycYANNAtAh4eHh4eHF0B2gynyWTcAQFVVVVVVFRtA40Egbb28CUBRejfTPNsYQJ/5Ho4EMyhAOw/L6B9UHED3kMuKgRIiQAAAAAAAwAJAL7rooosuIkCvXr169erlPz744IMPPghAJlcQkyuIGUBNpAcqZ7cAQOxU4kbRpgVAFrKQhSxkIUC0bjBFPusSQAAAAAAAABlA7SvASH4oEUAgsYnOtRAZQPlwJJhBeBxAF4EObEuYHkD3kMuKgRIiQAAAAAAAAPk/RRdddNFFG0DZsmXLli0TQD744IMPPghAqO9s1Hc2JEChcnYLvxoTQD4bPCMvzAhANZm6xR7nIUAV+awbTJEhQFZVVVVVtSFA6Dbw2p1yBUDXQmSWYZIbQPQ9HAlmECZAMd0vfpL2JEBZMVDCG00pQAAAAAAAMCFAL7rooosuEkBbtmzZsmULQBdddNFFFx1AVxCTK4jJHUBNpAcqZ7cQQDynqKCtBAtAAyQviFCTGUAV+awbTJEhQKqqqqqq6iZA6Dbw2p1yFUDMMkxyK8EhQLpUGzIxWiVA6MC2hOl+KUAlvNHU+bUrQAAAAAAAMCFAPvjggw8+KEADBw4cOHAgQBdddNFFFy1Av7NR39moG0DK2S38akwUQO6lGioz4BJAVIDkBRFqEkC0bjBFPusiQFZVVVVV1RRA7SvASH4oEUAtRGYZJrklQN0VKPQUUS9ABDqwLWG6H0DeaOr82kMwQAAAAAAAUCRAL7rooosuIkBw4MCBAwcqQHTRRRdddClAxOQKYnIFIUDiV2MiPVAhQBAtjZBdHBtA2eM8BUheAEDyWTeYIp/lP1ZVVVVVJTBACzCSH0rEIkDk1UDh0TooQNniH2U56ShAp7kAX52HFUBdVgyU8EYTQAAAAAAAAClAyiabbLLJLEADBw4cOHAwQIMPPvjggx9AVxCTK4jJLUC38KsxkR4gQDkzFR4sPR1Au44qCf6k/D/yWTeYIp/lP6qqqqqq6hZA7SvASH4oIUAtRGYZJrklQCj0FFG/XiBAhCtE4sjLF0CKgRLeaOocQAAAAAAAsC1AL7rooosuIkBbtmzZsmUrQC+66KKLLiJAjvrORn1nJ0AaE+mBytkdQGly/JNfJhhAxVXbB2yNCEDyWTeYIp/1P6qqqqqqqhBA40Egbb28GUDYw6X4dC8nQCwnHeCaxhZAOw/L6B9UHEBdVgyU8EYjQAAAAAAAaDBARRdddNFFG0AxYsSIESMeQIMPPvjggx9AxOQKYnIFEUBc+NWYSA8sQJDhlf+M8RtA2eM8BUhe8D8AAAAAAAAAAAAAAAAAAAAArC5MLQY7EkAWIDBIbKIDQAAAAAAAAAAATlYpJwoy+z+KgRLeaOr8PwAAAAAAAOk/L7rooosuAkCvXr169er1P2WTTTbZZPM/AAAAAAAAAADHRHqgcnYbQDynqKCtBPs/\",\"dtype\":\"float64\",\"shape\":[300]},\"Total\":{\"__ndarray__\":\"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\",\"dtype\":\"float64\",\"shape\":[300]},\"Year\":[\"1999\",\"1999\",\"1999\",\"1999\",\"1999\",\"1999\",\"1999\",\"1999\",\"1999\",\"1999\",\"1999\",\"1999\",\"1999\",\"1999\",\"1999\",\"2000\",\"2000\",\"2000\",\"2000\",\"2000\",\"2000\",\"2000\",\"2000\",\"2000\",\"2000\",\"2000\",\"2000\",\"2000\",\"2000\",\"2000\",\"2001\",\"2001\",\"2001\",\"2001\",\"2001\",\"2001\",\"2001\",\"2001\",\"2001\",\"2001\",\"2001\",\"2001\",\"2001\",\"2001\",\"2001\",\"2002\",\"2002\",\"2002\",\"2002\",\"2002\",\"2002\",\"2002\",\"2002\",\"2002\",\"2002\",\"2002\",\"2002\",\"2002\",\"2002\",\"2002\",\"2003\",\"2003\",\"2003\",\"2003\",\"2003\",\"2003\",\"2003\",\"2003\",\"2003\",\"2003\",\"2003\",\"2003\",\"2003\",\"2003\",\"2003\",\"2004\",\"2004\",\"2004\",\"2004\",\"2004\",\"2004\",\"2004\",\"2004\",\"2004\",\"2004\",\"2004\",\"2004\",\"2004\",\"2004\",\"2004\",\"2005\",\"2005\",\"2005\",\"2005\",\"2005\",\"2005\",\"2005\",\"2005\",\"2005\",\"2005\",\"2005\",\"2005\",\"2005\",\"2005\",\"2005\",\"2006\",\"2006\",\"2006\",\"2006\",\"2006\",\"2006\",\"2006\",\"2006\",\"2006\",\"2006\",\"2006\",\"2006\",\"2006\",\"2006\",\"2006\",\"2007\",\"2007\",\"2007\",\"2007\",\"2007\",\"2007\",\"2007\",\"2007\",\"2007\",\"2007\",\"2007\",\"2007\",\"2007\",\"2007\",\"2007\",\"2008\",\"2008\",\"2008\",\"2008\",\"2008\",\"2008\",\"2008\",\"2008\",\"2008\",\"2008\",\"2008\",\"2008\",\"2008\",\"2008\",\"2008\",\"2009\",\"2009\",\"2009\",\"2009\",\"2009\",\"2009\",\"2009\",\"2009\",\"2009\",\"2009\",\"2009\",\"2009\",\"2009\",\"2009\",\"2009\",\"2010\",\"2010\",\"2010\",\"2010\",\"2010\",\"2010\",\"2010\",\"2010\",\"2010\",\"2010\",\"2010\",\"2010\",\"2010\",\"2010\",\"2010\",\"2011\",\"2011\",\"2011\",\"2011\",\"2011\",\"2011\",\"2011\",\"2011\",\"2011\",\"2011\",\"2011\",\"2011\",\"2011\",\"2011\",\"2011\",\"2012\",\"2012\",\"2012\",\"2012\",\"2012\",\"2012\",\"2012\",\"2012\",\"2012\",\"2012\",\"2012\",\"2012\",\"2012\",\"2012\",\"2012\",\"2013\",\"2013\",\"2013\",\"2013\",\"2013\",\"2013\",\"2013\",\"2013\",\"2013\",\"2013\",\"2013\",\"2013\",\"2013\",\"2013\",\"2013\",\"2014\",\"2014\",\"2014\",\"2014\",\"2014\",\"2014\",\"2014\",\"2014\",\"2014\",\"2014\",\"2014\",\"2014\",\"2014\",\"2014\",\"2014\",\"2015\",\"2015\",\"2015\",\"2015\",\"2015\",\"2015\",\"2015\",\"2015\",\"2015\",\"2015\",\"2015\",\"2015\",\"2015\",\"2015\",\"2015\",\"2016\",\"2016\",\"2016\",\"2016\",\"2016\",\"2016\",\"2016\",\"2016\",\"2016\",\"2016\",\"2016\",\"2016\",\"2016\",\"2016\",\"2016\",\"2017\",\"2017\",\"2017\",\"2017\",\"2017\",\"2017\",\"2017\",\"2017\",\"2017\",\"2017\",\"2017\",\"2017\",\"2017\",\"2017\",\"2017\",\"2018\",\"2018\",\"2018\",\"2018\",\"2018\",\"2018\",\"2018\",\"2018\",\"2018\",\"2018\",\"2018\",\"2018\",\"2018\",\"2018\",\"2018\"],\"index\":[0,1,2,3,4,5,6,7,8,9,10,11,12,13,14,15,16,17,18,19,20,21,22,23,24,25,26,27,28,29,30,31,32,33,34,35,36,37,38,39,40,41,42,43,44,45,46,47,48,49,50,51,52,53,54,55,56,57,58,59,60,61,62,63,64,65,66,67,68,69,70,71,72,73,74,75,76,77,78,79,80,81,82,83,84,85,86,87,88,89,90,91,92,93,94,95,96,97,98,99,100,101,102,103,104,105,106,107,108,109,110,111,112,113,114,115,116,117,118,119,120,121,122,123,124,125,126,127,128,129,130,131,132,133,134,135,136,137,138,139,140,141,142,143,144,145,146,147,148,149,150,151,152,153,154,155,156,157,158,159,160,161,162,163,164,165,166,167,168,169,170,171,172,173,174,175,176,177,178,179,180,181,182,183,184,185,186,187,188,189,190,191,192,193,194,195,196,197,198,199,200,201,202,203,204,205,206,207,208,209,210,211,212,213,214,215,216,217,218,219,220,221,222,223,224,225,226,227,228,229,230,231,232,233,234,235,236,237,238,239,240,241,242,243,244,245,246,247,248,249,250,251,252,253,254,255,256,257,258,259,260,261,262,263,264,265,266,267,268,269,270,271,272,273,274,275,276,277,278,279,280,281,282,283,284,285,286,287,288,289,290,291,292,293,294,295,296,297,298,299]},\"selected\":{\"id\":\"79b1e08b-095f-451b-a901-0b25d669318a\",\"type\":\"Selection\"},\"selection_policy\":{\"id\":\"9e214686-5e1d-4ed5-9937-82b602eba1d4\",\"type\":\"UnionRenderers\"}},\"id\":\"a1c5973e-0d0b-467b-88c7-02972061e30a\",\"type\":\"ColumnDataSource\"},{\"attributes\":{\"callback\":null,\"factors\":[\"1999\",\"2000\",\"2001\",\"2002\",\"2003\",\"2004\",\"2005\",\"2006\",\"2007\",\"2008\",\"2009\",\"2010\",\"2011\",\"2012\",\"2013\",\"2014\",\"2015\",\"2016\",\"2017\",\"2018\"]},\"id\":\"de529672-026f-4160-9c26-0aa9eb0f2d62\",\"type\":\"FactorRange\"},{\"attributes\":{\"active_drag\":\"auto\",\"active_inspect\":\"auto\",\"active_multi\":null,\"active_scroll\":\"auto\",\"active_tap\":\"auto\",\"tools\":[{\"id\":\"9bebf429-e626-421b-956b-347ef4a5d9e5\",\"type\":\"HoverTool\"},{\"id\":\"caf3672a-fb76-4db9-89e9-75575b40b1ba\",\"type\":\"SaveTool\"}]},\"id\":\"67ce3b04-26d3-4f6c-b38f-cbc71accad07\",\"type\":\"Toolbar\"},{\"attributes\":{\"color_mapper\":{\"id\":\"e090c5bb-1634-4a42-a899-72edc29cbe90\",\"type\":\"LogColorMapper\"},\"formatter\":{\"id\":\"2a467791-00af-4960-b3a9-fabba1890742\",\"type\":\"BasicTickFormatter\"},\"label_standoff\":6,\"location\":[0,0],\"major_label_text_font_size\":{\"value\":\"12pt\"},\"plot\":{\"id\":\"257f600e-f8b4-499f-84a7-e24acd42a56e\",\"subtype\":\"Figure\",\"type\":\"Plot\"},\"ticker\":{\"id\":\"1d85ddf3-7c42-42de-adae-6c0285bae0af\",\"type\":\"BasicTicker\"}},\"id\":\"80222d5f-1b3e-42db-98d9-5a4154a32db8\",\"type\":\"ColorBar\"},{\"attributes\":{},\"id\":\"28e7446f-8618-4a83-8b73-1365a056e866\",\"type\":\"CategoricalScale\"},{\"attributes\":{\"source\":{\"id\":\"a1c5973e-0d0b-467b-88c7-02972061e30a\",\"type\":\"ColumnDataSource\"}},\"id\":\"4cf9c848-594c-4c69-aab5-fd0085165f2d\",\"type\":\"CDSView\"},{\"attributes\":{\"callback\":null,\"factors\":[\"United States\",\"United Kingdom\",\"Turkey\",\"Thailand\",\"Taiwan\",\"Singapore\",\"Mexico\",\"Malaysia\",\"Japan\",\"Indonesia\",\"China\",\"Canada\",\"Brazil\",\"Bermuda\",\"Australia\"]},\"id\":\"ad6a0892-6c5f-4567-975c-897711d4edfe\",\"type\":\"FactorRange\"},{\"attributes\":{},\"id\":\"79b1e08b-095f-451b-a901-0b25d669318a\",\"type\":\"Selection\"},{\"attributes\":{},\"id\":\"ba420770-36c8-478c-bdfc-895a86a7636c\",\"type\":\"CategoricalScale\"},{\"attributes\":{\"data_source\":{\"id\":\"a1c5973e-0d0b-467b-88c7-02972061e30a\",\"type\":\"ColumnDataSource\"},\"glyph\":{\"id\":\"78e3b2a0-bb19-4b9e-9265-b28f03768774\",\"type\":\"Rect\"},\"hover_glyph\":null,\"muted_glyph\":null,\"nonselection_glyph\":{\"id\":\"b4725fb9-b459-4673-b13b-cbf2319c9cf3\",\"type\":\"Rect\"},\"selection_glyph\":null,\"view\":{\"id\":\"4cf9c848-594c-4c69-aab5-fd0085165f2d\",\"type\":\"CDSView\"}},\"id\":\"72fa39ec-ae2f-46c0-a1b9-915cb02069bd\",\"type\":\"GlyphRenderer\"},{\"attributes\":{\"axis_line_color\":{\"value\":null},\"formatter\":{\"id\":\"7485986b-1bd1-4d71-aa8a-fe06b940f5b7\",\"type\":\"CategoricalTickFormatter\"},\"major_label_standoff\":0,\"major_label_text_font_size\":{\"value\":\"12pt\"},\"major_tick_line_color\":{\"value\":null},\"plot\":{\"id\":\"257f600e-f8b4-499f-84a7-e24acd42a56e\",\"subtype\":\"Figure\",\"type\":\"Plot\"},\"ticker\":{\"id\":\"253a490e-77a3-4192-b6b9-026c8fb4429e\",\"type\":\"CategoricalTicker\"}},\"id\":\"3df4801d-b76b-4ecb-9f35-76d97c82711f\",\"type\":\"CategoricalAxis\"},{\"attributes\":{},\"id\":\"2a467791-00af-4960-b3a9-fabba1890742\",\"type\":\"BasicTickFormatter\"},{\"attributes\":{\"axis_line_color\":{\"value\":null},\"formatter\":{\"id\":\"763014fe-6b9f-4ae3-9926-b9afc9842d77\",\"type\":\"CategoricalTickFormatter\"},\"major_label_orientation\":1.0471975511965976,\"major_label_standoff\":0,\"major_label_text_font_size\":{\"value\":\"12pt\"},\"major_tick_line_color\":{\"value\":null},\"plot\":{\"id\":\"257f600e-f8b4-499f-84a7-e24acd42a56e\",\"subtype\":\"Figure\",\"type\":\"Plot\"},\"ticker\":{\"id\":\"9c5ff6f3-1063-42cb-bb30-c84e457c24ba\",\"type\":\"CategoricalTicker\"}},\"id\":\"c85e7552-73ae-4a6b-835e-c660400ef28d\",\"type\":\"CategoricalAxis\"},{\"attributes\":{},\"id\":\"7485986b-1bd1-4d71-aa8a-fe06b940f5b7\",\"type\":\"CategoricalTickFormatter\"},{\"attributes\":{},\"id\":\"9c5ff6f3-1063-42cb-bb30-c84e457c24ba\",\"type\":\"CategoricalTicker\"},{\"attributes\":{},\"id\":\"9e214686-5e1d-4ed5-9937-82b602eba1d4\",\"type\":\"UnionRenderers\"},{\"attributes\":{\"grid_line_color\":{\"value\":null},\"plot\":{\"id\":\"257f600e-f8b4-499f-84a7-e24acd42a56e\",\"subtype\":\"Figure\",\"type\":\"Plot\"},\"ticker\":{\"id\":\"9c5ff6f3-1063-42cb-bb30-c84e457c24ba\",\"type\":\"CategoricalTicker\"}},\"id\":\"e7d648db-4a7c-45c5-bf5c-bae7cd9e2647\",\"type\":\"Grid\"},{\"attributes\":{\"fill_color\":{\"field\":\"Percentage\",\"transform\":{\"id\":\"e090c5bb-1634-4a42-a899-72edc29cbe90\",\"type\":\"LogColorMapper\"}},\"height\":{\"units\":\"data\",\"value\":1},\"line_color\":{\"value\":\"white\"},\"width\":{\"units\":\"data\",\"value\":1},\"x\":{\"field\":\"Year\"},\"y\":{\"field\":\"Cou\"}},\"id\":\"78e3b2a0-bb19-4b9e-9265-b28f03768774\",\"type\":\"Rect\"},{\"attributes\":{\"high\":16.43835616438356,\"low\":1,\"palette\":[\"#0C0786\",\"#100787\",\"#130689\",\"#15068A\",\"#18068B\",\"#1B068C\",\"#1D068D\",\"#1F058E\",\"#21058F\",\"#230590\",\"#250591\",\"#270592\",\"#290593\",\"#2B0594\",\"#2D0494\",\"#2F0495\",\"#310496\",\"#330497\",\"#340498\",\"#360498\",\"#380499\",\"#3A049A\",\"#3B039A\",\"#3D039B\",\"#3F039C\",\"#40039C\",\"#42039D\",\"#44039E\",\"#45039E\",\"#47029F\",\"#49029F\",\"#4A02A0\",\"#4C02A1\",\"#4E02A1\",\"#4F02A2\",\"#5101A2\",\"#5201A3\",\"#5401A3\",\"#5601A3\",\"#5701A4\",\"#5901A4\",\"#5A00A5\",\"#5C00A5\",\"#5E00A5\",\"#5F00A6\",\"#6100A6\",\"#6200A6\",\"#6400A7\",\"#6500A7\",\"#6700A7\",\"#6800A7\",\"#6A00A7\",\"#6C00A8\",\"#6D00A8\",\"#6F00A8\",\"#7000A8\",\"#7200A8\",\"#7300A8\",\"#7500A8\",\"#7601A8\",\"#7801A8\",\"#7901A8\",\"#7B02A8\",\"#7C02A7\",\"#7E03A7\",\"#7F03A7\",\"#8104A7\",\"#8204A7\",\"#8405A6\",\"#8506A6\",\"#8607A6\",\"#8807A5\",\"#8908A5\",\"#8B09A4\",\"#8C0AA4\",\"#8E0CA4\",\"#8F0DA3\",\"#900EA3\",\"#920FA2\",\"#9310A1\",\"#9511A1\",\"#9612A0\",\"#9713A0\",\"#99149F\",\"#9A159E\",\"#9B179E\",\"#9D189D\",\"#9E199C\",\"#9F1A9B\",\"#A01B9B\",\"#A21C9A\",\"#A31D99\",\"#A41E98\",\"#A51F97\",\"#A72197\",\"#A82296\",\"#A92395\",\"#AA2494\",\"#AC2593\",\"#AD2692\",\"#AE2791\",\"#AF2890\",\"#B02A8F\",\"#B12B8F\",\"#B22C8E\",\"#B42D8D\",\"#B52E8C\",\"#B62F8B\",\"#B7308A\",\"#B83289\",\"#B93388\",\"#BA3487\",\"#BB3586\",\"#BC3685\",\"#BD3784\",\"#BE3883\",\"#BF3982\",\"#C03B81\",\"#C13C80\",\"#C23D80\",\"#C33E7F\",\"#C43F7E\",\"#C5407D\",\"#C6417C\",\"#C7427B\",\"#C8447A\",\"#C94579\",\"#CA4678\",\"#CB4777\",\"#CC4876\",\"#CD4975\",\"#CE4A75\",\"#CF4B74\",\"#D04D73\",\"#D14E72\",\"#D14F71\",\"#D25070\",\"#D3516F\",\"#D4526E\",\"#D5536D\",\"#D6556D\",\"#D7566C\",\"#D7576B\",\"#D8586A\",\"#D95969\",\"#DA5A68\",\"#DB5B67\",\"#DC5D66\",\"#DC5E66\",\"#DD5F65\",\"#DE6064\",\"#DF6163\",\"#DF6262\",\"#E06461\",\"#E16560\",\"#E26660\",\"#E3675F\",\"#E3685E\",\"#E46A5D\",\"#E56B5C\",\"#E56C5B\",\"#E66D5A\",\"#E76E5A\",\"#E87059\",\"#E87158\",\"#E97257\",\"#EA7356\",\"#EA7455\",\"#EB7654\",\"#EC7754\",\"#EC7853\",\"#ED7952\",\"#ED7B51\",\"#EE7C50\",\"#EF7D4F\",\"#EF7E4E\",\"#F0804D\",\"#F0814D\",\"#F1824C\",\"#F2844B\",\"#F2854A\",\"#F38649\",\"#F38748\",\"#F48947\",\"#F48A47\",\"#F58B46\",\"#F58D45\",\"#F68E44\",\"#F68F43\",\"#F69142\",\"#F79241\",\"#F79341\",\"#F89540\",\"#F8963F\",\"#F8983E\",\"#F9993D\",\"#F99A3C\",\"#FA9C3B\",\"#FA9D3A\",\"#FA9F3A\",\"#FAA039\",\"#FBA238\",\"#FBA337\",\"#FBA436\",\"#FCA635\",\"#FCA735\",\"#FCA934\",\"#FCAA33\",\"#FCAC32\",\"#FCAD31\",\"#FDAF31\",\"#FDB030\",\"#FDB22F\",\"#FDB32E\",\"#FDB52D\",\"#FDB62D\",\"#FDB82C\",\"#FDB92B\",\"#FDBB2B\",\"#FDBC2A\",\"#FDBE29\",\"#FDC029\",\"#FDC128\",\"#FDC328\",\"#FDC427\",\"#FDC626\",\"#FCC726\",\"#FCC926\",\"#FCCB25\",\"#FCCC25\",\"#FCCE25\",\"#FBD024\",\"#FBD124\",\"#FBD324\",\"#FAD524\",\"#FAD624\",\"#FAD824\",\"#F9D924\",\"#F9DB24\",\"#F8DD24\",\"#F8DF24\",\"#F7E024\",\"#F7E225\",\"#F6E425\",\"#F6E525\",\"#F5E726\",\"#F5E926\",\"#F4EA26\",\"#F3EC26\",\"#F3EE26\",\"#F2F026\",\"#F2F126\",\"#F1F326\",\"#F0F525\",\"#F0F623\",\"#EFF821\"]},\"id\":\"e090c5bb-1634-4a42-a899-72edc29cbe90\",\"type\":\"LogColorMapper\"},{\"attributes\":{},\"id\":\"253a490e-77a3-4192-b6b9-026c8fb4429e\",\"type\":\"CategoricalTicker\"},{\"attributes\":{\"dimension\":1,\"grid_line_color\":{\"value\":null},\"plot\":{\"id\":\"257f600e-f8b4-499f-84a7-e24acd42a56e\",\"subtype\":\"Figure\",\"type\":\"Plot\"},\"ticker\":{\"id\":\"253a490e-77a3-4192-b6b9-026c8fb4429e\",\"type\":\"CategoricalTicker\"}},\"id\":\"0c4a233b-e0ca-4dfa-a74b-b0318d22c40b\",\"type\":\"Grid\"},{\"attributes\":{\"desired_num_ticks\":10},\"id\":\"1d85ddf3-7c42-42de-adae-6c0285bae0af\",\"type\":\"BasicTicker\"},{\"attributes\":{\"above\":[{\"id\":\"c85e7552-73ae-4a6b-835e-c660400ef28d\",\"type\":\"CategoricalAxis\"}],\"left\":[{\"id\":\"3df4801d-b76b-4ecb-9f35-76d97c82711f\",\"type\":\"CategoricalAxis\"}],\"plot_height\":900,\"plot_width\":950,\"renderers\":[{\"id\":\"c85e7552-73ae-4a6b-835e-c660400ef28d\",\"type\":\"CategoricalAxis\"},{\"id\":\"e7d648db-4a7c-45c5-bf5c-bae7cd9e2647\",\"type\":\"Grid\"},{\"id\":\"3df4801d-b76b-4ecb-9f35-76d97c82711f\",\"type\":\"CategoricalAxis\"},{\"id\":\"0c4a233b-e0ca-4dfa-a74b-b0318d22c40b\",\"type\":\"Grid\"},{\"id\":\"72fa39ec-ae2f-46c0-a1b9-915cb02069bd\",\"type\":\"GlyphRenderer\"},{\"id\":\"80222d5f-1b3e-42db-98d9-5a4154a32db8\",\"type\":\"ColorBar\"}],\"right\":[{\"id\":\"80222d5f-1b3e-42db-98d9-5a4154a32db8\",\"type\":\"ColorBar\"}],\"title\":{\"id\":\"f4d9c7b1-dc23-47f8-a841-4ade5903a8b1\",\"type\":\"Title\"},\"toolbar\":{\"id\":\"67ce3b04-26d3-4f6c-b38f-cbc71accad07\",\"type\":\"Toolbar\"},\"toolbar_location\":\"above\",\"x_range\":{\"id\":\"de529672-026f-4160-9c26-0aa9eb0f2d62\",\"type\":\"FactorRange\"},\"x_scale\":{\"id\":\"28e7446f-8618-4a83-8b73-1365a056e866\",\"type\":\"CategoricalScale\"},\"y_range\":{\"id\":\"ad6a0892-6c5f-4567-975c-897711d4edfe\",\"type\":\"FactorRange\"},\"y_scale\":{\"id\":\"ba420770-36c8-478c-bdfc-895a86a7636c\",\"type\":\"CategoricalScale\"}},\"id\":\"257f600e-f8b4-499f-84a7-e24acd42a56e\",\"subtype\":\"Figure\",\"type\":\"Plot\"},{\"attributes\":{},\"id\":\"763014fe-6b9f-4ae3-9926-b9afc9842d77\",\"type\":\"CategoricalTickFormatter\"},{\"attributes\":{\"plot\":null,\"text\":\"Aircraft Registered to Country by Year\"},\"id\":\"f4d9c7b1-dc23-47f8-a841-4ade5903a8b1\",\"type\":\"Title\"},{\"attributes\":{\"fill_alpha\":{\"value\":0.1},\"fill_color\":{\"value\":\"#1f77b4\"},\"height\":{\"units\":\"data\",\"value\":1},\"line_alpha\":{\"value\":0.1},\"line_color\":{\"value\":\"#1f77b4\"},\"width\":{\"units\":\"data\",\"value\":1},\"x\":{\"field\":\"Year\"},\"y\":{\"field\":\"Cou\"}},\"id\":\"b4725fb9-b459-4673-b13b-cbf2319c9cf3\",\"type\":\"Rect\"},{\"attributes\":{\"callback\":null,\"renderers\":\"auto\",\"tooltips\":[[\"Year\",\"@Cou\"],[\"Country\",\"@Year\"],[\"Aircraft Count\",\"@Count\"],[\"Percent of Fleet\",\"@Percentage{0.0}% of fleet\"],[\"Total Aircraft\",\"@Total{,}\"]]},\"id\":\"9bebf429-e626-421b-956b-347ef4a5d9e5\",\"type\":\"HoverTool\"}],\"root_ids\":[\"257f600e-f8b4-499f-84a7-e24acd42a56e\"]},\"title\":\"Bokeh Application\",\"version\":\"0.13.0\"}};\n",
       "  var render_items = [{\"docid\":\"ccf203c8-820a-45db-84ae-a3d32f23da30\",\"roots\":{\"257f600e-f8b4-499f-84a7-e24acd42a56e\":\"137959c3-de42-41a3-9541-e1a0258ad336\"}}];\n",
       "  root.Bokeh.embed.embed_items_notebook(docs_json, render_items);\n",
       "\n",
       "  }\n",
       "  if (root.Bokeh !== undefined) {\n",
       "    embed_document(root);\n",
       "  } else {\n",
       "    var attempts = 0;\n",
       "    var timer = setInterval(function(root) {\n",
       "      if (root.Bokeh !== undefined) {\n",
       "        embed_document(root);\n",
       "        clearInterval(timer);\n",
       "      }\n",
       "      attempts++;\n",
       "      if (attempts > 100) {\n",
       "        console.log(\"Bokeh: ERROR: Unable to run BokehJS code because BokehJS library is missing\")\n",
       "        clearInterval(timer);\n",
       "      }\n",
       "    }, 10, root)\n",
       "  }\n",
       "})(window);"
      ],
      "application/vnd.bokehjs_exec.v0+json": ""
     },
     "metadata": {
      "application/vnd.bokehjs_exec.v0+json": {
       "id": "257f600e-f8b4-499f-84a7-e24acd42a56e"
      }
     },
     "output_type": "display_data"
    }
   ],
   "source": [
    "column_item_max, row_item_max = 20, 15\n",
    "col_name = 'Year'\n",
    "row_name = 'Cou'\n",
    "row_name_long = 'Year'\n",
    "col_name_long = 'Country'\n",
    "title = f\"Aircraft Registered to {col_name_long} by {row_name_long}\"\n",
    "\n",
    "top_column_item = list(df[col_name].value_counts()[:column_item_max].index)\n",
    "row_vs_col = df.groupby([row_name, col_name]).nunique()['Icao'].unstack().fillna(0)\n",
    "row_vs_col.index.name = row_name\n",
    "row_vs_col.columns.name = col_name\n",
    "row_vs_col = row_vs_col[top_column_item]\n",
    "row_vs_col['Total'] = row_vs_col.sum(axis=1)\n",
    "row_vs_col = row_vs_col.sort_values('Total', ascending=False)\n",
    "del row_vs_col['Total']\n",
    "row_vs_col = row_vs_col[:row_item_max]\n",
    "row_vs_col = row_vs_col.reindex(sorted(row_vs_col.columns), axis=1)\n",
    "row_vs_col = row_vs_col.reindex(sorted(row_vs_col.index), axis=0)\n",
    "row_vs_col_percent = row_vs_col.div(row_vs_col.sum(axis=1),axis=0) * 100\n",
    "col_vs_row_percent = row_vs_col_percent.T\n",
    "col_vs_row = row_vs_col.T\n",
    "\n",
    "col_vs_row_percent.index = col_vs_row_percent.index.astype(str)\n",
    "\n",
    "c = list(col_vs_row_percent.index)\n",
    "r = list(col_vs_row_percent.columns)\n",
    "\n",
    "arr_p = pd.DataFrame(col_vs_row_percent.stack(), columns=['Percentage']).reset_index()\n",
    "arr_c = pd.DataFrame(col_vs_row.stack(), columns=['Count']).reset_index()\n",
    "total_by_cou = col_vs_row.sum(axis=0)\n",
    "arr_c['Total'] = arr_c[row_name].map(total_by_cou)\n",
    "arr = pd.merge(arr_p, arr_c, how='outer', left_on=[row_name, col_name], right_on=[row_name, col_name])\n",
    "\n",
    "colors = Plasma256\n",
    "mapper = LogColorMapper(palette=colors, low=1, high=col_vs_row_percent.max().max())\n",
    "\n",
    "TOOLS = \"hover,save\"\n",
    "\n",
    "p = plotting.figure(title=title,\n",
    "           x_range=c, y_range=list(reversed(r)),\n",
    "           x_axis_location=\"above\", plot_width=950, plot_height=900,\n",
    "           tools=TOOLS, toolbar_location='above',\n",
    "           tooltips=[(row_name_long, '@'+row_name), \n",
    "                     (col_name_long, '@'+col_name), \n",
    "                     ('Aircraft Count', '@Count'),\n",
    "                     ('Percent of Fleet', '@Percentage{0.0}% of fleet'),\n",
    "                     (\"Total Aircraft\", '@Total{,}')])\n",
    "\n",
    "p.grid.grid_line_color = None\n",
    "p.axis.axis_line_color = None\n",
    "p.axis.major_tick_line_color = None\n",
    "p.axis.major_label_text_font_size = \"12pt\"\n",
    "p.axis.major_label_standoff = 0\n",
    "p.xaxis.major_label_orientation = pi / 3\n",
    "\n",
    "p.rect(x=col_name, y=row_name, width=1, height=1,\n",
    "       source=arr,\n",
    "       fill_color={'field': 'Percentage', 'transform': mapper},\n",
    "       line_color='white')\n",
    "\n",
    "color_bar = ColorBar(color_mapper=mapper, major_label_text_font_size=\"12pt\",\n",
    "                     ticker=BasicTicker(desired_num_ticks=10),\n",
    "                     label_standoff=6, border_line_color=None, location=(0, 0))\n",
    "p.add_layout(color_bar, 'right')\n",
    "show(p)"
   ]
  },
  {
   "cell_type": "markdown",
   "metadata": {
    "slideshow": {
     "slide_type": "slide"
    }
   },
   "source": [
    "## Country of Registration vs Type/Model"
   ]
  },
  {
   "cell_type": "code",
   "execution_count": 5,
   "metadata": {
    "slideshow": {
     "slide_type": "subslide"
    }
   },
   "outputs": [
    {
     "data": {
      "text/html": [
       "\n",
       "\n",
       "\n",
       "\n",
       "\n",
       "\n",
       "  <div class=\"bk-root\" id=\"5084f3ea-6912-4912-a6f3-3289cc0bc6bb\"></div>\n"
      ]
     },
     "metadata": {},
     "output_type": "display_data"
    },
    {
     "data": {
      "application/javascript": [
       "(function(root) {\n",
       "  function embed_document(root) {\n",
       "    \n",
       "  var docs_json = {\"d6c6ade9-cbf9-4e25-adeb-d30febe3cd0d\":{\"roots\":{\"references\":[{\"attributes\":{},\"id\":\"2f450c66-3d09-49ff-b27d-e6c71e11babe\",\"type\":\"CategoricalTicker\"},{\"attributes\":{\"fill_color\":{\"field\":\"Percentage\",\"transform\":{\"id\":\"4b1856a5-7e3e-432a-ab4c-023829c5c7c8\",\"type\":\"LogColorMapper\"}},\"height\":{\"units\":\"data\",\"value\":1},\"line_color\":{\"value\":\"white\"},\"width\":{\"units\":\"data\",\"value\":1},\"x\":{\"field\":\"Type\"},\"y\":{\"field\":\"Cou\"}},\"id\":\"84a4338c-8e19-45d9-8874-6655baa5476c\",\"type\":\"Rect\"},{\"attributes\":{\"high\":60.09615384615385,\"low\":1,\"palette\":[\"#0C0786\",\"#100787\",\"#130689\",\"#15068A\",\"#18068B\",\"#1B068C\",\"#1D068D\",\"#1F058E\",\"#21058F\",\"#230590\",\"#250591\",\"#270592\",\"#290593\",\"#2B0594\",\"#2D0494\",\"#2F0495\",\"#310496\",\"#330497\",\"#340498\",\"#360498\",\"#380499\",\"#3A049A\",\"#3B039A\",\"#3D039B\",\"#3F039C\",\"#40039C\",\"#42039D\",\"#44039E\",\"#45039E\",\"#47029F\",\"#49029F\",\"#4A02A0\",\"#4C02A1\",\"#4E02A1\",\"#4F02A2\",\"#5101A2\",\"#5201A3\",\"#5401A3\",\"#5601A3\",\"#5701A4\",\"#5901A4\",\"#5A00A5\",\"#5C00A5\",\"#5E00A5\",\"#5F00A6\",\"#6100A6\",\"#6200A6\",\"#6400A7\",\"#6500A7\",\"#6700A7\",\"#6800A7\",\"#6A00A7\",\"#6C00A8\",\"#6D00A8\",\"#6F00A8\",\"#7000A8\",\"#7200A8\",\"#7300A8\",\"#7500A8\",\"#7601A8\",\"#7801A8\",\"#7901A8\",\"#7B02A8\",\"#7C02A7\",\"#7E03A7\",\"#7F03A7\",\"#8104A7\",\"#8204A7\",\"#8405A6\",\"#8506A6\",\"#8607A6\",\"#8807A5\",\"#8908A5\",\"#8B09A4\",\"#8C0AA4\",\"#8E0CA4\",\"#8F0DA3\",\"#900EA3\",\"#920FA2\",\"#9310A1\",\"#9511A1\",\"#9612A0\",\"#9713A0\",\"#99149F\",\"#9A159E\",\"#9B179E\",\"#9D189D\",\"#9E199C\",\"#9F1A9B\",\"#A01B9B\",\"#A21C9A\",\"#A31D99\",\"#A41E98\",\"#A51F97\",\"#A72197\",\"#A82296\",\"#A92395\",\"#AA2494\",\"#AC2593\",\"#AD2692\",\"#AE2791\",\"#AF2890\",\"#B02A8F\",\"#B12B8F\",\"#B22C8E\",\"#B42D8D\",\"#B52E8C\",\"#B62F8B\",\"#B7308A\",\"#B83289\",\"#B93388\",\"#BA3487\",\"#BB3586\",\"#BC3685\",\"#BD3784\",\"#BE3883\",\"#BF3982\",\"#C03B81\",\"#C13C80\",\"#C23D80\",\"#C33E7F\",\"#C43F7E\",\"#C5407D\",\"#C6417C\",\"#C7427B\",\"#C8447A\",\"#C94579\",\"#CA4678\",\"#CB4777\",\"#CC4876\",\"#CD4975\",\"#CE4A75\",\"#CF4B74\",\"#D04D73\",\"#D14E72\",\"#D14F71\",\"#D25070\",\"#D3516F\",\"#D4526E\",\"#D5536D\",\"#D6556D\",\"#D7566C\",\"#D7576B\",\"#D8586A\",\"#D95969\",\"#DA5A68\",\"#DB5B67\",\"#DC5D66\",\"#DC5E66\",\"#DD5F65\",\"#DE6064\",\"#DF6163\",\"#DF6262\",\"#E06461\",\"#E16560\",\"#E26660\",\"#E3675F\",\"#E3685E\",\"#E46A5D\",\"#E56B5C\",\"#E56C5B\",\"#E66D5A\",\"#E76E5A\",\"#E87059\",\"#E87158\",\"#E97257\",\"#EA7356\",\"#EA7455\",\"#EB7654\",\"#EC7754\",\"#EC7853\",\"#ED7952\",\"#ED7B51\",\"#EE7C50\",\"#EF7D4F\",\"#EF7E4E\",\"#F0804D\",\"#F0814D\",\"#F1824C\",\"#F2844B\",\"#F2854A\",\"#F38649\",\"#F38748\",\"#F48947\",\"#F48A47\",\"#F58B46\",\"#F58D45\",\"#F68E44\",\"#F68F43\",\"#F69142\",\"#F79241\",\"#F79341\",\"#F89540\",\"#F8963F\",\"#F8983E\",\"#F9993D\",\"#F99A3C\",\"#FA9C3B\",\"#FA9D3A\",\"#FA9F3A\",\"#FAA039\",\"#FBA238\",\"#FBA337\",\"#FBA436\",\"#FCA635\",\"#FCA735\",\"#FCA934\",\"#FCAA33\",\"#FCAC32\",\"#FCAD31\",\"#FDAF31\",\"#FDB030\",\"#FDB22F\",\"#FDB32E\",\"#FDB52D\",\"#FDB62D\",\"#FDB82C\",\"#FDB92B\",\"#FDBB2B\",\"#FDBC2A\",\"#FDBE29\",\"#FDC029\",\"#FDC128\",\"#FDC328\",\"#FDC427\",\"#FDC626\",\"#FCC726\",\"#FCC926\",\"#FCCB25\",\"#FCCC25\",\"#FCCE25\",\"#FBD024\",\"#FBD124\",\"#FBD324\",\"#FAD524\",\"#FAD624\",\"#FAD824\",\"#F9D924\",\"#F9DB24\",\"#F8DD24\",\"#F8DF24\",\"#F7E024\",\"#F7E225\",\"#F6E425\",\"#F6E525\",\"#F5E726\",\"#F5E926\",\"#F4EA26\",\"#F3EC26\",\"#F3EE26\",\"#F2F026\",\"#F2F126\",\"#F1F326\",\"#F0F525\",\"#F0F623\",\"#EFF821\"]},\"id\":\"4b1856a5-7e3e-432a-ab4c-023829c5c7c8\",\"type\":\"LogColorMapper\"},{\"attributes\":{},\"id\":\"e4a4fc8d-e56e-435e-844d-55b01661201d\",\"type\":\"UnionRenderers\"},{\"attributes\":{},\"id\":\"74d3a84c-e373-4110-80d1-ef939a31786a\",\"type\":\"Selection\"},{\"attributes\":{},\"id\":\"efd78be5-fe02-4eed-bd27-0f3a5b0838b6\",\"type\":\"CategoricalTicker\"},{\"attributes\":{\"dimension\":1,\"grid_line_color\":{\"value\":null},\"plot\":{\"id\":\"1650ead9-68d3-4f82-8ba5-8bb64636d2db\",\"subtype\":\"Figure\",\"type\":\"Plot\"},\"ticker\":{\"id\":\"efd78be5-fe02-4eed-bd27-0f3a5b0838b6\",\"type\":\"CategoricalTicker\"}},\"id\":\"96eb107e-d4fe-4581-b8b3-07a237a217b9\",\"type\":\"Grid\"},{\"attributes\":{\"source\":{\"id\":\"0caac756-bf68-438c-ab12-fb1d5860f4a8\",\"type\":\"ColumnDataSource\"}},\"id\":\"4a366aec-ed25-4847-8c4b-477c538d9d7f\",\"type\":\"CDSView\"},{\"attributes\":{\"above\":[{\"id\":\"29f3eb60-63bb-4c5a-8c66-8a1c6f50f4c0\",\"type\":\"CategoricalAxis\"}],\"left\":[{\"id\":\"6e40c139-5256-436f-b293-48891fd7a35a\",\"type\":\"CategoricalAxis\"}],\"plot_height\":900,\"plot_width\":950,\"renderers\":[{\"id\":\"29f3eb60-63bb-4c5a-8c66-8a1c6f50f4c0\",\"type\":\"CategoricalAxis\"},{\"id\":\"d2d958cb-5b45-47d5-a250-06482d8521ff\",\"type\":\"Grid\"},{\"id\":\"6e40c139-5256-436f-b293-48891fd7a35a\",\"type\":\"CategoricalAxis\"},{\"id\":\"96eb107e-d4fe-4581-b8b3-07a237a217b9\",\"type\":\"Grid\"},{\"id\":\"814797f2-7788-4b34-94ef-accff8811df6\",\"type\":\"GlyphRenderer\"},{\"id\":\"16758588-4268-464c-85ee-87f8d0e0593f\",\"type\":\"ColorBar\"}],\"right\":[{\"id\":\"16758588-4268-464c-85ee-87f8d0e0593f\",\"type\":\"ColorBar\"}],\"title\":{\"id\":\"805b1343-dbd7-41a5-a662-0535a4e1cd59\",\"type\":\"Title\"},\"toolbar\":{\"id\":\"bac77f6c-a2ea-4509-9314-d8c48b4047c7\",\"type\":\"Toolbar\"},\"toolbar_location\":\"above\",\"x_range\":{\"id\":\"eca22e2d-923f-488c-af8a-d52cd4434662\",\"type\":\"FactorRange\"},\"x_scale\":{\"id\":\"6a8afb55-7111-474a-bd50-97632d0ae522\",\"type\":\"CategoricalScale\"},\"y_range\":{\"id\":\"49267c77-951f-4b6a-9cd0-40970545f712\",\"type\":\"FactorRange\"},\"y_scale\":{\"id\":\"5221cc67-4821-42e3-9b21-47fdc10c0c2c\",\"type\":\"CategoricalScale\"}},\"id\":\"1650ead9-68d3-4f82-8ba5-8bb64636d2db\",\"subtype\":\"Figure\",\"type\":\"Plot\"},{\"attributes\":{\"desired_num_ticks\":10},\"id\":\"aa32c692-b3c9-40c8-8f46-9633d9e90904\",\"type\":\"BasicTicker\"},{\"attributes\":{\"plot\":null,\"text\":\"Aircraft Model by Country\"},\"id\":\"805b1343-dbd7-41a5-a662-0535a4e1cd59\",\"type\":\"Title\"},{\"attributes\":{\"callback\":null,\"renderers\":\"auto\",\"tooltips\":[[\"Country\",\"@Cou\"],[\"Model\",\"@Type\"],[\"Aircraft Count\",\"@Count\"],[\"Percent of Fleet\",\"@Percentage{0.0}% of fleet\"],[\"Total Aircraft\",\"@Total{,}\"]]},\"id\":\"36dca54d-86ac-4461-b4fa-b6b6213e80fa\",\"type\":\"HoverTool\"},{\"attributes\":{\"callback\":null,\"data\":{\"Cou\":[\"Australia\",\"Bermuda\",\"Brazil\",\"Canada\",\"China\",\"Hong Kong\",\"Indonesia\",\"Japan\",\"Malaysia\",\"Mexico\",\"South Korea\",\"Thailand\",\"Turkey\",\"United Kingdom\",\"United States\",\"Australia\",\"Bermuda\",\"Brazil\",\"Canada\",\"China\",\"Hong Kong\",\"Indonesia\",\"Japan\",\"Malaysia\",\"Mexico\",\"South Korea\",\"Thailand\",\"Turkey\",\"United Kingdom\",\"United States\",\"Australia\",\"Bermuda\",\"Brazil\",\"Canada\",\"China\",\"Hong Kong\",\"Indonesia\",\"Japan\",\"Malaysia\",\"Mexico\",\"South Korea\",\"Thailand\",\"Turkey\",\"United Kingdom\",\"United States\",\"Australia\",\"Bermuda\",\"Brazil\",\"Canada\",\"China\",\"Hong Kong\",\"Indonesia\",\"Japan\",\"Malaysia\",\"Mexico\",\"South Korea\",\"Thailand\",\"Turkey\",\"United Kingdom\",\"United States\",\"Australia\",\"Bermuda\",\"Brazil\",\"Canada\",\"China\",\"Hong Kong\",\"Indonesia\",\"Japan\",\"Malaysia\",\"Mexico\",\"South Korea\",\"Thailand\",\"Turkey\",\"United Kingdom\",\"United States\",\"Australia\",\"Bermuda\",\"Brazil\",\"Canada\",\"China\",\"Hong Kong\",\"Indonesia\",\"Japan\",\"Malaysia\",\"Mexico\",\"South Korea\",\"Thailand\",\"Turkey\",\"United Kingdom\",\"United States\",\"Australia\",\"Bermuda\",\"Brazil\",\"Canada\",\"China\",\"Hong Kong\",\"Indonesia\",\"Japan\",\"Malaysia\",\"Mexico\",\"South Korea\",\"Thailand\",\"Turkey\",\"United Kingdom\",\"United States\",\"Australia\",\"Bermuda\",\"Brazil\",\"Canada\",\"China\",\"Hong Kong\",\"Indonesia\",\"Japan\",\"Malaysia\",\"Mexico\",\"South Korea\",\"Thailand\",\"Turkey\",\"United Kingdom\",\"United States\",\"Australia\",\"Bermuda\",\"Brazil\",\"Canada\",\"China\",\"Hong Kong\",\"Indonesia\",\"Japan\",\"Malaysia\",\"Mexico\",\"South Korea\",\"Thailand\",\"Turkey\",\"United Kingdom\",\"United States\",\"Australia\",\"Bermuda\",\"Brazil\",\"Canada\",\"China\",\"Hong Kong\",\"Indonesia\",\"Japan\",\"Malaysia\",\"Mexico\",\"South Korea\",\"Thailand\",\"Turkey\",\"United Kingdom\",\"United States\",\"Australia\",\"Bermuda\",\"Brazil\",\"Canada\",\"China\",\"Hong Kong\",\"Indonesia\",\"Japan\",\"Malaysia\",\"Mexico\",\"South Korea\",\"Thailand\",\"Turkey\",\"United Kingdom\",\"United States\",\"Australia\",\"Bermuda\",\"Brazil\",\"Canada\",\"China\",\"Hong Kong\",\"Indonesia\",\"Japan\",\"Malaysia\",\"Mexico\",\"South Korea\",\"Thailand\",\"Turkey\",\"United Kingdom\",\"United States\",\"Australia\",\"Bermuda\",\"Brazil\",\"Canada\",\"China\",\"Hong Kong\",\"Indonesia\",\"Japan\",\"Malaysia\",\"Mexico\",\"South Korea\",\"Thailand\",\"Turkey\",\"United Kingdom\",\"United States\",\"Australia\",\"Bermuda\",\"Brazil\",\"Canada\",\"China\",\"Hong Kong\",\"Indonesia\",\"Japan\",\"Malaysia\",\"Mexico\",\"South Korea\",\"Thailand\",\"Turkey\",\"United Kingdom\",\"United States\",\"Australia\",\"Bermuda\",\"Brazil\",\"Canada\",\"China\",\"Hong Kong\",\"Indonesia\",\"Japan\",\"Malaysia\",\"Mexico\",\"South Korea\",\"Thailand\",\"Turkey\",\"United Kingdom\",\"United States\"],\"Count\":{\"__ndarray__\":\"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\",\"dtype\":\"float64\",\"shape\":[225]},\"Percentage\":{\"__ndarray__\":\"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\",\"dtype\":\"float64\",\"shape\":[225]},\"Total\":{\"__ndarray__\":\"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\",\"dtype\":\"float64\",\"shape\":[225]},\"Type\":[\"A319\",\"A319\",\"A319\",\"A319\",\"A319\",\"A319\",\"A319\",\"A319\",\"A319\",\"A319\",\"A319\",\"A319\",\"A319\",\"A319\",\"A319\",\"A320\",\"A320\",\"A320\",\"A320\",\"A320\",\"A320\",\"A320\",\"A320\",\"A320\",\"A320\",\"A320\",\"A320\",\"A320\",\"A320\",\"A320\",\"A321\",\"A321\",\"A321\",\"A321\",\"A321\",\"A321\",\"A321\",\"A321\",\"A321\",\"A321\",\"A321\",\"A321\",\"A321\",\"A321\",\"A321\",\"A332\",\"A332\",\"A332\",\"A332\",\"A332\",\"A332\",\"A332\",\"A332\",\"A332\",\"A332\",\"A332\",\"A332\",\"A332\",\"A332\",\"A332\",\"A333\",\"A333\",\"A333\",\"A333\",\"A333\",\"A333\",\"A333\",\"A333\",\"A333\",\"A333\",\"A333\",\"A333\",\"A333\",\"A333\",\"A333\",\"B737\",\"B737\",\"B737\",\"B737\",\"B737\",\"B737\",\"B737\",\"B737\",\"B737\",\"B737\",\"B737\",\"B737\",\"B737\",\"B737\",\"B737\",\"B738\",\"B738\",\"B738\",\"B738\",\"B738\",\"B738\",\"B738\",\"B738\",\"B738\",\"B738\",\"B738\",\"B738\",\"B738\",\"B738\",\"B738\",\"B739\",\"B739\",\"B739\",\"B739\",\"B739\",\"B739\",\"B739\",\"B739\",\"B739\",\"B739\",\"B739\",\"B739\",\"B739\",\"B739\",\"B739\",\"B752\",\"B752\",\"B752\",\"B752\",\"B752\",\"B752\",\"B752\",\"B752\",\"B752\",\"B752\",\"B752\",\"B752\",\"B752\",\"B752\",\"B752\",\"B763\",\"B763\",\"B763\",\"B763\",\"B763\",\"B763\",\"B763\",\"B763\",\"B763\",\"B763\",\"B763\",\"B763\",\"B763\",\"B763\",\"B763\",\"B772\",\"B772\",\"B772\",\"B772\",\"B772\",\"B772\",\"B772\",\"B772\",\"B772\",\"B772\",\"B772\",\"B772\",\"B772\",\"B772\",\"B772\",\"B773\",\"B773\",\"B773\",\"B773\",\"B773\",\"B773\",\"B773\",\"B773\",\"B773\",\"B773\",\"B773\",\"B773\",\"B773\",\"B773\",\"B773\",\"CRJ9\",\"CRJ9\",\"CRJ9\",\"CRJ9\",\"CRJ9\",\"CRJ9\",\"CRJ9\",\"CRJ9\",\"CRJ9\",\"CRJ9\",\"CRJ9\",\"CRJ9\",\"CRJ9\",\"CRJ9\",\"CRJ9\",\"E170\",\"E170\",\"E170\",\"E170\",\"E170\",\"E170\",\"E170\",\"E170\",\"E170\",\"E170\",\"E170\",\"E170\",\"E170\",\"E170\",\"E170\",\"E190\",\"E190\",\"E190\",\"E190\",\"E190\",\"E190\",\"E190\",\"E190\",\"E190\",\"E190\",\"E190\",\"E190\",\"E190\",\"E190\",\"E190\"],\"index\":[0,1,2,3,4,5,6,7,8,9,10,11,12,13,14,15,16,17,18,19,20,21,22,23,24,25,26,27,28,29,30,31,32,33,34,35,36,37,38,39,40,41,42,43,44,45,46,47,48,49,50,51,52,53,54,55,56,57,58,59,60,61,62,63,64,65,66,67,68,69,70,71,72,73,74,75,76,77,78,79,80,81,82,83,84,85,86,87,88,89,90,91,92,93,94,95,96,97,98,99,100,101,102,103,104,105,106,107,108,109,110,111,112,113,114,115,116,117,118,119,120,121,122,123,124,125,126,127,128,129,130,131,132,133,134,135,136,137,138,139,140,141,142,143,144,145,146,147,148,149,150,151,152,153,154,155,156,157,158,159,160,161,162,163,164,165,166,167,168,169,170,171,172,173,174,175,176,177,178,179,180,181,182,183,184,185,186,187,188,189,190,191,192,193,194,195,196,197,198,199,200,201,202,203,204,205,206,207,208,209,210,211,212,213,214,215,216,217,218,219,220,221,222,223,224]},\"selected\":{\"id\":\"74d3a84c-e373-4110-80d1-ef939a31786a\",\"type\":\"Selection\"},\"selection_policy\":{\"id\":\"e4a4fc8d-e56e-435e-844d-55b01661201d\",\"type\":\"UnionRenderers\"}},\"id\":\"0caac756-bf68-438c-ab12-fb1d5860f4a8\",\"type\":\"ColumnDataSource\"},{\"attributes\":{\"callback\":null,\"factors\":[\"A319\",\"A320\",\"A321\",\"A332\",\"A333\",\"B737\",\"B738\",\"B739\",\"B752\",\"B763\",\"B772\",\"B773\",\"CRJ9\",\"E170\",\"E190\"]},\"id\":\"eca22e2d-923f-488c-af8a-d52cd4434662\",\"type\":\"FactorRange\"},{\"attributes\":{},\"id\":\"c6355a28-fe56-42f6-9292-407687ecb2bc\",\"type\":\"SaveTool\"},{\"attributes\":{\"active_drag\":\"auto\",\"active_inspect\":\"auto\",\"active_multi\":null,\"active_scroll\":\"auto\",\"active_tap\":\"auto\",\"tools\":[{\"id\":\"36dca54d-86ac-4461-b4fa-b6b6213e80fa\",\"type\":\"HoverTool\"},{\"id\":\"c6355a28-fe56-42f6-9292-407687ecb2bc\",\"type\":\"SaveTool\"}]},\"id\":\"bac77f6c-a2ea-4509-9314-d8c48b4047c7\",\"type\":\"Toolbar\"},{\"attributes\":{\"color_mapper\":{\"id\":\"4b1856a5-7e3e-432a-ab4c-023829c5c7c8\",\"type\":\"LogColorMapper\"},\"formatter\":{\"id\":\"87dbfb1b-cd45-412d-8061-123ba90aae32\",\"type\":\"BasicTickFormatter\"},\"label_standoff\":6,\"location\":[0,0],\"major_label_text_font_size\":{\"value\":\"12pt\"},\"plot\":{\"id\":\"1650ead9-68d3-4f82-8ba5-8bb64636d2db\",\"subtype\":\"Figure\",\"type\":\"Plot\"},\"ticker\":{\"id\":\"aa32c692-b3c9-40c8-8f46-9633d9e90904\",\"type\":\"BasicTicker\"}},\"id\":\"16758588-4268-464c-85ee-87f8d0e0593f\",\"type\":\"ColorBar\"},{\"attributes\":{\"data_source\":{\"id\":\"0caac756-bf68-438c-ab12-fb1d5860f4a8\",\"type\":\"ColumnDataSource\"},\"glyph\":{\"id\":\"84a4338c-8e19-45d9-8874-6655baa5476c\",\"type\":\"Rect\"},\"hover_glyph\":null,\"muted_glyph\":null,\"nonselection_glyph\":{\"id\":\"aacfe92e-cbdb-45c3-bcb8-e02f4f74e582\",\"type\":\"Rect\"},\"selection_glyph\":null,\"view\":{\"id\":\"4a366aec-ed25-4847-8c4b-477c538d9d7f\",\"type\":\"CDSView\"}},\"id\":\"814797f2-7788-4b34-94ef-accff8811df6\",\"type\":\"GlyphRenderer\"},{\"attributes\":{\"callback\":null,\"factors\":[\"United States\",\"United Kingdom\",\"Turkey\",\"Thailand\",\"South Korea\",\"Mexico\",\"Malaysia\",\"Japan\",\"Indonesia\",\"Hong Kong\",\"China\",\"Canada\",\"Brazil\",\"Bermuda\",\"Australia\"]},\"id\":\"49267c77-951f-4b6a-9cd0-40970545f712\",\"type\":\"FactorRange\"},{\"attributes\":{\"fill_alpha\":{\"value\":0.1},\"fill_color\":{\"value\":\"#1f77b4\"},\"height\":{\"units\":\"data\",\"value\":1},\"line_alpha\":{\"value\":0.1},\"line_color\":{\"value\":\"#1f77b4\"},\"width\":{\"units\":\"data\",\"value\":1},\"x\":{\"field\":\"Type\"},\"y\":{\"field\":\"Cou\"}},\"id\":\"aacfe92e-cbdb-45c3-bcb8-e02f4f74e582\",\"type\":\"Rect\"},{\"attributes\":{\"axis_line_color\":{\"value\":null},\"formatter\":{\"id\":\"aa986bdb-dcbf-4c14-a2fd-0cd559744bc0\",\"type\":\"CategoricalTickFormatter\"},\"major_label_standoff\":0,\"major_label_text_font_size\":{\"value\":\"12pt\"},\"major_tick_line_color\":{\"value\":null},\"plot\":{\"id\":\"1650ead9-68d3-4f82-8ba5-8bb64636d2db\",\"subtype\":\"Figure\",\"type\":\"Plot\"},\"ticker\":{\"id\":\"efd78be5-fe02-4eed-bd27-0f3a5b0838b6\",\"type\":\"CategoricalTicker\"}},\"id\":\"6e40c139-5256-436f-b293-48891fd7a35a\",\"type\":\"CategoricalAxis\"},{\"attributes\":{},\"id\":\"6a8afb55-7111-474a-bd50-97632d0ae522\",\"type\":\"CategoricalScale\"},{\"attributes\":{},\"id\":\"9bdf54e7-a80e-4761-b1a8-4746fc7b02b3\",\"type\":\"CategoricalTickFormatter\"},{\"attributes\":{},\"id\":\"5221cc67-4821-42e3-9b21-47fdc10c0c2c\",\"type\":\"CategoricalScale\"},{\"attributes\":{},\"id\":\"aa986bdb-dcbf-4c14-a2fd-0cd559744bc0\",\"type\":\"CategoricalTickFormatter\"},{\"attributes\":{\"grid_line_color\":{\"value\":null},\"plot\":{\"id\":\"1650ead9-68d3-4f82-8ba5-8bb64636d2db\",\"subtype\":\"Figure\",\"type\":\"Plot\"},\"ticker\":{\"id\":\"2f450c66-3d09-49ff-b27d-e6c71e11babe\",\"type\":\"CategoricalTicker\"}},\"id\":\"d2d958cb-5b45-47d5-a250-06482d8521ff\",\"type\":\"Grid\"},{\"attributes\":{},\"id\":\"87dbfb1b-cd45-412d-8061-123ba90aae32\",\"type\":\"BasicTickFormatter\"},{\"attributes\":{\"axis_line_color\":{\"value\":null},\"formatter\":{\"id\":\"9bdf54e7-a80e-4761-b1a8-4746fc7b02b3\",\"type\":\"CategoricalTickFormatter\"},\"major_label_orientation\":1.0471975511965976,\"major_label_standoff\":0,\"major_label_text_font_size\":{\"value\":\"12pt\"},\"major_tick_line_color\":{\"value\":null},\"plot\":{\"id\":\"1650ead9-68d3-4f82-8ba5-8bb64636d2db\",\"subtype\":\"Figure\",\"type\":\"Plot\"},\"ticker\":{\"id\":\"2f450c66-3d09-49ff-b27d-e6c71e11babe\",\"type\":\"CategoricalTicker\"}},\"id\":\"29f3eb60-63bb-4c5a-8c66-8a1c6f50f4c0\",\"type\":\"CategoricalAxis\"}],\"root_ids\":[\"1650ead9-68d3-4f82-8ba5-8bb64636d2db\"]},\"title\":\"Bokeh Application\",\"version\":\"0.13.0\"}};\n",
       "  var render_items = [{\"docid\":\"d6c6ade9-cbf9-4e25-adeb-d30febe3cd0d\",\"roots\":{\"1650ead9-68d3-4f82-8ba5-8bb64636d2db\":\"5084f3ea-6912-4912-a6f3-3289cc0bc6bb\"}}];\n",
       "  root.Bokeh.embed.embed_items_notebook(docs_json, render_items);\n",
       "\n",
       "  }\n",
       "  if (root.Bokeh !== undefined) {\n",
       "    embed_document(root);\n",
       "  } else {\n",
       "    var attempts = 0;\n",
       "    var timer = setInterval(function(root) {\n",
       "      if (root.Bokeh !== undefined) {\n",
       "        embed_document(root);\n",
       "        clearInterval(timer);\n",
       "      }\n",
       "      attempts++;\n",
       "      if (attempts > 100) {\n",
       "        console.log(\"Bokeh: ERROR: Unable to run BokehJS code because BokehJS library is missing\")\n",
       "        clearInterval(timer);\n",
       "      }\n",
       "    }, 10, root)\n",
       "  }\n",
       "})(window);"
      ],
      "application/vnd.bokehjs_exec.v0+json": ""
     },
     "metadata": {
      "application/vnd.bokehjs_exec.v0+json": {
       "id": "1650ead9-68d3-4f82-8ba5-8bb64636d2db"
      }
     },
     "output_type": "display_data"
    }
   ],
   "source": [
    "column_item_max, row_item_max = 15, 15\n",
    "col_name = 'Type'\n",
    "row_name = 'Cou'\n",
    "row_name_long = 'Country'\n",
    "col_name_long = 'Model'\n",
    "title = f\"Aircraft {col_name_long} by {row_name_long}\"\n",
    "\n",
    "top_column_item = list(df[col_name].value_counts()[:column_item_max].index)\n",
    "row_vs_col = df.groupby([row_name, col_name]).nunique()['Icao'].unstack().fillna(0)\n",
    "row_vs_col.index.name = row_name\n",
    "row_vs_col.columns.name = col_name\n",
    "row_vs_col = row_vs_col[top_column_item]\n",
    "row_vs_col['Total'] = row_vs_col.sum(axis=1)\n",
    "row_vs_col = row_vs_col.sort_values('Total', ascending=False)\n",
    "del row_vs_col['Total']\n",
    "row_vs_col = row_vs_col[:row_item_max]\n",
    "row_vs_col = row_vs_col.reindex(sorted(row_vs_col.columns), axis=1)\n",
    "row_vs_col = row_vs_col.reindex(sorted(row_vs_col.index), axis=0)\n",
    "row_vs_col_percent = row_vs_col.div(row_vs_col.sum(axis=1),axis=0) * 100\n",
    "col_vs_row_percent = row_vs_col_percent.T\n",
    "col_vs_row = row_vs_col.T\n",
    "\n",
    "col_vs_row_percent.index = col_vs_row_percent.index.astype(str)\n",
    "\n",
    "c = list(col_vs_row_percent.index)\n",
    "r = list(col_vs_row_percent.columns)\n",
    "\n",
    "arr_p = pd.DataFrame(col_vs_row_percent.stack(), columns=['Percentage']).reset_index()\n",
    "arr_c = pd.DataFrame(col_vs_row.stack(), columns=['Count']).reset_index()\n",
    "total_by_cou = col_vs_row.sum(axis=0)\n",
    "arr_c['Total'] = arr_c[row_name].map(total_by_cou)\n",
    "arr = pd.merge(arr_p, arr_c, how='outer', left_on=[row_name, col_name], right_on=[row_name, col_name])\n",
    "\n",
    "colors = Plasma256\n",
    "mapper = LogColorMapper(palette=colors, low=1, high=col_vs_row_percent.max().max())\n",
    "\n",
    "TOOLS = \"hover,save\"\n",
    "\n",
    "p = plotting.figure(title=title,\n",
    "           x_range=c, y_range=list(reversed(r)),\n",
    "           x_axis_location=\"above\", plot_width=950, plot_height=900,\n",
    "           tools=TOOLS, toolbar_location='above',\n",
    "           tooltips=[(row_name_long, '@'+row_name), \n",
    "                     (col_name_long, '@'+col_name), \n",
    "                     ('Aircraft Count', '@Count'),\n",
    "                     ('Percent of Fleet', '@Percentage{0.0}% of fleet'),\n",
    "                     (\"Total Aircraft\", '@Total{,}')])\n",
    "\n",
    "p.grid.grid_line_color = None\n",
    "p.axis.axis_line_color = None\n",
    "p.axis.major_tick_line_color = None\n",
    "p.axis.major_label_text_font_size = \"12pt\"\n",
    "p.axis.major_label_standoff = 0\n",
    "p.xaxis.major_label_orientation = pi / 3\n",
    "\n",
    "p.rect(x=col_name, y=row_name, width=1, height=1,\n",
    "       source=arr,\n",
    "       fill_color={'field': 'Percentage', 'transform': mapper},\n",
    "       line_color='white')\n",
    "\n",
    "color_bar = ColorBar(color_mapper=mapper, major_label_text_font_size=\"12pt\",\n",
    "                     ticker=BasicTicker(desired_num_ticks=10),\n",
    "                     label_standoff=6, border_line_color=None, location=(0, 0))\n",
    "p.add_layout(color_bar, 'right')\n",
    "show(p)"
   ]
  },
  {
   "cell_type": "markdown",
   "metadata": {
    "slideshow": {
     "slide_type": "slide"
    }
   },
   "source": [
    "## Aircraft Type/Model vs Operator"
   ]
  },
  {
   "cell_type": "code",
   "execution_count": 6,
   "metadata": {
    "slideshow": {
     "slide_type": "subslide"
    }
   },
   "outputs": [
    {
     "data": {
      "text/html": [
       "\n",
       "\n",
       "\n",
       "\n",
       "\n",
       "\n",
       "  <div class=\"bk-root\" id=\"95054fb1-b781-43e8-92d1-a09738a88a7c\"></div>\n"
      ]
     },
     "metadata": {},
     "output_type": "display_data"
    },
    {
     "data": {
      "application/javascript": [
       "(function(root) {\n",
       "  function embed_document(root) {\n",
       "    \n",
       "  var docs_json = {\"e987e39e-49b3-4c39-9f0f-44c7df63be00\":{\"roots\":{\"references\":[{\"attributes\":{\"dimension\":1,\"grid_line_color\":{\"value\":null},\"plot\":{\"id\":\"f9e04e0f-1dbf-46e1-bde5-74b23a1918c9\",\"subtype\":\"Figure\",\"type\":\"Plot\"},\"ticker\":{\"id\":\"8a1f57e9-9837-4b0d-8fec-d7ee9f9a5fd1\",\"type\":\"CategoricalTicker\"}},\"id\":\"30d129b9-36ce-4dac-8eae-ac311d9470ad\",\"type\":\"Grid\"},{\"attributes\":{\"source\":{\"id\":\"8036269b-96e7-4678-a507-7a017d06cf43\",\"type\":\"ColumnDataSource\"}},\"id\":\"cac9adfd-2210-4f67-a07a-88105b190e9a\",\"type\":\"CDSView\"},{\"attributes\":{\"above\":[{\"id\":\"c9eb7b39-7d64-4711-85a7-609570fd0b70\",\"type\":\"CategoricalAxis\"}],\"left\":[{\"id\":\"072d2daa-21c1-4e2a-be0c-75401e6daef4\",\"type\":\"CategoricalAxis\"}],\"plot_height\":900,\"plot_width\":950,\"renderers\":[{\"id\":\"c9eb7b39-7d64-4711-85a7-609570fd0b70\",\"type\":\"CategoricalAxis\"},{\"id\":\"73440ed5-8faf-4d8b-a9de-8fe74e0892b4\",\"type\":\"Grid\"},{\"id\":\"072d2daa-21c1-4e2a-be0c-75401e6daef4\",\"type\":\"CategoricalAxis\"},{\"id\":\"30d129b9-36ce-4dac-8eae-ac311d9470ad\",\"type\":\"Grid\"},{\"id\":\"e486e3c4-32c3-4233-a86c-99246dd2fb53\",\"type\":\"GlyphRenderer\"},{\"id\":\"2e12a153-a2e3-4f2d-a8dc-01adfb72791b\",\"type\":\"ColorBar\"}],\"right\":[{\"id\":\"2e12a153-a2e3-4f2d-a8dc-01adfb72791b\",\"type\":\"ColorBar\"}],\"title\":{\"id\":\"857e73f1-5320-49b0-8944-75792b4c5588\",\"type\":\"Title\"},\"toolbar\":{\"id\":\"cbd4acf0-4f4c-418b-9329-f299e7842e81\",\"type\":\"Toolbar\"},\"toolbar_location\":\"above\",\"x_range\":{\"id\":\"9b5bc148-e384-4353-aee6-c5eb70074f23\",\"type\":\"FactorRange\"},\"x_scale\":{\"id\":\"b038a884-b1dd-4301-88f8-42e50a998817\",\"type\":\"CategoricalScale\"},\"y_range\":{\"id\":\"8785ef57-07b9-4764-b299-39cd4cf032ca\",\"type\":\"FactorRange\"},\"y_scale\":{\"id\":\"2a85b23a-6e04-498f-9955-45740e18162e\",\"type\":\"CategoricalScale\"}},\"id\":\"f9e04e0f-1dbf-46e1-bde5-74b23a1918c9\",\"subtype\":\"Figure\",\"type\":\"Plot\"},{\"attributes\":{\"callback\":null,\"renderers\":\"auto\",\"tooltips\":[[\"Operator\",\"@Op\"],[\"Model\",\"@Type\"],[\"Aircraft Count\",\"@Count\"],[\"Percent of Fleet\",\"@Percentage{0.0}% of fleet\"],[\"Total Aircraft\",\"@Total{,}\"]]},\"id\":\"66787b82-8684-4eca-a7fc-99d7142296b4\",\"type\":\"HoverTool\"},{\"attributes\":{\"plot\":null,\"text\":\"Aircraft Model by Operator\"},\"id\":\"857e73f1-5320-49b0-8944-75792b4c5588\",\"type\":\"Title\"},{\"attributes\":{\"callback\":null,\"factors\":[\"A319\",\"A320\",\"A321\",\"A332\",\"A333\",\"B737\",\"B738\",\"B739\",\"B752\",\"B763\",\"B772\",\"B773\",\"CRJ9\",\"E170\",\"E190\"]},\"id\":\"9b5bc148-e384-4353-aee6-c5eb70074f23\",\"type\":\"FactorRange\"},{\"attributes\":{},\"id\":\"a136ab2c-251b-4c04-9323-101bed45c6e2\",\"type\":\"SaveTool\"},{\"attributes\":{\"active_drag\":\"auto\",\"active_inspect\":\"auto\",\"active_multi\":null,\"active_scroll\":\"auto\",\"active_tap\":\"auto\",\"tools\":[{\"id\":\"66787b82-8684-4eca-a7fc-99d7142296b4\",\"type\":\"HoverTool\"},{\"id\":\"a136ab2c-251b-4c04-9323-101bed45c6e2\",\"type\":\"SaveTool\"}]},\"id\":\"cbd4acf0-4f4c-418b-9329-f299e7842e81\",\"type\":\"Toolbar\"},{\"attributes\":{\"color_mapper\":{\"id\":\"2f4a86b6-9c48-4a91-830b-d88c54858c6f\",\"type\":\"LogColorMapper\"},\"formatter\":{\"id\":\"d3d09d52-db1f-4ab3-851e-7dc8dd118545\",\"type\":\"BasicTickFormatter\"},\"label_standoff\":6,\"location\":[0,0],\"major_label_text_font_size\":{\"value\":\"12pt\"},\"plot\":{\"id\":\"f9e04e0f-1dbf-46e1-bde5-74b23a1918c9\",\"subtype\":\"Figure\",\"type\":\"Plot\"},\"ticker\":{\"id\":\"1e9bb35c-b9d9-435f-891d-532cb67fbc97\",\"type\":\"BasicTicker\"}},\"id\":\"2e12a153-a2e3-4f2d-a8dc-01adfb72791b\",\"type\":\"ColorBar\"},{\"attributes\":{\"data_source\":{\"id\":\"8036269b-96e7-4678-a507-7a017d06cf43\",\"type\":\"ColumnDataSource\"},\"glyph\":{\"id\":\"9a9c1023-f9e8-4c4d-9ed4-487016eac97b\",\"type\":\"Rect\"},\"hover_glyph\":null,\"muted_glyph\":null,\"nonselection_glyph\":{\"id\":\"a37bcbf1-4872-4869-9a91-1e7e7b27d91e\",\"type\":\"Rect\"},\"selection_glyph\":null,\"view\":{\"id\":\"cac9adfd-2210-4f67-a07a-88105b190e9a\",\"type\":\"CDSView\"}},\"id\":\"e486e3c4-32c3-4233-a86c-99246dd2fb53\",\"type\":\"GlyphRenderer\"},{\"attributes\":{},\"id\":\"19f33102-4bfd-43d7-bfe7-15ed2e32eb48\",\"type\":\"UnionRenderers\"},{\"attributes\":{\"callback\":null,\"factors\":[\"Virgin\",\"United\",\"Spirit\",\"Southwest\",\"SkyWest\",\"Other\",\"JetBlue\",\"Frontier\",\"Delta\",\"American\",\"Air Canada\"]},\"id\":\"8785ef57-07b9-4764-b299-39cd4cf032ca\",\"type\":\"FactorRange\"},{\"attributes\":{\"fill_alpha\":{\"value\":0.1},\"fill_color\":{\"value\":\"#1f77b4\"},\"height\":{\"units\":\"data\",\"value\":1},\"line_alpha\":{\"value\":0.1},\"line_color\":{\"value\":\"#1f77b4\"},\"width\":{\"units\":\"data\",\"value\":1},\"x\":{\"field\":\"Type\"},\"y\":{\"field\":\"Op\"}},\"id\":\"a37bcbf1-4872-4869-9a91-1e7e7b27d91e\",\"type\":\"Rect\"},{\"attributes\":{\"high\":69.35749588138385,\"low\":1,\"palette\":[\"#0C0786\",\"#100787\",\"#130689\",\"#15068A\",\"#18068B\",\"#1B068C\",\"#1D068D\",\"#1F058E\",\"#21058F\",\"#230590\",\"#250591\",\"#270592\",\"#290593\",\"#2B0594\",\"#2D0494\",\"#2F0495\",\"#310496\",\"#330497\",\"#340498\",\"#360498\",\"#380499\",\"#3A049A\",\"#3B039A\",\"#3D039B\",\"#3F039C\",\"#40039C\",\"#42039D\",\"#44039E\",\"#45039E\",\"#47029F\",\"#49029F\",\"#4A02A0\",\"#4C02A1\",\"#4E02A1\",\"#4F02A2\",\"#5101A2\",\"#5201A3\",\"#5401A3\",\"#5601A3\",\"#5701A4\",\"#5901A4\",\"#5A00A5\",\"#5C00A5\",\"#5E00A5\",\"#5F00A6\",\"#6100A6\",\"#6200A6\",\"#6400A7\",\"#6500A7\",\"#6700A7\",\"#6800A7\",\"#6A00A7\",\"#6C00A8\",\"#6D00A8\",\"#6F00A8\",\"#7000A8\",\"#7200A8\",\"#7300A8\",\"#7500A8\",\"#7601A8\",\"#7801A8\",\"#7901A8\",\"#7B02A8\",\"#7C02A7\",\"#7E03A7\",\"#7F03A7\",\"#8104A7\",\"#8204A7\",\"#8405A6\",\"#8506A6\",\"#8607A6\",\"#8807A5\",\"#8908A5\",\"#8B09A4\",\"#8C0AA4\",\"#8E0CA4\",\"#8F0DA3\",\"#900EA3\",\"#920FA2\",\"#9310A1\",\"#9511A1\",\"#9612A0\",\"#9713A0\",\"#99149F\",\"#9A159E\",\"#9B179E\",\"#9D189D\",\"#9E199C\",\"#9F1A9B\",\"#A01B9B\",\"#A21C9A\",\"#A31D99\",\"#A41E98\",\"#A51F97\",\"#A72197\",\"#A82296\",\"#A92395\",\"#AA2494\",\"#AC2593\",\"#AD2692\",\"#AE2791\",\"#AF2890\",\"#B02A8F\",\"#B12B8F\",\"#B22C8E\",\"#B42D8D\",\"#B52E8C\",\"#B62F8B\",\"#B7308A\",\"#B83289\",\"#B93388\",\"#BA3487\",\"#BB3586\",\"#BC3685\",\"#BD3784\",\"#BE3883\",\"#BF3982\",\"#C03B81\",\"#C13C80\",\"#C23D80\",\"#C33E7F\",\"#C43F7E\",\"#C5407D\",\"#C6417C\",\"#C7427B\",\"#C8447A\",\"#C94579\",\"#CA4678\",\"#CB4777\",\"#CC4876\",\"#CD4975\",\"#CE4A75\",\"#CF4B74\",\"#D04D73\",\"#D14E72\",\"#D14F71\",\"#D25070\",\"#D3516F\",\"#D4526E\",\"#D5536D\",\"#D6556D\",\"#D7566C\",\"#D7576B\",\"#D8586A\",\"#D95969\",\"#DA5A68\",\"#DB5B67\",\"#DC5D66\",\"#DC5E66\",\"#DD5F65\",\"#DE6064\",\"#DF6163\",\"#DF6262\",\"#E06461\",\"#E16560\",\"#E26660\",\"#E3675F\",\"#E3685E\",\"#E46A5D\",\"#E56B5C\",\"#E56C5B\",\"#E66D5A\",\"#E76E5A\",\"#E87059\",\"#E87158\",\"#E97257\",\"#EA7356\",\"#EA7455\",\"#EB7654\",\"#EC7754\",\"#EC7853\",\"#ED7952\",\"#ED7B51\",\"#EE7C50\",\"#EF7D4F\",\"#EF7E4E\",\"#F0804D\",\"#F0814D\",\"#F1824C\",\"#F2844B\",\"#F2854A\",\"#F38649\",\"#F38748\",\"#F48947\",\"#F48A47\",\"#F58B46\",\"#F58D45\",\"#F68E44\",\"#F68F43\",\"#F69142\",\"#F79241\",\"#F79341\",\"#F89540\",\"#F8963F\",\"#F8983E\",\"#F9993D\",\"#F99A3C\",\"#FA9C3B\",\"#FA9D3A\",\"#FA9F3A\",\"#FAA039\",\"#FBA238\",\"#FBA337\",\"#FBA436\",\"#FCA635\",\"#FCA735\",\"#FCA934\",\"#FCAA33\",\"#FCAC32\",\"#FCAD31\",\"#FDAF31\",\"#FDB030\",\"#FDB22F\",\"#FDB32E\",\"#FDB52D\",\"#FDB62D\",\"#FDB82C\",\"#FDB92B\",\"#FDBB2B\",\"#FDBC2A\",\"#FDBE29\",\"#FDC029\",\"#FDC128\",\"#FDC328\",\"#FDC427\",\"#FDC626\",\"#FCC726\",\"#FCC926\",\"#FCCB25\",\"#FCCC25\",\"#FCCE25\",\"#FBD024\",\"#FBD124\",\"#FBD324\",\"#FAD524\",\"#FAD624\",\"#FAD824\",\"#F9D924\",\"#F9DB24\",\"#F8DD24\",\"#F8DF24\",\"#F7E024\",\"#F7E225\",\"#F6E425\",\"#F6E525\",\"#F5E726\",\"#F5E926\",\"#F4EA26\",\"#F3EC26\",\"#F3EE26\",\"#F2F026\",\"#F2F126\",\"#F1F326\",\"#F0F525\",\"#F0F623\",\"#EFF821\"]},\"id\":\"2f4a86b6-9c48-4a91-830b-d88c54858c6f\",\"type\":\"LogColorMapper\"},{\"attributes\":{\"callback\":null,\"data\":{\"Count\":{\"__ndarray__\":\"AAAAAAAAPUAAAAAAAABRQAAAAAAAgEBAAAAAAAAAIkAAAAAAAAAAAAAAAAAAAHNAAAAAAAAAAAAAAAAAAAAAAAAAAAAAADlAAAAAAAAATEAAAAAAAAAcQAAAAAAAAEJAAAAAAAAAP0AAAAAAAABFQAAAAAAAADNAAAAAAADAW0AAAAAAAOCXQAAAAAAAAAAAAAAAAAAAAAAAAAAAAABJQAAAAAAAQFNAAAAAAAAAREAAAAAAAAAzQAAAAAAA4GVAAAAAAACAQkAAAAAAAAAxQAAAAAAAgEhAAAAAAABwgEAAAAAAAAAAAAAAAAAAAAAAAAAAAAAAPUAAAAAAAAAAAAAAAAAAAPA/AAAAAAAAAAAAAAAAAAAoQAAAAAAAABRAAAAAAAAAAAAAAAAAAAAAAAAAAAAA4G9AAAAAAAAAAAAAAAAAAAAAAAAAAAAAAAAAAAAAAAAAAAAAAAAAAAAQQAAAAAAAABhAAAAAAAAAGEAAAAAAAAA0QAAAAAAAAAAAAAAAAAAAAAAAAAAAACB3QAAAAAAAAAAAAAAAAAAAAAAAAAAAAAAAAAAAAAAAAAAAAAAAAAAAHEAAAAAAAAAAAAAAAAAAAAAAAAAAAAAAGEAAAAAAAAAAAAAAAAAAAAAAAAAAAADgaEAAAAAAAAAAAAAAAAAAUHpAAAAAAAAAAAAAAAAAAAA6QAAAAAAAAPA/AAAAAAAAAAAAAAAAAMBrQAAAAAAAAEVAAAAAAAAAAAAAAAAAAAAAAAAAAAAAeJtAAAAAAAAAAAAAAAAAAEBnQAAAAAAAAAAAAAAAAADAV0AAAAAAAMBQQAAAAAAAAAAAAAAAAAAAAAAAAAAAAIBSQAAAAAAAAAAAAAAAAAAAAAAAAAAAAMBjQAAAAAAAAAAAAAAAAAAAAAAAAAAAAAAAAAAAAAAAgFtAAAAAAAAAAAAAAAAAAAAAAAAAAAAAADFAAAAAAAAAUEAAAAAAAAAAAAAAAAAAAAAAAAAAAAAAU0AAAAAAAAAAAAAAAAAAAAAAAAAAAAAAAAAAAAAAAAA+QAAAAAAAAAAAAAAAAAAANUAAAAAAAAAoQAAAAAAAAD5AAAAAAAAAAAAAAAAAAAAAAAAAAAAAwGJAAAAAAAAAAAAAAAAAAAAAAAAAAAAAAAAAAAAAAAAAMEAAAAAAAAAAAAAAAAAAABBAAAAAAAAAN0AAAAAAAAAAAAAAAAAAAAAAAAAAAAAAAAAAAAAAAKBjQAAAAAAAAAAAAAAAAAAAAAAAAAAAAAAAAAAAAAAAAEBAAAAAAAAAAAAAAAAAAAAmQAAAAAAAAPA/AAAAAAAAAAAAAAAAAAAAAAAAAAAAAAAAAAAAAADwcUAAAAAAAAAAAAAAAAAAAAAAAAAAAAAAAAAAAAAAAAAIQAAAAAAAAAhAAAAAAAAAM0AAAAAAAABFQAAAAAAAgEhAAAAAAAAAAAAAAAAAAAAAAAAAAAAAAE9AAAAAAAAAIkAAAAAAAAAAAAAAAAAAAAAAAAAAAAAAAAAAAAAAAAAAAAAAAAAAADRAAAAAAAAAPUAAAAAAAAAcQAAAAAAAAAAAAAAAAAAAAAAAAAAAAOBgQAAAAAAAADFAAAAAAAAAAAAAAAAAAAAAAAAAAAAAAD1AAAAAAAAAAAAAAAAAAAA3QAAAAAAAAPA/AAAAAAAAAAAAAAAAAAAAAAAAAAAAgEJAAAAAAABgYkAAAAAAAAAAAAAAAAAAAAAAAAAAAAAAAAAAAAAAAAAAAAAAAAAAAAAA\",\"dtype\":\"float64\",\"shape\":[165]},\"Op\":[\"Air Canada\",\"American\",\"Delta\",\"Frontier\",\"JetBlue\",\"Other\",\"SkyWest\",\"Southwest\",\"Spirit\",\"United\",\"Virgin\",\"Air Canada\",\"American\",\"Delta\",\"Frontier\",\"JetBlue\",\"Other\",\"SkyWest\",\"Southwest\",\"Spirit\",\"United\",\"Virgin\",\"Air Canada\",\"American\",\"Delta\",\"Frontier\",\"JetBlue\",\"Other\",\"SkyWest\",\"Southwest\",\"Spirit\",\"United\",\"Virgin\",\"Air Canada\",\"American\",\"Delta\",\"Frontier\",\"JetBlue\",\"Other\",\"SkyWest\",\"Southwest\",\"Spirit\",\"United\",\"Virgin\",\"Air Canada\",\"American\",\"Delta\",\"Frontier\",\"JetBlue\",\"Other\",\"SkyWest\",\"Southwest\",\"Spirit\",\"United\",\"Virgin\",\"Air Canada\",\"American\",\"Delta\",\"Frontier\",\"JetBlue\",\"Other\",\"SkyWest\",\"Southwest\",\"Spirit\",\"United\",\"Virgin\",\"Air Canada\",\"American\",\"Delta\",\"Frontier\",\"JetBlue\",\"Other\",\"SkyWest\",\"Southwest\",\"Spirit\",\"United\",\"Virgin\",\"Air Canada\",\"American\",\"Delta\",\"Frontier\",\"JetBlue\",\"Other\",\"SkyWest\",\"Southwest\",\"Spirit\",\"United\",\"Virgin\",\"Air Canada\",\"American\",\"Delta\",\"Frontier\",\"JetBlue\",\"Other\",\"SkyWest\",\"Southwest\",\"Spirit\",\"United\",\"Virgin\",\"Air Canada\",\"American\",\"Delta\",\"Frontier\",\"JetBlue\",\"Other\",\"SkyWest\",\"Southwest\",\"Spirit\",\"United\",\"Virgin\",\"Air Canada\",\"American\",\"Delta\",\"Frontier\",\"JetBlue\",\"Other\",\"SkyWest\",\"Southwest\",\"Spirit\",\"United\",\"Virgin\",\"Air Canada\",\"American\",\"Delta\",\"Frontier\",\"JetBlue\",\"Other\",\"SkyWest\",\"Southwest\",\"Spirit\",\"United\",\"Virgin\",\"Air Canada\",\"American\",\"Delta\",\"Frontier\",\"JetBlue\",\"Other\",\"SkyWest\",\"Southwest\",\"Spirit\",\"United\",\"Virgin\",\"Air Canada\",\"American\",\"Delta\",\"Frontier\",\"JetBlue\",\"Other\",\"SkyWest\",\"Southwest\",\"Spirit\",\"United\",\"Virgin\",\"Air Canada\",\"American\",\"Delta\",\"Frontier\",\"JetBlue\",\"Other\",\"SkyWest\",\"Southwest\",\"Spirit\",\"United\",\"Virgin\"],\"Percentage\":{\"__ndarray__\":\"o76zUd/ZLkDXGsNng0glQDHZ7SQNIyBAAAAAAAAANEAAAAAAAAAAAHqbdJcx5RNAAAAAAAAAAAAAAAAAAAAAAJ7YiZ3YCThAl8Qy9fGgJ0Ce2Imd2IkVQF1BTK4gJjNAaonXGsNnE0D5Ql2js4kkQMdxHMdxHEVAFTAfyC4sTEAAAAAAAAA5QAAAAAAAAAAAAAAAAAAAAACe2Imd2AlIQCjnklimPjBAT+zETuzEPkCo72zUdzYkQHuzwGH0YjtAGEFY68gXIkA5juM4juNCQB7VrD+D3zhAj6uAYEg2IUAAAAAAAAAAAAAAAAAAAAAAKHZiJ3biO0AAAAAAAAAAANmJndiJneg/AAAAAAAAAADWFrnOBAz+PwYPKMBVj/M/AAAAAAAAAAAAAAAAAAAAAPG0x1VAsBBAAAAAAAAAAAAAAAAAAAAAAAAAAAAAAAAAAAAAAAAAAADZiZ3YiZ0IQCZXEJMriAlA1ha5zgQM7j8GDyjAVY8TQAAAAAAAAAAAAAAAAAAAAAATjurv8zYYQAAAAAAAAAAAAAAAAAAAAAAAAAAAAAAAAAAAAAAAAAAAntiJndiJFUAAAAAAAAAAAAAAAAAAAAAA1N78TM149z8AAAAAAAAAAAAAAAAAAAAAPe1xFRAMCkAAAAAAAAAAAOW/ZzbhVlFAAAAAAAAAAACNttOs4PAVQNmJndiJneg/AAAAAAAAAAA0AYPH8l5BQPlCXaOziSRAAAAAAAAAAAAAAAAAAAAAAJFsEc1ZwzxAAAAAAAAAAABrAGEme6Q+QAAAAAAAAAAAwMZoO80KNEBO7MRO7MRJQAAAAAAAAAAAAAAAAAAAAAAYQVjryBcyQAAAAAAAAAAAAAAAAAAAAABnDYqnPa4EQAAAAAAAAAAAAAAAAAAAAAAAAAAAAAAAABQBG6PtNDdAAAAAAAAAAAAAAAAAAAAAANcaw2eDSAVAb36mZrxLL0AAAAAAAAAAAAAAAAAAAAAAept0lzHl8z8AAAAAAAAAAAAAAAAAAAAAAAAAAAAAAACi0pE9A1EZQAAAAAAAAAAAQUyuICZXJkDWFrnOBAz+P4kWPKAAVx1AAAAAAAAAAAAAAAAAAAAAACsgGJItogNAAAAAAAAAAAAAAAAAAAAAAAAAAAAAAAAArODwhRQBC0AAAAAAAAAAAMTkCmJyBQFAjWBxm4TLDEAAAAAAAAAAAAAAAAAAAAAAAAAAAAAAAADAz9uku4wEQAAAAAAAAAAAAAAAAAAAAAAAAAAAAAAAAKzg8IUUARtAAAAAAAAAAACO+s5GfWcXQI9kezQDCMQ/AAAAAAAAAAAAAAAAAAAAAAAAAAAAAAAAao+rgGDIEkAAAAAAAAAAAAAAAAAAAAAAAAAAAAAAAACCqHRkz0DkP2MndmIndgJAqO9s1Hc2JED88+E0hEoaQM14lz789SdAAAAAAAAAAAAAAAAAAAAAACfdZUz5OvA/7MRO7MROQUAAAAAAAAAAAAAAAAAAAAAAAAAAAAAAAAAAAAAAAAAAAPWdjfrORiVAItOP50InEkChrtHZRGL7PwAAAAAAAAAAAAAAAAAAAABag+Jpj6sBQIqd2ImdWFBAAAAAAAAAAAAAAAAAAAAAAJ1LYpn6eBhAAAAAAAAAAADaqO9s1HcoQI9kezQDCMQ/AAAAAAAAAAAAAAAAAAAAALnKFDAfyDJANGcNiqc9A0AAAAAAAAAAAAAAAAAAAAAAAAAAAAAAAAAAAAAAAAAAAAAAAAAAAAAA\",\"dtype\":\"float64\",\"shape\":[165]},\"Total\":{\"__ndarray__\":\"AAAAAACAZ0AAAAAAAPiDQAAAAAAAkHlAAAAAAACARkAAAAAAAKBoQAAAAAAA4LdAAAAAAAAAOkAAAAAAAPiCQAAAAAAAAFpAAAAAAACgfUAAAAAAAEBgQAAAAAAAgGdAAAAAAAD4g0AAAAAAAJB5QAAAAAAAgEZAAAAAAACgaEAAAAAAAOC3QAAAAAAAADpAAAAAAAD4gkAAAAAAAABaQAAAAAAAoH1AAAAAAABAYEAAAAAAAIBnQAAAAAAA+INAAAAAAACQeUAAAAAAAIBGQAAAAAAAoGhAAAAAAADgt0AAAAAAAAA6QAAAAAAA+IJAAAAAAAAAWkAAAAAAAKB9QAAAAAAAQGBAAAAAAACAZ0AAAAAAAPiDQAAAAAAAkHlAAAAAAACARkAAAAAAAKBoQAAAAAAA4LdAAAAAAAAAOkAAAAAAAPiCQAAAAAAAAFpAAAAAAACgfUAAAAAAAEBgQAAAAAAAgGdAAAAAAAD4g0AAAAAAAJB5QAAAAAAAgEZAAAAAAACgaEAAAAAAAOC3QAAAAAAAADpAAAAAAAD4gkAAAAAAAABaQAAAAAAAoH1AAAAAAABAYEAAAAAAAIBnQAAAAAAA+INAAAAAAACQeUAAAAAAAIBGQAAAAAAAoGhAAAAAAADgt0AAAAAAAAA6QAAAAAAA+IJAAAAAAAAAWkAAAAAAAKB9QAAAAAAAQGBAAAAAAACAZ0AAAAAAAPiDQAAAAAAAkHlAAAAAAACARkAAAAAAAKBoQAAAAAAA4LdAAAAAAAAAOkAAAAAAAPiCQAAAAAAAAFpAAAAAAACgfUAAAAAAAEBgQAAAAAAAgGdAAAAAAAD4g0AAAAAAAJB5QAAAAAAAgEZAAAAAAACgaEAAAAAAAOC3QAAAAAAAADpAAAAAAAD4gkAAAAAAAABaQAAAAAAAoH1AAAAAAABAYEAAAAAAAIBnQAAAAAAA+INAAAAAAACQeUAAAAAAAIBGQAAAAAAAoGhAAAAAAADgt0AAAAAAAAA6QAAAAAAA+IJAAAAAAAAAWkAAAAAAAKB9QAAAAAAAQGBAAAAAAACAZ0AAAAAAAPiDQAAAAAAAkHlAAAAAAACARkAAAAAAAKBoQAAAAAAA4LdAAAAAAAAAOkAAAAAAAPiCQAAAAAAAAFpAAAAAAACgfUAAAAAAAEBgQAAAAAAAgGdAAAAAAAD4g0AAAAAAAJB5QAAAAAAAgEZAAAAAAACgaEAAAAAAAOC3QAAAAAAAADpAAAAAAAD4gkAAAAAAAABaQAAAAAAAoH1AAAAAAABAYEAAAAAAAIBnQAAAAAAA+INAAAAAAACQeUAAAAAAAIBGQAAAAAAAoGhAAAAAAADgt0AAAAAAAAA6QAAAAAAA+IJAAAAAAAAAWkAAAAAAAKB9QAAAAAAAQGBAAAAAAACAZ0AAAAAAAPiDQAAAAAAAkHlAAAAAAACARkAAAAAAAKBoQAAAAAAA4LdAAAAAAAAAOkAAAAAAAPiCQAAAAAAAAFpAAAAAAACgfUAAAAAAAEBgQAAAAAAAgGdAAAAAAAD4g0AAAAAAAJB5QAAAAAAAgEZAAAAAAACgaEAAAAAAAOC3QAAAAAAAADpAAAAAAAD4gkAAAAAAAABaQAAAAAAAoH1AAAAAAABAYEAAAAAAAIBnQAAAAAAA+INAAAAAAACQeUAAAAAAAIBGQAAAAAAAoGhAAAAAAADgt0AAAAAAAAA6QAAAAAAA+IJAAAAAAAAAWkAAAAAAAKB9QAAAAAAAQGBA\",\"dtype\":\"float64\",\"shape\":[165]},\"Type\":[\"A319\",\"A319\",\"A319\",\"A319\",\"A319\",\"A319\",\"A319\",\"A319\",\"A319\",\"A319\",\"A319\",\"A320\",\"A320\",\"A320\",\"A320\",\"A320\",\"A320\",\"A320\",\"A320\",\"A320\",\"A320\",\"A320\",\"A321\",\"A321\",\"A321\",\"A321\",\"A321\",\"A321\",\"A321\",\"A321\",\"A321\",\"A321\",\"A321\",\"A332\",\"A332\",\"A332\",\"A332\",\"A332\",\"A332\",\"A332\",\"A332\",\"A332\",\"A332\",\"A332\",\"A333\",\"A333\",\"A333\",\"A333\",\"A333\",\"A333\",\"A333\",\"A333\",\"A333\",\"A333\",\"A333\",\"B737\",\"B737\",\"B737\",\"B737\",\"B737\",\"B737\",\"B737\",\"B737\",\"B737\",\"B737\",\"B737\",\"B738\",\"B738\",\"B738\",\"B738\",\"B738\",\"B738\",\"B738\",\"B738\",\"B738\",\"B738\",\"B738\",\"B739\",\"B739\",\"B739\",\"B739\",\"B739\",\"B739\",\"B739\",\"B739\",\"B739\",\"B739\",\"B739\",\"B752\",\"B752\",\"B752\",\"B752\",\"B752\",\"B752\",\"B752\",\"B752\",\"B752\",\"B752\",\"B752\",\"B763\",\"B763\",\"B763\",\"B763\",\"B763\",\"B763\",\"B763\",\"B763\",\"B763\",\"B763\",\"B763\",\"B772\",\"B772\",\"B772\",\"B772\",\"B772\",\"B772\",\"B772\",\"B772\",\"B772\",\"B772\",\"B772\",\"B773\",\"B773\",\"B773\",\"B773\",\"B773\",\"B773\",\"B773\",\"B773\",\"B773\",\"B773\",\"B773\",\"CRJ9\",\"CRJ9\",\"CRJ9\",\"CRJ9\",\"CRJ9\",\"CRJ9\",\"CRJ9\",\"CRJ9\",\"CRJ9\",\"CRJ9\",\"CRJ9\",\"E170\",\"E170\",\"E170\",\"E170\",\"E170\",\"E170\",\"E170\",\"E170\",\"E170\",\"E170\",\"E170\",\"E190\",\"E190\",\"E190\",\"E190\",\"E190\",\"E190\",\"E190\",\"E190\",\"E190\",\"E190\",\"E190\"],\"index\":[0,1,2,3,4,5,6,7,8,9,10,11,12,13,14,15,16,17,18,19,20,21,22,23,24,25,26,27,28,29,30,31,32,33,34,35,36,37,38,39,40,41,42,43,44,45,46,47,48,49,50,51,52,53,54,55,56,57,58,59,60,61,62,63,64,65,66,67,68,69,70,71,72,73,74,75,76,77,78,79,80,81,82,83,84,85,86,87,88,89,90,91,92,93,94,95,96,97,98,99,100,101,102,103,104,105,106,107,108,109,110,111,112,113,114,115,116,117,118,119,120,121,122,123,124,125,126,127,128,129,130,131,132,133,134,135,136,137,138,139,140,141,142,143,144,145,146,147,148,149,150,151,152,153,154,155,156,157,158,159,160,161,162,163,164]},\"selected\":{\"id\":\"3b0e07f9-ae11-45b2-a273-bd6e517ea679\",\"type\":\"Selection\"},\"selection_policy\":{\"id\":\"19f33102-4bfd-43d7-bfe7-15ed2e32eb48\",\"type\":\"UnionRenderers\"}},\"id\":\"8036269b-96e7-4678-a507-7a017d06cf43\",\"type\":\"ColumnDataSource\"},{\"attributes\":{\"axis_line_color\":{\"value\":null},\"formatter\":{\"id\":\"9a2a446e-5570-4b27-8356-354b618cae44\",\"type\":\"CategoricalTickFormatter\"},\"major_label_standoff\":0,\"major_label_text_font_size\":{\"value\":\"12pt\"},\"major_tick_line_color\":{\"value\":null},\"plot\":{\"id\":\"f9e04e0f-1dbf-46e1-bde5-74b23a1918c9\",\"subtype\":\"Figure\",\"type\":\"Plot\"},\"ticker\":{\"id\":\"8a1f57e9-9837-4b0d-8fec-d7ee9f9a5fd1\",\"type\":\"CategoricalTicker\"}},\"id\":\"072d2daa-21c1-4e2a-be0c-75401e6daef4\",\"type\":\"CategoricalAxis\"},{\"attributes\":{},\"id\":\"b038a884-b1dd-4301-88f8-42e50a998817\",\"type\":\"CategoricalScale\"},{\"attributes\":{},\"id\":\"121b3c0f-2b6c-41b1-ae4d-55c9fdd69c07\",\"type\":\"CategoricalTickFormatter\"},{\"attributes\":{},\"id\":\"2a85b23a-6e04-498f-9955-45740e18162e\",\"type\":\"CategoricalScale\"},{\"attributes\":{\"desired_num_ticks\":10},\"id\":\"1e9bb35c-b9d9-435f-891d-532cb67fbc97\",\"type\":\"BasicTicker\"},{\"attributes\":{},\"id\":\"d3d09d52-db1f-4ab3-851e-7dc8dd118545\",\"type\":\"BasicTickFormatter\"},{\"attributes\":{\"grid_line_color\":{\"value\":null},\"plot\":{\"id\":\"f9e04e0f-1dbf-46e1-bde5-74b23a1918c9\",\"subtype\":\"Figure\",\"type\":\"Plot\"},\"ticker\":{\"id\":\"57f5de08-b309-4af2-8da1-7d2589c97202\",\"type\":\"CategoricalTicker\"}},\"id\":\"73440ed5-8faf-4d8b-a9de-8fe74e0892b4\",\"type\":\"Grid\"},{\"attributes\":{},\"id\":\"9a2a446e-5570-4b27-8356-354b618cae44\",\"type\":\"CategoricalTickFormatter\"},{\"attributes\":{\"axis_line_color\":{\"value\":null},\"formatter\":{\"id\":\"121b3c0f-2b6c-41b1-ae4d-55c9fdd69c07\",\"type\":\"CategoricalTickFormatter\"},\"major_label_orientation\":1.0471975511965976,\"major_label_standoff\":0,\"major_label_text_font_size\":{\"value\":\"12pt\"},\"major_tick_line_color\":{\"value\":null},\"plot\":{\"id\":\"f9e04e0f-1dbf-46e1-bde5-74b23a1918c9\",\"subtype\":\"Figure\",\"type\":\"Plot\"},\"ticker\":{\"id\":\"57f5de08-b309-4af2-8da1-7d2589c97202\",\"type\":\"CategoricalTicker\"}},\"id\":\"c9eb7b39-7d64-4711-85a7-609570fd0b70\",\"type\":\"CategoricalAxis\"},{\"attributes\":{},\"id\":\"3b0e07f9-ae11-45b2-a273-bd6e517ea679\",\"type\":\"Selection\"},{\"attributes\":{},\"id\":\"57f5de08-b309-4af2-8da1-7d2589c97202\",\"type\":\"CategoricalTicker\"},{\"attributes\":{\"fill_color\":{\"field\":\"Percentage\",\"transform\":{\"id\":\"2f4a86b6-9c48-4a91-830b-d88c54858c6f\",\"type\":\"LogColorMapper\"}},\"height\":{\"units\":\"data\",\"value\":1},\"line_color\":{\"value\":\"white\"},\"width\":{\"units\":\"data\",\"value\":1},\"x\":{\"field\":\"Type\"},\"y\":{\"field\":\"Op\"}},\"id\":\"9a9c1023-f9e8-4c4d-9ed4-487016eac97b\",\"type\":\"Rect\"},{\"attributes\":{},\"id\":\"8a1f57e9-9837-4b0d-8fec-d7ee9f9a5fd1\",\"type\":\"CategoricalTicker\"}],\"root_ids\":[\"f9e04e0f-1dbf-46e1-bde5-74b23a1918c9\"]},\"title\":\"Bokeh Application\",\"version\":\"0.13.0\"}};\n",
       "  var render_items = [{\"docid\":\"e987e39e-49b3-4c39-9f0f-44c7df63be00\",\"roots\":{\"f9e04e0f-1dbf-46e1-bde5-74b23a1918c9\":\"95054fb1-b781-43e8-92d1-a09738a88a7c\"}}];\n",
       "  root.Bokeh.embed.embed_items_notebook(docs_json, render_items);\n",
       "\n",
       "  }\n",
       "  if (root.Bokeh !== undefined) {\n",
       "    embed_document(root);\n",
       "  } else {\n",
       "    var attempts = 0;\n",
       "    var timer = setInterval(function(root) {\n",
       "      if (root.Bokeh !== undefined) {\n",
       "        embed_document(root);\n",
       "        clearInterval(timer);\n",
       "      }\n",
       "      attempts++;\n",
       "      if (attempts > 100) {\n",
       "        console.log(\"Bokeh: ERROR: Unable to run BokehJS code because BokehJS library is missing\")\n",
       "        clearInterval(timer);\n",
       "      }\n",
       "    }, 10, root)\n",
       "  }\n",
       "})(window);"
      ],
      "application/vnd.bokehjs_exec.v0+json": ""
     },
     "metadata": {
      "application/vnd.bokehjs_exec.v0+json": {
       "id": "f9e04e0f-1dbf-46e1-bde5-74b23a1918c9"
      }
     },
     "output_type": "display_data"
    }
   ],
   "source": [
    "column_item_max, row_item_max = 15, 15\n",
    "col_name = 'Type'\n",
    "row_name = 'Op'\n",
    "col_name_long = 'Model'\n",
    "row_name_long = 'Operator'\n",
    "title = f\"Aircraft {col_name_long} by {row_name_long}\"\n",
    "\n",
    "top_column_item = list(df[col_name].value_counts()[:column_item_max].index)\n",
    "row_vs_col = df.groupby([row_name, col_name]).nunique()['Icao'].unstack().fillna(0)\n",
    "row_vs_col.index.name = row_name\n",
    "row_vs_col.columns.name = col_name\n",
    "row_vs_col = row_vs_col[top_column_item]\n",
    "row_vs_col['Total'] = row_vs_col.sum(axis=1)\n",
    "row_vs_col = row_vs_col.sort_values('Total', ascending=False)\n",
    "del row_vs_col['Total']\n",
    "row_vs_col = row_vs_col[:row_item_max]\n",
    "row_vs_col = row_vs_col.reindex(sorted(row_vs_col.columns), axis=1)\n",
    "row_vs_col = row_vs_col.reindex(sorted(row_vs_col.index), axis=0)\n",
    "row_vs_col_percent = row_vs_col.div(row_vs_col.sum(axis=1),axis=0) * 100\n",
    "col_vs_row_percent = row_vs_col_percent.T\n",
    "col_vs_row = row_vs_col.T\n",
    "\n",
    "col_vs_row_percent.index = col_vs_row_percent.index.astype(str)\n",
    "\n",
    "c = list(col_vs_row_percent.index)\n",
    "r = list(col_vs_row_percent.columns)\n",
    "\n",
    "arr_p = pd.DataFrame(col_vs_row_percent.stack(), columns=['Percentage']).reset_index()\n",
    "arr_c = pd.DataFrame(col_vs_row.stack(), columns=['Count']).reset_index()\n",
    "total_by_cou = col_vs_row.sum(axis=0)\n",
    "arr_c['Total'] = arr_c[row_name].map(total_by_cou)\n",
    "arr = pd.merge(arr_p, arr_c, how='outer', left_on=[row_name, col_name], right_on=[row_name, col_name])\n",
    "\n",
    "colors = Plasma256\n",
    "mapper = LogColorMapper(palette=colors, low=1, high=col_vs_row_percent.max().max())\n",
    "\n",
    "TOOLS = \"hover,save\"\n",
    "\n",
    "p = plotting.figure(title=title,\n",
    "           x_range=c, y_range=list(reversed(r)),\n",
    "           x_axis_location=\"above\", plot_width=950, plot_height=900,\n",
    "           tools=TOOLS, toolbar_location='above',\n",
    "           tooltips=[(row_name_long, '@'+row_name), \n",
    "                     (col_name_long, '@'+col_name), \n",
    "                     ('Aircraft Count', '@Count'),\n",
    "                     ('Percent of Fleet', '@Percentage{0.0}% of fleet'),\n",
    "                     (\"Total Aircraft\", '@Total{,}')])\n",
    "\n",
    "p.grid.grid_line_color = None\n",
    "p.axis.axis_line_color = None\n",
    "p.axis.major_tick_line_color = None\n",
    "p.axis.major_label_text_font_size = \"12pt\"\n",
    "p.axis.major_label_standoff = 0\n",
    "p.xaxis.major_label_orientation = pi / 3\n",
    "\n",
    "p.rect(x=col_name, y=row_name, width=1, height=1,\n",
    "       source=arr,\n",
    "       fill_color={'field': 'Percentage', 'transform': mapper},\n",
    "       line_color='white')\n",
    "\n",
    "color_bar = ColorBar(color_mapper=mapper, major_label_text_font_size=\"12pt\",\n",
    "                     ticker=BasicTicker(desired_num_ticks=10),\n",
    "                     label_standoff=6, border_line_color=None, location=(0, 0))\n",
    "p.add_layout(color_bar, 'right')\n",
    "show(p)"
   ]
  }
 ],
 "metadata": {
  "celltoolbar": "Slideshow",
  "kernelspec": {
   "display_name": "Python 3",
   "language": "python",
   "name": "python3"
  },
  "language_info": {
   "codemirror_mode": {
    "name": "ipython",
    "version": 3
   },
   "file_extension": ".py",
   "mimetype": "text/x-python",
   "name": "python",
   "nbconvert_exporter": "python",
   "pygments_lexer": "ipython3",
   "version": "3.6.2"
  }
 },
 "nbformat": 4,
 "nbformat_minor": 2
}
