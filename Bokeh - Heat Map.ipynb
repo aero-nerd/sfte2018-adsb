{
 "cells": [
  {
   "cell_type": "code",
   "execution_count": 1,
   "metadata": {
    "ExecuteTime": {
     "end_time": "2018-10-04T21:18:53.982638Z",
     "start_time": "2018-10-04T21:18:53.970462Z"
    },
    "slideshow": {
     "slide_type": "skip"
    }
   },
   "outputs": [],
   "source": [
    "# Note: the below code requires a restart of the notebook the first time it is run\n",
    "import sys\n",
    "import os\n",
    "from traitlets.config.manager import BaseJSONConfigManager\n",
    "path = os.path.join(sys.prefix, 'etc', 'jupyter', 'nbconfig')\n",
    "cm = BaseJSONConfigManager(config_dir=path)\n",
    "cm.update(\"livereveal\", {\"scroll\": True});"
   ]
  },
  {
   "cell_type": "code",
   "execution_count": 2,
   "metadata": {
    "ExecuteTime": {
     "end_time": "2018-10-04T21:18:55.456523Z",
     "start_time": "2018-10-04T21:18:53.986823Z"
    },
    "slideshow": {
     "slide_type": "skip"
    }
   },
   "outputs": [
    {
     "data": {
      "text/html": [
       "\n",
       "    <div class=\"bk-root\">\n",
       "        <a href=\"https://bokeh.pydata.org\" target=\"_blank\" class=\"bk-logo bk-logo-small bk-logo-notebook\"></a>\n",
       "        <span id=\"edc45cda-5d33-445e-80e6-622e3d521347\">Loading BokehJS ...</span>\n",
       "    </div>"
      ]
     },
     "metadata": {},
     "output_type": "display_data"
    },
    {
     "data": {
      "application/javascript": [
       "\n",
       "(function(root) {\n",
       "  function now() {\n",
       "    return new Date();\n",
       "  }\n",
       "\n",
       "  var force = true;\n",
       "\n",
       "  if (typeof (root._bokeh_onload_callbacks) === \"undefined\" || force === true) {\n",
       "    root._bokeh_onload_callbacks = [];\n",
       "    root._bokeh_is_loading = undefined;\n",
       "  }\n",
       "\n",
       "  var JS_MIME_TYPE = 'application/javascript';\n",
       "  var HTML_MIME_TYPE = 'text/html';\n",
       "  var EXEC_MIME_TYPE = 'application/vnd.bokehjs_exec.v0+json';\n",
       "  var CLASS_NAME = 'output_bokeh rendered_html';\n",
       "\n",
       "  /**\n",
       "   * Render data to the DOM node\n",
       "   */\n",
       "  function render(props, node) {\n",
       "    var script = document.createElement(\"script\");\n",
       "    node.appendChild(script);\n",
       "  }\n",
       "\n",
       "  /**\n",
       "   * Handle when an output is cleared or removed\n",
       "   */\n",
       "  function handleClearOutput(event, handle) {\n",
       "    var cell = handle.cell;\n",
       "\n",
       "    var id = cell.output_area._bokeh_element_id;\n",
       "    var server_id = cell.output_area._bokeh_server_id;\n",
       "    // Clean up Bokeh references\n",
       "    if (id != null && id in Bokeh.index) {\n",
       "      Bokeh.index[id].model.document.clear();\n",
       "      delete Bokeh.index[id];\n",
       "    }\n",
       "\n",
       "    if (server_id !== undefined) {\n",
       "      // Clean up Bokeh references\n",
       "      var cmd = \"from bokeh.io.state import curstate; print(curstate().uuid_to_server['\" + server_id + \"'].get_sessions()[0].document.roots[0]._id)\";\n",
       "      cell.notebook.kernel.execute(cmd, {\n",
       "        iopub: {\n",
       "          output: function(msg) {\n",
       "            var id = msg.content.text.trim();\n",
       "            if (id in Bokeh.index) {\n",
       "              Bokeh.index[id].model.document.clear();\n",
       "              delete Bokeh.index[id];\n",
       "            }\n",
       "          }\n",
       "        }\n",
       "      });\n",
       "      // Destroy server and session\n",
       "      var cmd = \"import bokeh.io.notebook as ion; ion.destroy_server('\" + server_id + \"')\";\n",
       "      cell.notebook.kernel.execute(cmd);\n",
       "    }\n",
       "  }\n",
       "\n",
       "  /**\n",
       "   * Handle when a new output is added\n",
       "   */\n",
       "  function handleAddOutput(event, handle) {\n",
       "    var output_area = handle.output_area;\n",
       "    var output = handle.output;\n",
       "\n",
       "    // limit handleAddOutput to display_data with EXEC_MIME_TYPE content only\n",
       "    if ((output.output_type != \"display_data\") || (!output.data.hasOwnProperty(EXEC_MIME_TYPE))) {\n",
       "      return\n",
       "    }\n",
       "\n",
       "    var toinsert = output_area.element.find(\".\" + CLASS_NAME.split(' ')[0]);\n",
       "\n",
       "    if (output.metadata[EXEC_MIME_TYPE][\"id\"] !== undefined) {\n",
       "      toinsert[toinsert.length - 1].firstChild.textContent = output.data[JS_MIME_TYPE];\n",
       "      // store reference to embed id on output_area\n",
       "      output_area._bokeh_element_id = output.metadata[EXEC_MIME_TYPE][\"id\"];\n",
       "    }\n",
       "    if (output.metadata[EXEC_MIME_TYPE][\"server_id\"] !== undefined) {\n",
       "      var bk_div = document.createElement(\"div\");\n",
       "      bk_div.innerHTML = output.data[HTML_MIME_TYPE];\n",
       "      var script_attrs = bk_div.children[0].attributes;\n",
       "      for (var i = 0; i < script_attrs.length; i++) {\n",
       "        toinsert[toinsert.length - 1].firstChild.setAttribute(script_attrs[i].name, script_attrs[i].value);\n",
       "      }\n",
       "      // store reference to server id on output_area\n",
       "      output_area._bokeh_server_id = output.metadata[EXEC_MIME_TYPE][\"server_id\"];\n",
       "    }\n",
       "  }\n",
       "\n",
       "  function register_renderer(events, OutputArea) {\n",
       "\n",
       "    function append_mime(data, metadata, element) {\n",
       "      // create a DOM node to render to\n",
       "      var toinsert = this.create_output_subarea(\n",
       "        metadata,\n",
       "        CLASS_NAME,\n",
       "        EXEC_MIME_TYPE\n",
       "      );\n",
       "      this.keyboard_manager.register_events(toinsert);\n",
       "      // Render to node\n",
       "      var props = {data: data, metadata: metadata[EXEC_MIME_TYPE]};\n",
       "      render(props, toinsert[toinsert.length - 1]);\n",
       "      element.append(toinsert);\n",
       "      return toinsert\n",
       "    }\n",
       "\n",
       "    /* Handle when an output is cleared or removed */\n",
       "    events.on('clear_output.CodeCell', handleClearOutput);\n",
       "    events.on('delete.Cell', handleClearOutput);\n",
       "\n",
       "    /* Handle when a new output is added */\n",
       "    events.on('output_added.OutputArea', handleAddOutput);\n",
       "\n",
       "    /**\n",
       "     * Register the mime type and append_mime function with output_area\n",
       "     */\n",
       "    OutputArea.prototype.register_mime_type(EXEC_MIME_TYPE, append_mime, {\n",
       "      /* Is output safe? */\n",
       "      safe: true,\n",
       "      /* Index of renderer in `output_area.display_order` */\n",
       "      index: 0\n",
       "    });\n",
       "  }\n",
       "\n",
       "  // register the mime type if in Jupyter Notebook environment and previously unregistered\n",
       "  if (root.Jupyter !== undefined) {\n",
       "    var events = require('base/js/events');\n",
       "    var OutputArea = require('notebook/js/outputarea').OutputArea;\n",
       "\n",
       "    if (OutputArea.prototype.mime_types().indexOf(EXEC_MIME_TYPE) == -1) {\n",
       "      register_renderer(events, OutputArea);\n",
       "    }\n",
       "  }\n",
       "\n",
       "  \n",
       "  if (typeof (root._bokeh_timeout) === \"undefined\" || force === true) {\n",
       "    root._bokeh_timeout = Date.now() + 5000;\n",
       "    root._bokeh_failed_load = false;\n",
       "  }\n",
       "\n",
       "  var NB_LOAD_WARNING = {'data': {'text/html':\n",
       "     \"<div style='background-color: #fdd'>\\n\"+\n",
       "     \"<p>\\n\"+\n",
       "     \"BokehJS does not appear to have successfully loaded. If loading BokehJS from CDN, this \\n\"+\n",
       "     \"may be due to a slow or bad network connection. Possible fixes:\\n\"+\n",
       "     \"</p>\\n\"+\n",
       "     \"<ul>\\n\"+\n",
       "     \"<li>re-rerun `output_notebook()` to attempt to load from CDN again, or</li>\\n\"+\n",
       "     \"<li>use INLINE resources instead, as so:</li>\\n\"+\n",
       "     \"</ul>\\n\"+\n",
       "     \"<code>\\n\"+\n",
       "     \"from bokeh.resources import INLINE\\n\"+\n",
       "     \"output_notebook(resources=INLINE)\\n\"+\n",
       "     \"</code>\\n\"+\n",
       "     \"</div>\"}};\n",
       "\n",
       "  function display_loaded() {\n",
       "    var el = document.getElementById(\"edc45cda-5d33-445e-80e6-622e3d521347\");\n",
       "    if (el != null) {\n",
       "      el.textContent = \"BokehJS is loading...\";\n",
       "    }\n",
       "    if (root.Bokeh !== undefined) {\n",
       "      if (el != null) {\n",
       "        el.textContent = \"BokehJS \" + root.Bokeh.version + \" successfully loaded.\";\n",
       "      }\n",
       "    } else if (Date.now() < root._bokeh_timeout) {\n",
       "      setTimeout(display_loaded, 100)\n",
       "    }\n",
       "  }\n",
       "\n",
       "\n",
       "  function run_callbacks() {\n",
       "    try {\n",
       "      root._bokeh_onload_callbacks.forEach(function(callback) { callback() });\n",
       "    }\n",
       "    finally {\n",
       "      delete root._bokeh_onload_callbacks\n",
       "    }\n",
       "    console.info(\"Bokeh: all callbacks have finished\");\n",
       "  }\n",
       "\n",
       "  function load_libs(js_urls, callback) {\n",
       "    root._bokeh_onload_callbacks.push(callback);\n",
       "    if (root._bokeh_is_loading > 0) {\n",
       "      console.log(\"Bokeh: BokehJS is being loaded, scheduling callback at\", now());\n",
       "      return null;\n",
       "    }\n",
       "    if (js_urls == null || js_urls.length === 0) {\n",
       "      run_callbacks();\n",
       "      return null;\n",
       "    }\n",
       "    console.log(\"Bokeh: BokehJS not loaded, scheduling load and callback at\", now());\n",
       "    root._bokeh_is_loading = js_urls.length;\n",
       "    for (var i = 0; i < js_urls.length; i++) {\n",
       "      var url = js_urls[i];\n",
       "      var s = document.createElement('script');\n",
       "      s.src = url;\n",
       "      s.async = false;\n",
       "      s.onreadystatechange = s.onload = function() {\n",
       "        root._bokeh_is_loading--;\n",
       "        if (root._bokeh_is_loading === 0) {\n",
       "          console.log(\"Bokeh: all BokehJS libraries loaded\");\n",
       "          run_callbacks()\n",
       "        }\n",
       "      };\n",
       "      s.onerror = function() {\n",
       "        console.warn(\"failed to load library \" + url);\n",
       "      };\n",
       "      console.log(\"Bokeh: injecting script tag for BokehJS library: \", url);\n",
       "      document.getElementsByTagName(\"head\")[0].appendChild(s);\n",
       "    }\n",
       "  };var element = document.getElementById(\"edc45cda-5d33-445e-80e6-622e3d521347\");\n",
       "  if (element == null) {\n",
       "    console.log(\"Bokeh: ERROR: autoload.js configured with elementid 'edc45cda-5d33-445e-80e6-622e3d521347' but no matching script tag was found. \")\n",
       "    return false;\n",
       "  }\n",
       "\n",
       "  var js_urls = [\"https://cdn.pydata.org/bokeh/release/bokeh-0.13.0.min.js\", \"https://cdn.pydata.org/bokeh/release/bokeh-widgets-0.13.0.min.js\", \"https://cdn.pydata.org/bokeh/release/bokeh-tables-0.13.0.min.js\", \"https://cdn.pydata.org/bokeh/release/bokeh-gl-0.13.0.min.js\"];\n",
       "\n",
       "  var inline_js = [\n",
       "    function(Bokeh) {\n",
       "      Bokeh.set_log_level(\"info\");\n",
       "    },\n",
       "    \n",
       "    function(Bokeh) {\n",
       "      \n",
       "    },\n",
       "    function(Bokeh) {\n",
       "      console.log(\"Bokeh: injecting CSS: https://cdn.pydata.org/bokeh/release/bokeh-0.13.0.min.css\");\n",
       "      Bokeh.embed.inject_css(\"https://cdn.pydata.org/bokeh/release/bokeh-0.13.0.min.css\");\n",
       "      console.log(\"Bokeh: injecting CSS: https://cdn.pydata.org/bokeh/release/bokeh-widgets-0.13.0.min.css\");\n",
       "      Bokeh.embed.inject_css(\"https://cdn.pydata.org/bokeh/release/bokeh-widgets-0.13.0.min.css\");\n",
       "      console.log(\"Bokeh: injecting CSS: https://cdn.pydata.org/bokeh/release/bokeh-tables-0.13.0.min.css\");\n",
       "      Bokeh.embed.inject_css(\"https://cdn.pydata.org/bokeh/release/bokeh-tables-0.13.0.min.css\");\n",
       "    }\n",
       "  ];\n",
       "\n",
       "  function run_inline_js() {\n",
       "    \n",
       "    if ((root.Bokeh !== undefined) || (force === true)) {\n",
       "      for (var i = 0; i < inline_js.length; i++) {\n",
       "        inline_js[i].call(root, root.Bokeh);\n",
       "      }if (force === true) {\n",
       "        display_loaded();\n",
       "      }} else if (Date.now() < root._bokeh_timeout) {\n",
       "      setTimeout(run_inline_js, 100);\n",
       "    } else if (!root._bokeh_failed_load) {\n",
       "      console.log(\"Bokeh: BokehJS failed to load within specified timeout.\");\n",
       "      root._bokeh_failed_load = true;\n",
       "    } else if (force !== true) {\n",
       "      var cell = $(document.getElementById(\"edc45cda-5d33-445e-80e6-622e3d521347\")).parents('.cell').data().cell;\n",
       "      cell.output_area.append_execute_result(NB_LOAD_WARNING)\n",
       "    }\n",
       "\n",
       "  }\n",
       "\n",
       "  if (root._bokeh_is_loading === 0) {\n",
       "    console.log(\"Bokeh: BokehJS loaded, going straight to plotting\");\n",
       "    run_inline_js();\n",
       "  } else {\n",
       "    load_libs(js_urls, function() {\n",
       "      console.log(\"Bokeh: BokehJS plotting callback run at\", now());\n",
       "      run_inline_js();\n",
       "    });\n",
       "  }\n",
       "}(window));"
      ],
      "application/vnd.bokehjs_load.v0+json": "\n(function(root) {\n  function now() {\n    return new Date();\n  }\n\n  var force = true;\n\n  if (typeof (root._bokeh_onload_callbacks) === \"undefined\" || force === true) {\n    root._bokeh_onload_callbacks = [];\n    root._bokeh_is_loading = undefined;\n  }\n\n  \n\n  \n  if (typeof (root._bokeh_timeout) === \"undefined\" || force === true) {\n    root._bokeh_timeout = Date.now() + 5000;\n    root._bokeh_failed_load = false;\n  }\n\n  var NB_LOAD_WARNING = {'data': {'text/html':\n     \"<div style='background-color: #fdd'>\\n\"+\n     \"<p>\\n\"+\n     \"BokehJS does not appear to have successfully loaded. If loading BokehJS from CDN, this \\n\"+\n     \"may be due to a slow or bad network connection. Possible fixes:\\n\"+\n     \"</p>\\n\"+\n     \"<ul>\\n\"+\n     \"<li>re-rerun `output_notebook()` to attempt to load from CDN again, or</li>\\n\"+\n     \"<li>use INLINE resources instead, as so:</li>\\n\"+\n     \"</ul>\\n\"+\n     \"<code>\\n\"+\n     \"from bokeh.resources import INLINE\\n\"+\n     \"output_notebook(resources=INLINE)\\n\"+\n     \"</code>\\n\"+\n     \"</div>\"}};\n\n  function display_loaded() {\n    var el = document.getElementById(\"edc45cda-5d33-445e-80e6-622e3d521347\");\n    if (el != null) {\n      el.textContent = \"BokehJS is loading...\";\n    }\n    if (root.Bokeh !== undefined) {\n      if (el != null) {\n        el.textContent = \"BokehJS \" + root.Bokeh.version + \" successfully loaded.\";\n      }\n    } else if (Date.now() < root._bokeh_timeout) {\n      setTimeout(display_loaded, 100)\n    }\n  }\n\n\n  function run_callbacks() {\n    try {\n      root._bokeh_onload_callbacks.forEach(function(callback) { callback() });\n    }\n    finally {\n      delete root._bokeh_onload_callbacks\n    }\n    console.info(\"Bokeh: all callbacks have finished\");\n  }\n\n  function load_libs(js_urls, callback) {\n    root._bokeh_onload_callbacks.push(callback);\n    if (root._bokeh_is_loading > 0) {\n      console.log(\"Bokeh: BokehJS is being loaded, scheduling callback at\", now());\n      return null;\n    }\n    if (js_urls == null || js_urls.length === 0) {\n      run_callbacks();\n      return null;\n    }\n    console.log(\"Bokeh: BokehJS not loaded, scheduling load and callback at\", now());\n    root._bokeh_is_loading = js_urls.length;\n    for (var i = 0; i < js_urls.length; i++) {\n      var url = js_urls[i];\n      var s = document.createElement('script');\n      s.src = url;\n      s.async = false;\n      s.onreadystatechange = s.onload = function() {\n        root._bokeh_is_loading--;\n        if (root._bokeh_is_loading === 0) {\n          console.log(\"Bokeh: all BokehJS libraries loaded\");\n          run_callbacks()\n        }\n      };\n      s.onerror = function() {\n        console.warn(\"failed to load library \" + url);\n      };\n      console.log(\"Bokeh: injecting script tag for BokehJS library: \", url);\n      document.getElementsByTagName(\"head\")[0].appendChild(s);\n    }\n  };var element = document.getElementById(\"edc45cda-5d33-445e-80e6-622e3d521347\");\n  if (element == null) {\n    console.log(\"Bokeh: ERROR: autoload.js configured with elementid 'edc45cda-5d33-445e-80e6-622e3d521347' but no matching script tag was found. \")\n    return false;\n  }\n\n  var js_urls = [\"https://cdn.pydata.org/bokeh/release/bokeh-0.13.0.min.js\", \"https://cdn.pydata.org/bokeh/release/bokeh-widgets-0.13.0.min.js\", \"https://cdn.pydata.org/bokeh/release/bokeh-tables-0.13.0.min.js\", \"https://cdn.pydata.org/bokeh/release/bokeh-gl-0.13.0.min.js\"];\n\n  var inline_js = [\n    function(Bokeh) {\n      Bokeh.set_log_level(\"info\");\n    },\n    \n    function(Bokeh) {\n      \n    },\n    function(Bokeh) {\n      console.log(\"Bokeh: injecting CSS: https://cdn.pydata.org/bokeh/release/bokeh-0.13.0.min.css\");\n      Bokeh.embed.inject_css(\"https://cdn.pydata.org/bokeh/release/bokeh-0.13.0.min.css\");\n      console.log(\"Bokeh: injecting CSS: https://cdn.pydata.org/bokeh/release/bokeh-widgets-0.13.0.min.css\");\n      Bokeh.embed.inject_css(\"https://cdn.pydata.org/bokeh/release/bokeh-widgets-0.13.0.min.css\");\n      console.log(\"Bokeh: injecting CSS: https://cdn.pydata.org/bokeh/release/bokeh-tables-0.13.0.min.css\");\n      Bokeh.embed.inject_css(\"https://cdn.pydata.org/bokeh/release/bokeh-tables-0.13.0.min.css\");\n    }\n  ];\n\n  function run_inline_js() {\n    \n    if ((root.Bokeh !== undefined) || (force === true)) {\n      for (var i = 0; i < inline_js.length; i++) {\n        inline_js[i].call(root, root.Bokeh);\n      }if (force === true) {\n        display_loaded();\n      }} else if (Date.now() < root._bokeh_timeout) {\n      setTimeout(run_inline_js, 100);\n    } else if (!root._bokeh_failed_load) {\n      console.log(\"Bokeh: BokehJS failed to load within specified timeout.\");\n      root._bokeh_failed_load = true;\n    } else if (force !== true) {\n      var cell = $(document.getElementById(\"edc45cda-5d33-445e-80e6-622e3d521347\")).parents('.cell').data().cell;\n      cell.output_area.append_execute_result(NB_LOAD_WARNING)\n    }\n\n  }\n\n  if (root._bokeh_is_loading === 0) {\n    console.log(\"Bokeh: BokehJS loaded, going straight to plotting\");\n    run_inline_js();\n  } else {\n    load_libs(js_urls, function() {\n      console.log(\"Bokeh: BokehJS plotting callback run at\", now());\n      run_inline_js();\n    });\n  }\n}(window));"
     },
     "metadata": {},
     "output_type": "display_data"
    }
   ],
   "source": [
    "import pandas as pd\n",
    "import numpy as np\n",
    "import re\n",
    "import os\n",
    "from math import pi\n",
    "from bokeh.io import show\n",
    "from bokeh.models import LinearColorMapper, LogColorMapper, BasicTicker, PrintfTickFormatter, ColorBar\n",
    "from bokeh import plotting\n",
    "from bokeh.palettes import Viridis256, magma\n",
    "plotting.output_notebook()"
   ]
  },
  {
   "cell_type": "code",
   "execution_count": 3,
   "metadata": {
    "ExecuteTime": {
     "end_time": "2018-10-04T21:18:55.470857Z",
     "start_time": "2018-10-04T21:18:55.461508Z"
    },
    "slideshow": {
     "slide_type": "slide"
    }
   },
   "outputs": [],
   "source": [
    "h5_dir = '/users/lukestarnes/Documents/adsb'\n",
    "h5_files = [os.path.join(h5_dir, f) for f in os.listdir(h5_dir) if f.endswith('.h5')]\n",
    "h5_file = h5_files[2]"
   ]
  },
  {
   "cell_type": "code",
   "execution_count": 4,
   "metadata": {
    "ExecuteTime": {
     "end_time": "2018-10-04T21:18:56.297516Z",
     "start_time": "2018-10-04T21:18:55.474334Z"
    },
    "slideshow": {
     "slide_type": "slide"
    }
   },
   "outputs": [
    {
     "name": "stdout",
     "output_type": "stream",
     "text": [
      "CPU times: user 484 ms, sys: 165 ms, total: 650 ms\n",
      "Wall time: 813 ms\n"
     ]
    }
   ],
   "source": [
    "%%time\n",
    "row_len = 500_000\n",
    "pickle_name = f'{os.path.basename(h5_file)}-{row_len}.p'\n",
    "pickle_path = os.path.join(os.getcwd(), 'data', pickle_name)\n",
    "if os.path.exists(pickle_path):\n",
    "    df = pd.read_pickle(pickle_path)\n",
    "else:\n",
    "    with pd.HDFStore(h5_file) as store:\n",
    "        columns_to_keep = ['Year', 'Cou', 'Icao', 'Mdl']\n",
    "        df = store.select('data', stop = row_len, columns=columns_to_keep)\n",
    "        df = df.dropna(subset=['Cou', 'Icao'], how='any')\n",
    "        df.to_pickle(pickle_path)"
   ]
  },
  {
   "cell_type": "code",
   "execution_count": 5,
   "metadata": {
    "ExecuteTime": {
     "end_time": "2018-10-04T21:18:56.837131Z",
     "start_time": "2018-10-04T21:18:56.300466Z"
    },
    "slideshow": {
     "slide_type": "skip"
    }
   },
   "outputs": [],
   "source": [
    "df.loc[df.Year.isin(['Year','','2104','2105']),'Year'] = np.nan\n",
    "cou_vs_year = df.groupby(['Cou', 'Year']).count()['Icao'].unstack().fillna(0)\n",
    "cou_vs_year.index.name = 'Country'\n",
    "cou_vs_year.columns.name = 'Year'\n",
    "cou_vs_year['Total'] = cou_vs_year.sum(axis=1)\n",
    "cou_vs_year = cou_vs_year[cou_vs_year.columns[35:]]\n",
    "cou_vs_year = cou_vs_year.sort_values('Total', ascending=False)\n",
    "del cou_vs_year['Total']\n",
    "cou_vs_year = cou_vs_year[:20]\n",
    "cou_vs_year_percent = cou_vs_year.div(cou_vs_year.sum(axis=1),axis=0) * 100\n",
    "year_vs_cou_percent = cou_vs_year_percent.T\n",
    "year_vs_cou = cou_vs_year.T"
   ]
  },
  {
   "cell_type": "code",
   "execution_count": 6,
   "metadata": {
    "ExecuteTime": {
     "end_time": "2018-10-04T21:18:56.979621Z",
     "start_time": "2018-10-04T21:18:56.845632Z"
    },
    "slideshow": {
     "slide_type": "slide"
    }
   },
   "outputs": [
    {
     "data": {
      "text/html": [
       "\n",
       "\n",
       "\n",
       "\n",
       "\n",
       "\n",
       "  <div class=\"bk-root\" id=\"2a2bcdc6-285f-4dea-aba5-e3fb6f53162a\"></div>\n"
      ]
     },
     "metadata": {},
     "output_type": "display_data"
    },
    {
     "data": {
      "application/javascript": [
       "(function(root) {\n",
       "  function embed_document(root) {\n",
       "    \n",
       "  var docs_json = {\"bfb11809-ea74-48ee-9437-a8ad269c93a1\":{\"roots\":{\"references\":[{\"attributes\":{\"fill_color\":{\"field\":\"Percentage\",\"transform\":{\"id\":\"fdc6b2ed-3266-4a9b-988e-2e8a6fb337cc\",\"type\":\"LinearColorMapper\"}},\"height\":{\"units\":\"data\",\"value\":1},\"line_color\":{\"value\":null},\"width\":{\"units\":\"data\",\"value\":1},\"x\":{\"field\":\"Year\"},\"y\":{\"field\":\"Country\"}},\"id\":\"0bac77c9-9d09-4960-b881-7daaecb6ce5a\",\"type\":\"Rect\"},{\"attributes\":{\"plot\":null,\"text\":\"Aircraft Registered to Country by Year (1985 - 2018)\"},\"id\":\"239db040-0d3f-4d9d-995c-53ce8dbfb747\",\"type\":\"Title\"},{\"attributes\":{},\"id\":\"0c8ad183-11ff-4fab-b2c7-180deebb3f3a\",\"type\":\"CategoricalScale\"},{\"attributes\":{},\"id\":\"6e633dd7-aaaa-4f0b-bb3b-d3508d4405a9\",\"type\":\"CategoricalTickFormatter\"},{\"attributes\":{\"above\":[{\"id\":\"631598ef-122c-497c-bbcf-5d1d74f3438b\",\"type\":\"CategoricalAxis\"}],\"left\":[{\"id\":\"9ab31c82-eeb7-4a84-9922-067cf890e5cb\",\"type\":\"CategoricalAxis\"}],\"plot_height\":1200,\"plot_width\":950,\"renderers\":[{\"id\":\"631598ef-122c-497c-bbcf-5d1d74f3438b\",\"type\":\"CategoricalAxis\"},{\"id\":\"1ca89198-c566-4caf-925a-d79569e51423\",\"type\":\"Grid\"},{\"id\":\"9ab31c82-eeb7-4a84-9922-067cf890e5cb\",\"type\":\"CategoricalAxis\"},{\"id\":\"4a441ffc-8dad-45fd-a23f-3f88a567b3ad\",\"type\":\"Grid\"},{\"id\":\"931f0008-f000-4d26-8253-a24eecc45061\",\"type\":\"BoxAnnotation\"},{\"id\":\"5274f512-7c16-4c98-87ad-dc7695b826cb\",\"type\":\"GlyphRenderer\"},{\"id\":\"888b129e-4602-4739-8b6a-0bee242e763b\",\"type\":\"ColorBar\"}],\"right\":[{\"id\":\"888b129e-4602-4739-8b6a-0bee242e763b\",\"type\":\"ColorBar\"}],\"title\":{\"id\":\"239db040-0d3f-4d9d-995c-53ce8dbfb747\",\"type\":\"Title\"},\"toolbar\":{\"id\":\"052179a0-8db8-4d58-ba39-ab71faa8bf15\",\"type\":\"Toolbar\"},\"toolbar_location\":\"above\",\"x_range\":{\"id\":\"992535da-d575-4437-a26a-0a527bb70267\",\"type\":\"FactorRange\"},\"x_scale\":{\"id\":\"4831e4c7-19bb-44af-8e0a-28d88ba02501\",\"type\":\"CategoricalScale\"},\"y_range\":{\"id\":\"5b930b05-a96e-4cb1-ad73-a82f1642b28d\",\"type\":\"FactorRange\"},\"y_scale\":{\"id\":\"0c8ad183-11ff-4fab-b2c7-180deebb3f3a\",\"type\":\"CategoricalScale\"}},\"id\":\"f1184540-fcb9-4a5b-b5a0-b592b31e8b75\",\"subtype\":\"Figure\",\"type\":\"Plot\"},{\"attributes\":{\"callback\":null,\"factors\":[\"1985\",\"1986\",\"1987\",\"1988\",\"1989\",\"1990\",\"1991\",\"1992\",\"1993\",\"1994\",\"1995\",\"1996\",\"1997\",\"1998\",\"1999\",\"2000\",\"2001\",\"2002\",\"2003\",\"2004\",\"2005\",\"2006\",\"2007\",\"2008\",\"2009\",\"2010\",\"2011\",\"2012\",\"2013\",\"2014\",\"2015\",\"2016\",\"2017\",\"2018\"]},\"id\":\"992535da-d575-4437-a26a-0a527bb70267\",\"type\":\"FactorRange\"},{\"attributes\":{\"active_drag\":\"auto\",\"active_inspect\":\"auto\",\"active_multi\":null,\"active_scroll\":\"auto\",\"active_tap\":\"auto\",\"tools\":[{\"id\":\"ad450df5-3ce3-488c-81f9-92978ba425ff\",\"type\":\"HoverTool\"},{\"id\":\"0619b80f-d05b-4fc9-bf1c-69231b9ca35b\",\"type\":\"SaveTool\"},{\"id\":\"b9373d93-164e-4eeb-95ba-7572d06e3893\",\"type\":\"PanTool\"},{\"id\":\"912c82df-b84b-4c49-a1d4-6c72731a16c8\",\"type\":\"BoxZoomTool\"},{\"id\":\"18838cc0-1328-43b8-9c04-6e6fa0eecf49\",\"type\":\"ResetTool\"},{\"id\":\"b5facaea-ece3-4a9f-9d11-8dd7c6411f95\",\"type\":\"WheelZoomTool\"}]},\"id\":\"052179a0-8db8-4d58-ba39-ab71faa8bf15\",\"type\":\"Toolbar\"},{\"attributes\":{\"callback\":null,\"data\":{\"Count\":{\"__ndarray__\":\"AAAAAADAUUAAAAAAAAAAAAAAAAAAACxAAAAAAAAAAAAAAAAAAAAqQAAAAAAAAAAAAAAAAAAAAAAAAAAAAAAAAAAAAAAAAAAAAAAAAAAAAAAAAAAAAAAAAAAAAAAAAAAAAAAAAAAAAAAAAAAAAAAAAAAAAAAAAAAAAAAAAAAAAAAAAAAAAAAAAAAAAAAAAAAAAAAAAAAAAAAAAAAAAAAAAAAAAAAA4HBAAAAAAACAXUAAAAAAAAAAAAAAAAAAAAAAAAAAAAAAAAAAAAAAAAAAAAAAAAAAAAAAAAAAAAAAAAAAAAAAAAAAAAAAAAAAAAAAAAAAAAAAAAAAAAAAAAAAAAAAAAAAAAAAAAAAAAAAAAAAAAAAAAAkQAAAAAAAAAAAAAAAAAAAAAAAAAAAAAAAAAAAAAAAAAAAAAAAAAAAAAAAAAAAACBvQAAAAAAAQFhAAAAAAAAAU0AAAAAAAAAAAAAAAAAAAFlAAAAAAAAAAAAAAAAAAAAAAAAAAAAAAAAAAAAAAAAAAAAAAAAAAAAAAAAAAAAAAAAAAAAAAAAAAAAAAAAAAAAAAAAAAAAAAAAAAAAAAAAAAAAAAAAAAAAAAAAAAAAAAAAAAAAAAAAAAAAAAAAAAAAAAAAAAAAAAAAAAAAAAACATEAAAAAAAGBpQAAAAAAAQGFAAAAAAAAAAAAAAAAAAAAAAAAAAAAAAAAAAAAAAAAAAAAAAAAAAAAAAAAAAAAAAAAAAAAAAAAAAAAAAAAAAAAAAAAAAAAAAAAAAAAAAAAAAAAAAAAAAAAAAAAAAAAAAAAAAAAAAAAAAAAAAAAAAAAAAAAAAAAAAAAAAAAAAAAAAAAAAAAAAAAAAAAAAAAAsHhAAAAAAAAAAAAAAAAAACB2QAAAAAAAAAAAAAAAAAAAAAAAAAAAAAAAAAAAAAAAAAAAAAAAAAAAAAAAAAAAAAAAAAAAAAAAAAAAAAAAAAAAAAAAAAAAAAAAAAAAAAAAAAAAAAAAAAAAAAAAAAAAAAAiQAAAAAAAAAAAAAAAAAAAAAAAAAAAAAAAAAAAAAAAAAAAAAAAAAAAAAAAAAAAAFB8QAAAAAAAQG5AAAAAAACQekAAAAAAAAAAAAAAAAAAAENAAAAAAAAAAAAAAAAAAAAAAAAAAAAAAAAAAAAAAAAAAAAAAAAAAIBkQAAAAAAAAAAAAAAAAACAQEAAAAAAAAAAAAAAAAAAAENAAAAAAAAAAAAAAAAAAAAAAAAAAAAAAAAAAAAAAAAAAAAAAAAAAAAIQAAAAAAAAAAAAAAAAACElEAAAAAAAAAiQAAAAAAAKJFAAAAAAACAQ0AAAAAAAMBXQAAAAAAAAAAAAAAAAAAAAAAAAAAAAAAAAAAAAAAAEIJAAAAAAAAAAAAAAAAAAAAAAAAAAAAAAAAAAAAAAAAAAAAAAAAAAAA6QAAAAAAAAAAAAAAAAAAAAAAAAAAAAAAAAAAAAAAAAAAAAAAAAAAANUAAAAAAAAAAAAAAAAAAOJZAAAAAAADgbEAAAAAAAOB0QAAAAAAAAAAAAAAAAACAWUAAAAAAAAAAAAAAAAAA4GVAAAAAAAAAAAAAAAAAAAAAAAAAAAAAABBAAAAAAAAATkAAAAAAAAAuQAAAAAAAAAAAAAAAAAAAPEAAAAAAAAAgQAAAAAAAAAAAAAAAAAAAAAAAAAAAAAAAAAAAAAAAAAAAAAAAAAAAAAAAAAAAAICRQAAAAAAAwFFAAAAAAAAAAAAAAAAAAAAAAAAAAAAAAAAAAAAAAAAAV0AAAAAAAEBWQAAAAAAAAChAAAAAAAAAAAAAAAAAAAAAAAAAAAAAAAAAAAAAAAAAAAAAAAAAAAAAAAAAAAAAADZAAAAAAAAAAAAAAAAAAAAAAAAAAAAAAABAAAAAAAAAAAAAAAAAAAAQQAAAAAAAAAAAAAAAAACAg0AAAAAAAGBnQAAAAAAAAEJAAAAAAACAQEAAAAAAAABbQAAAAAAAgFVAAAAAAAAAAAAAAAAAAIBMQAAAAAAAABhAAAAAAAAAAAAAAAAAAAAAAAAAAAAAAAAAAAAAAAAAAAAAAAAAAAAAAAAAAAAAAAAAAAAAAAAAAAAAAAAAAAA4QAAAAAAAAAAAAAAAAAAAAAAAAAAAAAAAAAAAAAAALJNAAAAAAABAfUAAAAAAAOB0QAAAAAAAAAAAAAAAAAAAOUAAAAAAAABNQAAAAAAAAAAAAAAAAAAAAAAAAAAAAAAAAAAAAAAAAAAAAAAAAACAWkAAAAAAAAAAAAAAAAAAgE1AAAAAAAAAAAAAAAAAAAAAAAAAAAAAAAAAAAAAAAAAEEAAAAAAAAAAAAAAAAAAAAAAAAAAAAAAAAAAAAAAAEyQQAAAAAAAwHdAAAAAAABQdkAAAAAAAAAAAAAAAAAAgERAAAAAAAAANUAAAAAAAAAUQAAAAAAAgFlAAAAAAAAANEAAAAAAAAAAAAAAAAAAAAAAAAAAAAAAAAAAAAAAAAAAAAAAAAAAAAAAAAAAAAAAAAAAAAAAAAAAAAAAAAAAAAAAAAAAAAAAAAAAAAAAAIBgQAAAAAAAACZAAAAAAACElUAAAAAAAABxQAAAAAAAUINAAAAAAACAQEAAAAAAAABKQAAAAAAAgGpAAAAAAAAAP0AAAAAAALB2QAAAAAAAIGBAAAAAAAAAAAAAAAAAAAA3QAAAAAAAAAAAAAAAAADAXEAAAAAAAABOQAAAAAAAAAAAAAAAAAAAAAAAAAAAAAAQQAAAAAAAAAAAAAAAAAAANEAAAAAAAAAAAAAAAAAATbBAAAAAAADAjUAAAAAAADB8QAAAAAAAAERAAAAAAACARUAAAAAAAOB8QAAAAAAAwGJAAAAAAAAALEAAAAAAAIB3QAAAAAAAAPA/AAAAAAAAPkAAAAAAAABQQAAAAAAAAAAAAAAAAAAAMkAAAAAAAAAAAAAAAAAAAAAAAAAAAAAANkAAAAAAAAAuQAAAAAAAAAAAAAAAAAAAAAAAAAAAANG5QAAAAAAA7JRAAAAAAACAbUAAAAAAAABDQAAAAAAAQGtAAAAAAAAATEAAAAAAAMBmQAAAAAAAAFRAAAAAAAAAMkAAAAAAAOB5QAAAAAAAADdAAAAAAACAUEAAAAAAAAAAAAAAAAAAAFZAAAAAAAAAAAAAAAAAAAAAAAAAAAAAADJAAAAAAAAAAAAAAAAAAAAxQAAAAAAAAAAAAAAAAAB9uUAAAAAAACiBQAAAAAAAwGlAAAAAAADAWkAAAAAAAIBjQAAAAAAAAAAAAAAAAACgZ0AAAAAAAIBWQAAAAAAAwF9AAAAAAAAAAAAAAAAAAOBjQAAAAAAAgE9AAAAAAAAAAAAAAAAAAAAsQAAAAAAAgFRAAAAAAAAAAAAAAAAAAAAAAAAAAAAAAD1AAAAAAAAAAEAAAAAAAMB6QAAAAAAAIMFAAAAAAABUl0AAAAAAAIiJQAAAAAAAgGBAAAAAAAAgbEAAAAAAAAAAAAAAAAAAQFZAAAAAAAAAXEAAAAAAAEBuQAAAAAAAoGNAAAAAAACAUUAAAAAAAIBAQAAAAAAAgF9AAAAAAABAWkAAAAAAAAAAAAAAAAAAYGlAAAAAAAAAAAAAAAAAAEBVQAAAAAAAAD1AAAAAAAAAAAAAAAAAACW3QAAAAAAAsHlAAAAAAAAolUAAAAAAAMBhQAAAAAAAoIhAAAAAAAAQc0AAAAAAAIBMQAAAAAAAEIJAAAAAAAAAXUAAAAAAAMB9QAAAAAAAAEdAAAAAAAAACEAAAAAAAMBQQAAAAAAAEHNAAAAAAAAAQkAAAAAAAPB/QAAAAAAAAFBAAAAAAAAAIkAAAAAAAAAAAAAAAAAAAAAAAAAAAABTtUAAAAAAABiNQAAAAAAAEHtAAAAAAADAW0AAAAAAAPyWQAAAAAAA4GxAAAAAAACAXEAAAAAAAAAAAAAAAAAAwFZAAAAAAAAAIEAAAAAAAAAAAAAAAAAAEHNAAAAAAAAAAAAAAAAAAAAUQAAAAAAAAAAAAAAAAABAYEAAAAAAAAAAAAAAAAAAAAAAAAAAAADAbUAAAAAAAHByQAAAAAAAybZAAAAAAAAAgkAAAAAAALB3QAAAAAAAgG1AAAAAAAD4ikAAAAAAAEBXQAAAAAAAwFhAAAAAAAAAOkAAAAAAAFBzQAAAAAAAEIBAAAAAAADAVEAAAAAAACB3QAAAAAAA4GBAAAAAAABAWEAAAAAAAAAAQAAAAAAAAAAAAAAAAAAAAAAAAAAAAAAAAAAAAAAAgE9AAAAAAAAAAAAAAAAAADy6QAAAAAAAqIFAAAAAAADYg0AAAAAAAAB2QAAAAAAANJJAAAAAAAAAVkAAAAAAAPB1QAAAAAAAgEJAAAAAAADgdEAAAAAAAABPQAAAAAAAABRAAAAAAAAAJEAAAAAAALBwQAAAAAAAwFFAAAAAAACgZUAAAAAAAAAAAAAAAAAAgEFAAAAAAAAAAAAAAAAAAMBiQAAAAAAAgFJAAAAAAAAHskAAAAAAABiSQAAAAAAAwIlAAAAAAAAQg0AAAAAAAGiOQAAAAAAAQG9AAAAAAACAR0AAAAAAAIBuQAAAAAAAgFRAAAAAAAAgZ0AAAAAAAABZQAAAAAAAAGFAAAAAAABAWEAAAAAAAABOQAAAAAAAQFJAAAAAAAAAAAAAAAAAAABDQAAAAAAA4GRAAAAAAAAAP0AAAAAAAAAAAAAAAAAAO7dAAAAAAADgfUAAAAAAAOySQAAAAAAAsIFAAAAAAAAgfEAAAAAAAKByQAAAAAAAcHtAAAAAAAAANUAAAAAAAAAUQAAAAAAAYG5AAAAAAABgY0AAAAAAAEB4QAAAAAAAAFRAAAAAAACASkAAAAAAAKBsQAAAAAAAwGtAAAAAAAAAOUAAAAAAAEBdQAAAAAAAAHFAAAAAAACAd0AAAAAAAI2yQAAAAAAAcI5AAAAAAACwdEAAAAAAACB/QAAAAAAA4IVAAAAAAACgc0AAAAAAANiBQAAAAAAAIG5AAAAAAAAgeEAAAAAAAOBmQAAAAAAAUHlAAAAAAACgaUAAAAAAAAAQQAAAAAAAQHRAAAAAAABgckAAAAAAAMBiQAAAAAAAAE9AAAAAAABAZEAAAAAAAAAwQAAAAAAAAAAAAAAAAACEqEAAAAAAAByTQAAAAAAAPJJAAAAAAAB4iUAAAAAAAMCQQAAAAAAAQIhAAAAAAAAYgkAAAAAAACBtQAAAAAAA0H5AAAAAAAAgdUAAAAAAAFB+QAAAAAAAgEFAAAAAAAAAPkAAAAAAAKBrQAAAAAAAAAAAAAAAAAAAAAAAAAAAAEBgQAAAAAAAYGdAAAAAAAAgbUAAAAAAAAAAAAAAAAAAiKJAAAAAAABQdkAAAAAAAJB7QAAAAAAAkIlAAAAAAADAiUAAAAAAAPB/QAAAAAAAoHFAAAAAAAAgaUAAAAAAAMB3QAAAAAAAMHVAAAAAAADog0AAAAAAAIBZQAAAAAAAAAAAAAAAAABAXkAAAAAAAIBBQAAAAAAAAAAAAAAAAACgbEAAAAAAAOBmQAAAAAAAAChAAAAAAAAAAAAAAAAAAAqtQAAAAAAAGJNAAAAAAACQh0AAAAAAAFCTQAAAAAAAwJRAAAAAAAAgfEAAAAAAABB5QAAAAAAAkHBAAAAAAADAVEAAAAAAAEBZQAAAAAAAgGFAAAAAAACASUAAAAAAACBgQAAAAAAAQFFAAAAAAAAALkAAAAAAAABWQAAAAAAAQFdAAAAAAAAgZ0AAAAAAAAAAAAAAAAAAAAAAAAAAAACasUAAAAAAAASbQAAAAAAAwHtAAAAAAABAh0AAAAAAADiJQAAAAAAAWIRAAAAAAABgZkAAAAAAAEB9QAAAAAAAADpAAAAAAADgaEAAAAAAAAAAAAAAAAAAAEZAAAAAAAAAPkAAAAAAAMiDQAAAAAAAwGJAAAAAAABAXEAAAAAAAEBoQAAAAAAAoGlAAAAAAACAS0AAAAAAAAAAAAAAAAAAKbBAAAAAAAD4jkAAAAAAAAySQAAAAAAAwJFAAAAAAADQkEAAAAAAAKCKQAAAAAAA4GtAAAAAAAAwgkAAAAAAAIB/QAAAAAAAIGRAAAAAAAAAAAAAAAAAAMBrQAAAAAAA8HRAAAAAAADAZkAAAAAAAFBxQAAAAAAAeIZAAAAAAADAcUAAAAAAACBmQAAAAAAAAAAAAAAAAAAAAAAAAAAAAOy7QAAAAAAApJ9AAAAAAAC4jEAAAAAAAHSeQAAAAAAAeIZAAAAAAACghEAAAAAAAMBUQAAAAAAAYGZAAAAAAAAwdUAAAAAAAAAAAAAAAAAAAAAAAAAAAACQd0AAAAAAADiFQAAAAAAAgHNAAAAAAABAZkAAAAAAABBwQAAAAAAAQG9AAAAAAAAAT0AAAAAAAABOQAAAAAAAQHtAAAAAAICcwEAAAAAAAJiSQAAAAAAA5JNAAAAAAAAYl0AAAAAAAMBmQAAAAAAAoHdAAAAAAAAAAAAAAAAAAIBpQAAAAAAAwGBAAAAAAAAAPUAAAAAAAAB7QAAAAAAAgGNAAAAAAACweUAAAAAAAAAAAAAAAAAAkHJAAAAAAAAASkAAAAAAAMByQAAAAAAAYHVAAAAAAADAWEAAAAAAAAAAAAAAAACA/MxAAAAAAACskUAAAAAAAHyZQAAAAAAAuJtAAAAAAABgZEAAAAAAAKBxQAAAAAAAuIlAAAAAAADoiEAAAAAAAAA1QAAAAAAAwF1AAAAAAADwg0AAAAAAAABtQAAAAAAAYGVAAAAAAAAAAAAAAAAAAIB2QAAAAAAAYHJAAAAAAADgbUAAAAAAAMBcQAAAAAAAoHVAAAAAAAAAAAAAAAAAACvPQAAAAAAAnKNAAAAAAAAAhEAAAAAAAPCcQAAAAAAAYHBAAAAAAACAbkAAAAAAACiLQAAAAAAAYHFAAAAAAAAATEAAAAAAAABLQAAAAAAAAAAAAAAAAAAAW0AAAAAAAPB3QAAAAAAAACxAAAAAAAAQgkAAAAAAAAAAAAAAAAAAwF5AAAAAAACAV0AAAAAAAEBsQAAAAAAAAAAAAAAAAAAqsEAAAAAAAJScQAAAAAAA8IVAAAAAAACAfUAAAAAAACBlQAAAAAAAAGFAAAAAAAAAAAAAAAAAAAAAAAAAAAAAAAAAAAAAAAAAJEAAAAAAAAAAAAAAAAAAQHFAAAAAAAAAUEAAAAAAAAAAAAAAAAAAADtAAAAAAAAAAAAAAAAAAAAAAAAAAAAAAAAAAAAAAACAR0AAAAAAAABdQA==\",\"dtype\":\"float64\",\"shape\":[680]},\"Country\":[\"United States\",\"United Kingdom\",\"Canada\",\"China\",\"Australia\",\"Japan\",\"Ireland\",\"Turkey\",\"Germany\",\"France\",\"Austria\",\"Spain\",\"Taiwan\",\"Bermuda\",\"Mexico\",\"Norway\",\"Indonesia\",\"Brazil\",\"Netherlands\",\"Denmark\",\"United States\",\"United Kingdom\",\"Canada\",\"China\",\"Australia\",\"Japan\",\"Ireland\",\"Turkey\",\"Germany\",\"France\",\"Austria\",\"Spain\",\"Taiwan\",\"Bermuda\",\"Mexico\",\"Norway\",\"Indonesia\",\"Brazil\",\"Netherlands\",\"Denmark\",\"United States\",\"United Kingdom\",\"Canada\",\"China\",\"Australia\",\"Japan\",\"Ireland\",\"Turkey\",\"Germany\",\"France\",\"Austria\",\"Spain\",\"Taiwan\",\"Bermuda\",\"Mexico\",\"Norway\",\"Indonesia\",\"Brazil\",\"Netherlands\",\"Denmark\",\"United States\",\"United Kingdom\",\"Canada\",\"China\",\"Australia\",\"Japan\",\"Ireland\",\"Turkey\",\"Germany\",\"France\",\"Austria\",\"Spain\",\"Taiwan\",\"Bermuda\",\"Mexico\",\"Norway\",\"Indonesia\",\"Brazil\",\"Netherlands\",\"Denmark\",\"United States\",\"United Kingdom\",\"Canada\",\"China\",\"Australia\",\"Japan\",\"Ireland\",\"Turkey\",\"Germany\",\"France\",\"Austria\",\"Spain\",\"Taiwan\",\"Bermuda\",\"Mexico\",\"Norway\",\"Indonesia\",\"Brazil\",\"Netherlands\",\"Denmark\",\"United States\",\"United Kingdom\",\"Canada\",\"China\",\"Australia\",\"Japan\",\"Ireland\",\"Turkey\",\"Germany\",\"France\",\"Austria\",\"Spain\",\"Taiwan\",\"Bermuda\",\"Mexico\",\"Norway\",\"Indonesia\",\"Brazil\",\"Netherlands\",\"Denmark\",\"United States\",\"United Kingdom\",\"Canada\",\"China\",\"Australia\",\"Japan\",\"Ireland\",\"Turkey\",\"Germany\",\"France\",\"Austria\",\"Spain\",\"Taiwan\",\"Bermuda\",\"Mexico\",\"Norway\",\"Indonesia\",\"Brazil\",\"Netherlands\",\"Denmark\",\"United States\",\"United Kingdom\",\"Canada\",\"China\",\"Australia\",\"Japan\",\"Ireland\",\"Turkey\",\"Germany\",\"France\",\"Austria\",\"Spain\",\"Taiwan\",\"Bermuda\",\"Mexico\",\"Norway\",\"Indonesia\",\"Brazil\",\"Netherlands\",\"Denmark\",\"United States\",\"United Kingdom\",\"Canada\",\"China\",\"Australia\",\"Japan\",\"Ireland\",\"Turkey\",\"Germany\",\"France\",\"Austria\",\"Spain\",\"Taiwan\",\"Bermuda\",\"Mexico\",\"Norway\",\"Indonesia\",\"Brazil\",\"Netherlands\",\"Denmark\",\"United States\",\"United Kingdom\",\"Canada\",\"China\",\"Australia\",\"Japan\",\"Ireland\",\"Turkey\",\"Germany\",\"France\",\"Austria\",\"Spain\",\"Taiwan\",\"Bermuda\",\"Mexico\",\"Norway\",\"Indonesia\",\"Brazil\",\"Netherlands\",\"Denmark\",\"United States\",\"United Kingdom\",\"Canada\",\"China\",\"Australia\",\"Japan\",\"Ireland\",\"Turkey\",\"Germany\",\"France\",\"Austria\",\"Spain\",\"Taiwan\",\"Bermuda\",\"Mexico\",\"Norway\",\"Indonesia\",\"Brazil\",\"Netherlands\",\"Denmark\",\"United States\",\"United Kingdom\",\"Canada\",\"China\",\"Australia\",\"Japan\",\"Ireland\",\"Turkey\",\"Germany\",\"France\",\"Austria\",\"Spain\",\"Taiwan\",\"Bermuda\",\"Mexico\",\"Norway\",\"Indonesia\",\"Brazil\",\"Netherlands\",\"Denmark\",\"United States\",\"United Kingdom\",\"Canada\",\"China\",\"Australia\",\"Japan\",\"Ireland\",\"Turkey\",\"Germany\",\"France\",\"Austria\",\"Spain\",\"Taiwan\",\"Bermuda\",\"Mexico\",\"Norway\",\"Indonesia\",\"Brazil\",\"Netherlands\",\"Denmark\",\"United States\",\"United Kingdom\",\"Canada\",\"China\",\"Australia\",\"Japan\",\"Ireland\",\"Turkey\",\"Germany\",\"France\",\"Austria\",\"Spain\",\"Taiwan\",\"Bermuda\",\"Mexico\",\"Norway\",\"Indonesia\",\"Brazil\",\"Netherlands\",\"Denmark\",\"United States\",\"United Kingdom\",\"Canada\",\"China\",\"Australia\",\"Japan\",\"Ireland\",\"Turkey\",\"Germany\",\"France\",\"Austria\",\"Spain\",\"Taiwan\",\"Bermuda\",\"Mexico\",\"Norway\",\"Indonesia\",\"Brazil\",\"Netherlands\",\"Denmark\",\"United States\",\"United Kingdom\",\"Canada\",\"China\",\"Australia\",\"Japan\",\"Ireland\",\"Turkey\",\"Germany\",\"France\",\"Austria\",\"Spain\",\"Taiwan\",\"Bermuda\",\"Mexico\",\"Norway\",\"Indonesia\",\"Brazil\",\"Netherlands\",\"Denmark\",\"United States\",\"United Kingdom\",\"Canada\",\"China\",\"Australia\",\"Japan\",\"Ireland\",\"Turkey\",\"Germany\",\"France\",\"Austria\",\"Spain\",\"Taiwan\",\"Bermuda\",\"Mexico\",\"Norway\",\"Indonesia\",\"Brazil\",\"Netherlands\",\"Denmark\",\"United States\",\"United Kingdom\",\"Canada\",\"China\",\"Australia\",\"Japan\",\"Ireland\",\"Turkey\",\"Germany\",\"France\",\"Austria\",\"Spain\",\"Taiwan\",\"Bermuda\",\"Mexico\",\"Norway\",\"Indonesia\",\"Brazil\",\"Netherlands\",\"Denmark\",\"United States\",\"United Kingdom\",\"Canada\",\"China\",\"Australia\",\"Japan\",\"Ireland\",\"Turkey\",\"Germany\",\"France\",\"Austria\",\"Spain\",\"Taiwan\",\"Bermuda\",\"Mexico\",\"Norway\",\"Indonesia\",\"Brazil\",\"Netherlands\",\"Denmark\",\"United States\",\"United Kingdom\",\"Canada\",\"China\",\"Australia\",\"Japan\",\"Ireland\",\"Turkey\",\"Germany\",\"France\",\"Austria\",\"Spain\",\"Taiwan\",\"Bermuda\",\"Mexico\",\"Norway\",\"Indonesia\",\"Brazil\",\"Netherlands\",\"Denmark\",\"United States\",\"United Kingdom\",\"Canada\",\"China\",\"Australia\",\"Japan\",\"Ireland\",\"Turkey\",\"Germany\",\"France\",\"Austria\",\"Spain\",\"Taiwan\",\"Bermuda\",\"Mexico\",\"Norway\",\"Indonesia\",\"Brazil\",\"Netherlands\",\"Denmark\",\"United States\",\"United Kingdom\",\"Canada\",\"China\",\"Australia\",\"Japan\",\"Ireland\",\"Turkey\",\"Germany\",\"France\",\"Austria\",\"Spain\",\"Taiwan\",\"Bermuda\",\"Mexico\",\"Norway\",\"Indonesia\",\"Brazil\",\"Netherlands\",\"Denmark\",\"United States\",\"United Kingdom\",\"Canada\",\"China\",\"Australia\",\"Japan\",\"Ireland\",\"Turkey\",\"Germany\",\"France\",\"Austria\",\"Spain\",\"Taiwan\",\"Bermuda\",\"Mexico\",\"Norway\",\"Indonesia\",\"Brazil\",\"Netherlands\",\"Denmark\",\"United States\",\"United Kingdom\",\"Canada\",\"China\",\"Australia\",\"Japan\",\"Ireland\",\"Turkey\",\"Germany\",\"France\",\"Austria\",\"Spain\",\"Taiwan\",\"Bermuda\",\"Mexico\",\"Norway\",\"Indonesia\",\"Brazil\",\"Netherlands\",\"Denmark\",\"United States\",\"United Kingdom\",\"Canada\",\"China\",\"Australia\",\"Japan\",\"Ireland\",\"Turkey\",\"Germany\",\"France\",\"Austria\",\"Spain\",\"Taiwan\",\"Bermuda\",\"Mexico\",\"Norway\",\"Indonesia\",\"Brazil\",\"Netherlands\",\"Denmark\",\"United States\",\"United Kingdom\",\"Canada\",\"China\",\"Australia\",\"Japan\",\"Ireland\",\"Turkey\",\"Germany\",\"France\",\"Austria\",\"Spain\",\"Taiwan\",\"Bermuda\",\"Mexico\",\"Norway\",\"Indonesia\",\"Brazil\",\"Netherlands\",\"Denmark\",\"United States\",\"United Kingdom\",\"Canada\",\"China\",\"Australia\",\"Japan\",\"Ireland\",\"Turkey\",\"Germany\",\"France\",\"Austria\",\"Spain\",\"Taiwan\",\"Bermuda\",\"Mexico\",\"Norway\",\"Indonesia\",\"Brazil\",\"Netherlands\",\"Denmark\",\"United States\",\"United Kingdom\",\"Canada\",\"China\",\"Australia\",\"Japan\",\"Ireland\",\"Turkey\",\"Germany\",\"France\",\"Austria\",\"Spain\",\"Taiwan\",\"Bermuda\",\"Mexico\",\"Norway\",\"Indonesia\",\"Brazil\",\"Netherlands\",\"Denmark\",\"United States\",\"United Kingdom\",\"Canada\",\"China\",\"Australia\",\"Japan\",\"Ireland\",\"Turkey\",\"Germany\",\"France\",\"Austria\",\"Spain\",\"Taiwan\",\"Bermuda\",\"Mexico\",\"Norway\",\"Indonesia\",\"Brazil\",\"Netherlands\",\"Denmark\",\"United States\",\"United Kingdom\",\"Canada\",\"China\",\"Australia\",\"Japan\",\"Ireland\",\"Turkey\",\"Germany\",\"France\",\"Austria\",\"Spain\",\"Taiwan\",\"Bermuda\",\"Mexico\",\"Norway\",\"Indonesia\",\"Brazil\",\"Netherlands\",\"Denmark\",\"United States\",\"United Kingdom\",\"Canada\",\"China\",\"Australia\",\"Japan\",\"Ireland\",\"Turkey\",\"Germany\",\"France\",\"Austria\",\"Spain\",\"Taiwan\",\"Bermuda\",\"Mexico\",\"Norway\",\"Indonesia\",\"Brazil\",\"Netherlands\",\"Denmark\",\"United States\",\"United Kingdom\",\"Canada\",\"China\",\"Australia\",\"Japan\",\"Ireland\",\"Turkey\",\"Germany\",\"France\",\"Austria\",\"Spain\",\"Taiwan\",\"Bermuda\",\"Mexico\",\"Norway\",\"Indonesia\",\"Brazil\",\"Netherlands\",\"Denmark\",\"United States\",\"United Kingdom\",\"Canada\",\"China\",\"Australia\",\"Japan\",\"Ireland\",\"Turkey\",\"Germany\",\"France\",\"Austria\",\"Spain\",\"Taiwan\",\"Bermuda\",\"Mexico\",\"Norway\",\"Indonesia\",\"Brazil\",\"Netherlands\",\"Denmark\",\"United States\",\"United Kingdom\",\"Canada\",\"China\",\"Australia\",\"Japan\",\"Ireland\",\"Turkey\",\"Germany\",\"France\",\"Austria\",\"Spain\",\"Taiwan\",\"Bermuda\",\"Mexico\",\"Norway\",\"Indonesia\",\"Brazil\",\"Netherlands\",\"Denmark\"],\"Percentage\":{\"__ndarray__\":\"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\",\"dtype\":\"float64\",\"shape\":[680]},\"Total\":{\"__ndarray__\":\"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\",\"dtype\":\"float64\",\"shape\":[680]},\"Year\":[\"1985\",\"1985\",\"1985\",\"1985\",\"1985\",\"1985\",\"1985\",\"1985\",\"1985\",\"1985\",\"1985\",\"1985\",\"1985\",\"1985\",\"1985\",\"1985\",\"1985\",\"1985\",\"1985\",\"1985\",\"1986\",\"1986\",\"1986\",\"1986\",\"1986\",\"1986\",\"1986\",\"1986\",\"1986\",\"1986\",\"1986\",\"1986\",\"1986\",\"1986\",\"1986\",\"1986\",\"1986\",\"1986\",\"1986\",\"1986\",\"1987\",\"1987\",\"1987\",\"1987\",\"1987\",\"1987\",\"1987\",\"1987\",\"1987\",\"1987\",\"1987\",\"1987\",\"1987\",\"1987\",\"1987\",\"1987\",\"1987\",\"1987\",\"1987\",\"1987\",\"1988\",\"1988\",\"1988\",\"1988\",\"1988\",\"1988\",\"1988\",\"1988\",\"1988\",\"1988\",\"1988\",\"1988\",\"1988\",\"1988\",\"1988\",\"1988\",\"1988\",\"1988\",\"1988\",\"1988\",\"1989\",\"1989\",\"1989\",\"1989\",\"1989\",\"1989\",\"1989\",\"1989\",\"1989\",\"1989\",\"1989\",\"1989\",\"1989\",\"1989\",\"1989\",\"1989\",\"1989\",\"1989\",\"1989\",\"1989\",\"1990\",\"1990\",\"1990\",\"1990\",\"1990\",\"1990\",\"1990\",\"1990\",\"1990\",\"1990\",\"1990\",\"1990\",\"1990\",\"1990\",\"1990\",\"1990\",\"1990\",\"1990\",\"1990\",\"1990\",\"1991\",\"1991\",\"1991\",\"1991\",\"1991\",\"1991\",\"1991\",\"1991\",\"1991\",\"1991\",\"1991\",\"1991\",\"1991\",\"1991\",\"1991\",\"1991\",\"1991\",\"1991\",\"1991\",\"1991\",\"1992\",\"1992\",\"1992\",\"1992\",\"1992\",\"1992\",\"1992\",\"1992\",\"1992\",\"1992\",\"1992\",\"1992\",\"1992\",\"1992\",\"1992\",\"1992\",\"1992\",\"1992\",\"1992\",\"1992\",\"1993\",\"1993\",\"1993\",\"1993\",\"1993\",\"1993\",\"1993\",\"1993\",\"1993\",\"1993\",\"1993\",\"1993\",\"1993\",\"1993\",\"1993\",\"1993\",\"1993\",\"1993\",\"1993\",\"1993\",\"1994\",\"1994\",\"1994\",\"1994\",\"1994\",\"1994\",\"1994\",\"1994\",\"1994\",\"1994\",\"1994\",\"1994\",\"1994\",\"1994\",\"1994\",\"1994\",\"1994\",\"1994\",\"1994\",\"1994\",\"1995\",\"1995\",\"1995\",\"1995\",\"1995\",\"1995\",\"1995\",\"1995\",\"1995\",\"1995\",\"1995\",\"1995\",\"1995\",\"1995\",\"1995\",\"1995\",\"1995\",\"1995\",\"1995\",\"1995\",\"1996\",\"1996\",\"1996\",\"1996\",\"1996\",\"1996\",\"1996\",\"1996\",\"1996\",\"1996\",\"1996\",\"1996\",\"1996\",\"1996\",\"1996\",\"1996\",\"1996\",\"1996\",\"1996\",\"1996\",\"1997\",\"1997\",\"1997\",\"1997\",\"1997\",\"1997\",\"1997\",\"1997\",\"1997\",\"1997\",\"1997\",\"1997\",\"1997\",\"1997\",\"1997\",\"1997\",\"1997\",\"1997\",\"1997\",\"1997\",\"1998\",\"1998\",\"1998\",\"1998\",\"1998\",\"1998\",\"1998\",\"1998\",\"1998\",\"1998\",\"1998\",\"1998\",\"1998\",\"1998\",\"1998\",\"1998\",\"1998\",\"1998\",\"1998\",\"1998\",\"1999\",\"1999\",\"1999\",\"1999\",\"1999\",\"1999\",\"1999\",\"1999\",\"1999\",\"1999\",\"1999\",\"1999\",\"1999\",\"1999\",\"1999\",\"1999\",\"1999\",\"1999\",\"1999\",\"1999\",\"2000\",\"2000\",\"2000\",\"2000\",\"2000\",\"2000\",\"2000\",\"2000\",\"2000\",\"2000\",\"2000\",\"2000\",\"2000\",\"2000\",\"2000\",\"2000\",\"2000\",\"2000\",\"2000\",\"2000\",\"2001\",\"2001\",\"2001\",\"2001\",\"2001\",\"2001\",\"2001\",\"2001\",\"2001\",\"2001\",\"2001\",\"2001\",\"2001\",\"2001\",\"2001\",\"2001\",\"2001\",\"2001\",\"2001\",\"2001\",\"2002\",\"2002\",\"2002\",\"2002\",\"2002\",\"2002\",\"2002\",\"2002\",\"2002\",\"2002\",\"2002\",\"2002\",\"2002\",\"2002\",\"2002\",\"2002\",\"2002\",\"2002\",\"2002\",\"2002\",\"2003\",\"2003\",\"2003\",\"2003\",\"2003\",\"2003\",\"2003\",\"2003\",\"2003\",\"2003\",\"2003\",\"2003\",\"2003\",\"2003\",\"2003\",\"2003\",\"2003\",\"2003\",\"2003\",\"2003\",\"2004\",\"2004\",\"2004\",\"2004\",\"2004\",\"2004\",\"2004\",\"2004\",\"2004\",\"2004\",\"2004\",\"2004\",\"2004\",\"2004\",\"2004\",\"2004\",\"2004\",\"2004\",\"2004\",\"2004\",\"2005\",\"2005\",\"2005\",\"2005\",\"2005\",\"2005\",\"2005\",\"2005\",\"2005\",\"2005\",\"2005\",\"2005\",\"2005\",\"2005\",\"2005\",\"2005\",\"2005\",\"2005\",\"2005\",\"2005\",\"2006\",\"2006\",\"2006\",\"2006\",\"2006\",\"2006\",\"2006\",\"2006\",\"2006\",\"2006\",\"2006\",\"2006\",\"2006\",\"2006\",\"2006\",\"2006\",\"2006\",\"2006\",\"2006\",\"2006\",\"2007\",\"2007\",\"2007\",\"2007\",\"2007\",\"2007\",\"2007\",\"2007\",\"2007\",\"2007\",\"2007\",\"2007\",\"2007\",\"2007\",\"2007\",\"2007\",\"2007\",\"2007\",\"2007\",\"2007\",\"2008\",\"2008\",\"2008\",\"2008\",\"2008\",\"2008\",\"2008\",\"2008\",\"2008\",\"2008\",\"2008\",\"2008\",\"2008\",\"2008\",\"2008\",\"2008\",\"2008\",\"2008\",\"2008\",\"2008\",\"2009\",\"2009\",\"2009\",\"2009\",\"2009\",\"2009\",\"2009\",\"2009\",\"2009\",\"2009\",\"2009\",\"2009\",\"2009\",\"2009\",\"2009\",\"2009\",\"2009\",\"2009\",\"2009\",\"2009\",\"2010\",\"2010\",\"2010\",\"2010\",\"2010\",\"2010\",\"2010\",\"2010\",\"2010\",\"2010\",\"2010\",\"2010\",\"2010\",\"2010\",\"2010\",\"2010\",\"2010\",\"2010\",\"2010\",\"2010\",\"2011\",\"2011\",\"2011\",\"2011\",\"2011\",\"2011\",\"2011\",\"2011\",\"2011\",\"2011\",\"2011\",\"2011\",\"2011\",\"2011\",\"2011\",\"2011\",\"2011\",\"2011\",\"2011\",\"2011\",\"2012\",\"2012\",\"2012\",\"2012\",\"2012\",\"2012\",\"2012\",\"2012\",\"2012\",\"2012\",\"2012\",\"2012\",\"2012\",\"2012\",\"2012\",\"2012\",\"2012\",\"2012\",\"2012\",\"2012\",\"2013\",\"2013\",\"2013\",\"2013\",\"2013\",\"2013\",\"2013\",\"2013\",\"2013\",\"2013\",\"2013\",\"2013\",\"2013\",\"2013\",\"2013\",\"2013\",\"2013\",\"2013\",\"2013\",\"2013\",\"2014\",\"2014\",\"2014\",\"2014\",\"2014\",\"2014\",\"2014\",\"2014\",\"2014\",\"2014\",\"2014\",\"2014\",\"2014\",\"2014\",\"2014\",\"2014\",\"2014\",\"2014\",\"2014\",\"2014\",\"2015\",\"2015\",\"2015\",\"2015\",\"2015\",\"2015\",\"2015\",\"2015\",\"2015\",\"2015\",\"2015\",\"2015\",\"2015\",\"2015\",\"2015\",\"2015\",\"2015\",\"2015\",\"2015\",\"2015\",\"2016\",\"2016\",\"2016\",\"2016\",\"2016\",\"2016\",\"2016\",\"2016\",\"2016\",\"2016\",\"2016\",\"2016\",\"2016\",\"2016\",\"2016\",\"2016\",\"2016\",\"2016\",\"2016\",\"2016\",\"2017\",\"2017\",\"2017\",\"2017\",\"2017\",\"2017\",\"2017\",\"2017\",\"2017\",\"2017\",\"2017\",\"2017\",\"2017\",\"2017\",\"2017\",\"2017\",\"2017\",\"2017\",\"2017\",\"2017\",\"2018\",\"2018\",\"2018\",\"2018\",\"2018\",\"2018\",\"2018\",\"2018\",\"2018\",\"2018\",\"2018\",\"2018\",\"2018\",\"2018\",\"2018\",\"2018\",\"2018\",\"2018\",\"2018\",\"2018\"],\"index\":[0,1,2,3,4,5,6,7,8,9,10,11,12,13,14,15,16,17,18,19,20,21,22,23,24,25,26,27,28,29,30,31,32,33,34,35,36,37,38,39,40,41,42,43,44,45,46,47,48,49,50,51,52,53,54,55,56,57,58,59,60,61,62,63,64,65,66,67,68,69,70,71,72,73,74,75,76,77,78,79,80,81,82,83,84,85,86,87,88,89,90,91,92,93,94,95,96,97,98,99,100,101,102,103,104,105,106,107,108,109,110,111,112,113,114,115,116,117,118,119,120,121,122,123,124,125,126,127,128,129,130,131,132,133,134,135,136,137,138,139,140,141,142,143,144,145,146,147,148,149,150,151,152,153,154,155,156,157,158,159,160,161,162,163,164,165,166,167,168,169,170,171,172,173,174,175,176,177,178,179,180,181,182,183,184,185,186,187,188,189,190,191,192,193,194,195,196,197,198,199,200,201,202,203,204,205,206,207,208,209,210,211,212,213,214,215,216,217,218,219,220,221,222,223,224,225,226,227,228,229,230,231,232,233,234,235,236,237,238,239,240,241,242,243,244,245,246,247,248,249,250,251,252,253,254,255,256,257,258,259,260,261,262,263,264,265,266,267,268,269,270,271,272,273,274,275,276,277,278,279,280,281,282,283,284,285,286,287,288,289,290,291,292,293,294,295,296,297,298,299,300,301,302,303,304,305,306,307,308,309,310,311,312,313,314,315,316,317,318,319,320,321,322,323,324,325,326,327,328,329,330,331,332,333,334,335,336,337,338,339,340,341,342,343,344,345,346,347,348,349,350,351,352,353,354,355,356,357,358,359,360,361,362,363,364,365,366,367,368,369,370,371,372,373,374,375,376,377,378,379,380,381,382,383,384,385,386,387,388,389,390,391,392,393,394,395,396,397,398,399,400,401,402,403,404,405,406,407,408,409,410,411,412,413,414,415,416,417,418,419,420,421,422,423,424,425,426,427,428,429,430,431,432,433,434,435,436,437,438,439,440,441,442,443,444,445,446,447,448,449,450,451,452,453,454,455,456,457,458,459,460,461,462,463,464,465,466,467,468,469,470,471,472,473,474,475,476,477,478,479,480,481,482,483,484,485,486,487,488,489,490,491,492,493,494,495,496,497,498,499,500,501,502,503,504,505,506,507,508,509,510,511,512,513,514,515,516,517,518,519,520,521,522,523,524,525,526,527,528,529,530,531,532,533,534,535,536,537,538,539,540,541,542,543,544,545,546,547,548,549,550,551,552,553,554,555,556,557,558,559,560,561,562,563,564,565,566,567,568,569,570,571,572,573,574,575,576,577,578,579,580,581,582,583,584,585,586,587,588,589,590,591,592,593,594,595,596,597,598,599,600,601,602,603,604,605,606,607,608,609,610,611,612,613,614,615,616,617,618,619,620,621,622,623,624,625,626,627,628,629,630,631,632,633,634,635,636,637,638,639,640,641,642,643,644,645,646,647,648,649,650,651,652,653,654,655,656,657,658,659,660,661,662,663,664,665,666,667,668,669,670,671,672,673,674,675,676,677,678,679]},\"selected\":{\"id\":\"faec7c23-d1a7-4f44-a5e1-d9eab06058b6\",\"type\":\"Selection\"},\"selection_policy\":{\"id\":\"a8a70aa8-5ce0-48e3-b61d-9c4186de5048\",\"type\":\"UnionRenderers\"}},\"id\":\"06ba7fd7-9357-4552-a907-69fa3eefc4b0\",\"type\":\"ColumnDataSource\"},{\"attributes\":{},\"id\":\"4831e4c7-19bb-44af-8e0a-28d88ba02501\",\"type\":\"CategoricalScale\"},{\"attributes\":{},\"id\":\"936af7a4-8c9d-4b19-a48b-5319ea143702\",\"type\":\"BasicTickFormatter\"},{\"attributes\":{\"high\":26.250456370938295,\"low\":0,\"palette\":[\"#440154\",\"#440255\",\"#440357\",\"#450558\",\"#45065A\",\"#45085B\",\"#46095C\",\"#460B5E\",\"#460C5F\",\"#460E61\",\"#470F62\",\"#471163\",\"#471265\",\"#471466\",\"#471567\",\"#471669\",\"#47186A\",\"#48196B\",\"#481A6C\",\"#481C6E\",\"#481D6F\",\"#481E70\",\"#482071\",\"#482172\",\"#482273\",\"#482374\",\"#472575\",\"#472676\",\"#472777\",\"#472878\",\"#472A79\",\"#472B7A\",\"#472C7B\",\"#462D7C\",\"#462F7C\",\"#46307D\",\"#46317E\",\"#45327F\",\"#45347F\",\"#453580\",\"#453681\",\"#443781\",\"#443982\",\"#433A83\",\"#433B83\",\"#433C84\",\"#423D84\",\"#423E85\",\"#424085\",\"#414186\",\"#414286\",\"#404387\",\"#404487\",\"#3F4587\",\"#3F4788\",\"#3E4888\",\"#3E4989\",\"#3D4A89\",\"#3D4B89\",\"#3D4C89\",\"#3C4D8A\",\"#3C4E8A\",\"#3B508A\",\"#3B518A\",\"#3A528B\",\"#3A538B\",\"#39548B\",\"#39558B\",\"#38568B\",\"#38578C\",\"#37588C\",\"#37598C\",\"#365A8C\",\"#365B8C\",\"#355C8C\",\"#355D8C\",\"#345E8D\",\"#345F8D\",\"#33608D\",\"#33618D\",\"#32628D\",\"#32638D\",\"#31648D\",\"#31658D\",\"#31668D\",\"#30678D\",\"#30688D\",\"#2F698D\",\"#2F6A8D\",\"#2E6B8E\",\"#2E6C8E\",\"#2E6D8E\",\"#2D6E8E\",\"#2D6F8E\",\"#2C708E\",\"#2C718E\",\"#2C728E\",\"#2B738E\",\"#2B748E\",\"#2A758E\",\"#2A768E\",\"#2A778E\",\"#29788E\",\"#29798E\",\"#287A8E\",\"#287A8E\",\"#287B8E\",\"#277C8E\",\"#277D8E\",\"#277E8E\",\"#267F8E\",\"#26808E\",\"#26818E\",\"#25828E\",\"#25838D\",\"#24848D\",\"#24858D\",\"#24868D\",\"#23878D\",\"#23888D\",\"#23898D\",\"#22898D\",\"#228A8D\",\"#228B8D\",\"#218C8D\",\"#218D8C\",\"#218E8C\",\"#208F8C\",\"#20908C\",\"#20918C\",\"#1F928C\",\"#1F938B\",\"#1F948B\",\"#1F958B\",\"#1F968B\",\"#1E978A\",\"#1E988A\",\"#1E998A\",\"#1E998A\",\"#1E9A89\",\"#1E9B89\",\"#1E9C89\",\"#1E9D88\",\"#1E9E88\",\"#1E9F88\",\"#1EA087\",\"#1FA187\",\"#1FA286\",\"#1FA386\",\"#20A485\",\"#20A585\",\"#21A685\",\"#21A784\",\"#22A784\",\"#23A883\",\"#23A982\",\"#24AA82\",\"#25AB81\",\"#26AC81\",\"#27AD80\",\"#28AE7F\",\"#29AF7F\",\"#2AB07E\",\"#2BB17D\",\"#2CB17D\",\"#2EB27C\",\"#2FB37B\",\"#30B47A\",\"#32B57A\",\"#33B679\",\"#35B778\",\"#36B877\",\"#38B976\",\"#39B976\",\"#3BBA75\",\"#3DBB74\",\"#3EBC73\",\"#40BD72\",\"#42BE71\",\"#44BE70\",\"#45BF6F\",\"#47C06E\",\"#49C16D\",\"#4BC26C\",\"#4DC26B\",\"#4FC369\",\"#51C468\",\"#53C567\",\"#55C666\",\"#57C665\",\"#59C764\",\"#5BC862\",\"#5EC961\",\"#60C960\",\"#62CA5F\",\"#64CB5D\",\"#67CC5C\",\"#69CC5B\",\"#6BCD59\",\"#6DCE58\",\"#70CE56\",\"#72CF55\",\"#74D054\",\"#77D052\",\"#79D151\",\"#7CD24F\",\"#7ED24E\",\"#81D34C\",\"#83D34B\",\"#86D449\",\"#88D547\",\"#8BD546\",\"#8DD644\",\"#90D643\",\"#92D741\",\"#95D73F\",\"#97D83E\",\"#9AD83C\",\"#9DD93A\",\"#9FD938\",\"#A2DA37\",\"#A5DA35\",\"#A7DB33\",\"#AADB32\",\"#ADDC30\",\"#AFDC2E\",\"#B2DD2C\",\"#B5DD2B\",\"#B7DD29\",\"#BADE27\",\"#BDDE26\",\"#BFDF24\",\"#C2DF22\",\"#C5DF21\",\"#C7E01F\",\"#CAE01E\",\"#CDE01D\",\"#CFE11C\",\"#D2E11B\",\"#D4E11A\",\"#D7E219\",\"#DAE218\",\"#DCE218\",\"#DFE318\",\"#E1E318\",\"#E4E318\",\"#E7E419\",\"#E9E419\",\"#ECE41A\",\"#EEE51B\",\"#F1E51C\",\"#F3E51E\",\"#F6E61F\",\"#F8E621\",\"#FAE622\",\"#FDE724\"]},\"id\":\"fdc6b2ed-3266-4a9b-988e-2e8a6fb337cc\",\"type\":\"LinearColorMapper\"},{\"attributes\":{},\"id\":\"cc80efeb-3c9c-4e7d-a607-5811cc4d99a6\",\"type\":\"CategoricalTickFormatter\"},{\"attributes\":{\"callback\":null,\"factors\":[\"Denmark\",\"Netherlands\",\"Brazil\",\"Indonesia\",\"Norway\",\"Mexico\",\"Bermuda\",\"Taiwan\",\"Spain\",\"Austria\",\"France\",\"Germany\",\"Turkey\",\"Ireland\",\"Japan\",\"Australia\",\"China\",\"Canada\",\"United Kingdom\",\"United States\"]},\"id\":\"5b930b05-a96e-4cb1-ad73-a82f1642b28d\",\"type\":\"FactorRange\"},{\"attributes\":{},\"id\":\"97f043e4-4be4-4249-a0c8-7bea3c2e0c64\",\"type\":\"CategoricalTicker\"},{\"attributes\":{\"axis_line_color\":{\"value\":null},\"formatter\":{\"id\":\"cc80efeb-3c9c-4e7d-a607-5811cc4d99a6\",\"type\":\"CategoricalTickFormatter\"},\"major_label_standoff\":0,\"major_label_text_font_size\":{\"value\":\"10pt\"},\"major_tick_line_color\":{\"value\":null},\"plot\":{\"id\":\"f1184540-fcb9-4a5b-b5a0-b592b31e8b75\",\"subtype\":\"Figure\",\"type\":\"Plot\"},\"ticker\":{\"id\":\"86762c9c-8031-4cae-a9d2-90e7e296c2f1\",\"type\":\"CategoricalTicker\"}},\"id\":\"9ab31c82-eeb7-4a84-9922-067cf890e5cb\",\"type\":\"CategoricalAxis\"},{\"attributes\":{\"axis_line_color\":{\"value\":null},\"formatter\":{\"id\":\"6e633dd7-aaaa-4f0b-bb3b-d3508d4405a9\",\"type\":\"CategoricalTickFormatter\"},\"major_label_orientation\":1.0471975511965976,\"major_label_standoff\":0,\"major_label_text_font_size\":{\"value\":\"10pt\"},\"major_tick_line_color\":{\"value\":null},\"plot\":{\"id\":\"f1184540-fcb9-4a5b-b5a0-b592b31e8b75\",\"subtype\":\"Figure\",\"type\":\"Plot\"},\"ticker\":{\"id\":\"97f043e4-4be4-4249-a0c8-7bea3c2e0c64\",\"type\":\"CategoricalTicker\"}},\"id\":\"631598ef-122c-497c-bbcf-5d1d74f3438b\",\"type\":\"CategoricalAxis\"},{\"attributes\":{},\"id\":\"a8a70aa8-5ce0-48e3-b61d-9c4186de5048\",\"type\":\"UnionRenderers\"},{\"attributes\":{\"grid_line_color\":{\"value\":null},\"plot\":{\"id\":\"f1184540-fcb9-4a5b-b5a0-b592b31e8b75\",\"subtype\":\"Figure\",\"type\":\"Plot\"},\"ticker\":{\"id\":\"97f043e4-4be4-4249-a0c8-7bea3c2e0c64\",\"type\":\"CategoricalTicker\"}},\"id\":\"1ca89198-c566-4caf-925a-d79569e51423\",\"type\":\"Grid\"},{\"attributes\":{},\"id\":\"faec7c23-d1a7-4f44-a5e1-d9eab06058b6\",\"type\":\"Selection\"},{\"attributes\":{\"bottom_units\":\"screen\",\"fill_alpha\":{\"value\":0.5},\"fill_color\":{\"value\":\"lightgrey\"},\"left_units\":\"screen\",\"level\":\"overlay\",\"line_alpha\":{\"value\":1.0},\"line_color\":{\"value\":\"black\"},\"line_dash\":[4,4],\"line_width\":{\"value\":2},\"plot\":null,\"render_mode\":\"css\",\"right_units\":\"screen\",\"top_units\":\"screen\"},\"id\":\"931f0008-f000-4d26-8253-a24eecc45061\",\"type\":\"BoxAnnotation\"},{\"attributes\":{\"fill_alpha\":{\"value\":0.1},\"fill_color\":{\"value\":\"#1f77b4\"},\"height\":{\"units\":\"data\",\"value\":1},\"line_alpha\":{\"value\":0.1},\"line_color\":{\"value\":\"#1f77b4\"},\"width\":{\"units\":\"data\",\"value\":1},\"x\":{\"field\":\"Year\"},\"y\":{\"field\":\"Country\"}},\"id\":\"282adbba-ada8-4016-90cc-28f92ae9358b\",\"type\":\"Rect\"},{\"attributes\":{},\"id\":\"86762c9c-8031-4cae-a9d2-90e7e296c2f1\",\"type\":\"CategoricalTicker\"},{\"attributes\":{\"dimension\":1,\"grid_line_color\":{\"value\":null},\"plot\":{\"id\":\"f1184540-fcb9-4a5b-b5a0-b592b31e8b75\",\"subtype\":\"Figure\",\"type\":\"Plot\"},\"ticker\":{\"id\":\"86762c9c-8031-4cae-a9d2-90e7e296c2f1\",\"type\":\"CategoricalTicker\"}},\"id\":\"4a441ffc-8dad-45fd-a23f-3f88a567b3ad\",\"type\":\"Grid\"},{\"attributes\":{\"source\":{\"id\":\"06ba7fd7-9357-4552-a907-69fa3eefc4b0\",\"type\":\"ColumnDataSource\"}},\"id\":\"97c7573c-92e9-447c-9a22-48302c3ab8da\",\"type\":\"CDSView\"},{\"attributes\":{\"data_source\":{\"id\":\"06ba7fd7-9357-4552-a907-69fa3eefc4b0\",\"type\":\"ColumnDataSource\"},\"glyph\":{\"id\":\"0bac77c9-9d09-4960-b881-7daaecb6ce5a\",\"type\":\"Rect\"},\"hover_glyph\":null,\"muted_glyph\":null,\"nonselection_glyph\":{\"id\":\"282adbba-ada8-4016-90cc-28f92ae9358b\",\"type\":\"Rect\"},\"selection_glyph\":null,\"view\":{\"id\":\"97c7573c-92e9-447c-9a22-48302c3ab8da\",\"type\":\"CDSView\"}},\"id\":\"5274f512-7c16-4c98-87ad-dc7695b826cb\",\"type\":\"GlyphRenderer\"},{\"attributes\":{\"desired_num_ticks\":10},\"id\":\"8094c750-a655-4991-9207-a7025387b62c\",\"type\":\"BasicTicker\"},{\"attributes\":{\"color_mapper\":{\"id\":\"fdc6b2ed-3266-4a9b-988e-2e8a6fb337cc\",\"type\":\"LinearColorMapper\"},\"formatter\":{\"id\":\"936af7a4-8c9d-4b19-a48b-5319ea143702\",\"type\":\"BasicTickFormatter\"},\"label_standoff\":6,\"location\":[0,0],\"major_label_text_font_size\":{\"value\":\"10pt\"},\"plot\":{\"id\":\"f1184540-fcb9-4a5b-b5a0-b592b31e8b75\",\"subtype\":\"Figure\",\"type\":\"Plot\"},\"ticker\":{\"id\":\"8094c750-a655-4991-9207-a7025387b62c\",\"type\":\"BasicTicker\"}},\"id\":\"888b129e-4602-4739-8b6a-0bee242e763b\",\"type\":\"ColorBar\"},{\"attributes\":{\"callback\":null,\"renderers\":\"auto\",\"tooltips\":[[\"Country\",\"@Country\"],[\"Year\",\"@Year\"],[\"Aircraft Count\",\"@Count\"],[\"Percent of Fleet\",\"@Percentage{0.0}% of fleet\"],[\"Total Aircraft\",\"@Total{,}\"]]},\"id\":\"ad450df5-3ce3-488c-81f9-92978ba425ff\",\"type\":\"HoverTool\"},{\"attributes\":{},\"id\":\"0619b80f-d05b-4fc9-bf1c-69231b9ca35b\",\"type\":\"SaveTool\"},{\"attributes\":{},\"id\":\"b9373d93-164e-4eeb-95ba-7572d06e3893\",\"type\":\"PanTool\"},{\"attributes\":{\"overlay\":{\"id\":\"931f0008-f000-4d26-8253-a24eecc45061\",\"type\":\"BoxAnnotation\"}},\"id\":\"912c82df-b84b-4c49-a1d4-6c72731a16c8\",\"type\":\"BoxZoomTool\"},{\"attributes\":{},\"id\":\"18838cc0-1328-43b8-9c04-6e6fa0eecf49\",\"type\":\"ResetTool\"},{\"attributes\":{},\"id\":\"b5facaea-ece3-4a9f-9d11-8dd7c6411f95\",\"type\":\"WheelZoomTool\"}],\"root_ids\":[\"f1184540-fcb9-4a5b-b5a0-b592b31e8b75\"]},\"title\":\"Bokeh Application\",\"version\":\"0.13.0\"}};\n",
       "  var render_items = [{\"docid\":\"bfb11809-ea74-48ee-9437-a8ad269c93a1\",\"roots\":{\"f1184540-fcb9-4a5b-b5a0-b592b31e8b75\":\"2a2bcdc6-285f-4dea-aba5-e3fb6f53162a\"}}];\n",
       "  root.Bokeh.embed.embed_items_notebook(docs_json, render_items);\n",
       "\n",
       "  }\n",
       "  if (root.Bokeh !== undefined) {\n",
       "    embed_document(root);\n",
       "  } else {\n",
       "    var attempts = 0;\n",
       "    var timer = setInterval(function(root) {\n",
       "      if (root.Bokeh !== undefined) {\n",
       "        embed_document(root);\n",
       "        clearInterval(timer);\n",
       "      }\n",
       "      attempts++;\n",
       "      if (attempts > 100) {\n",
       "        console.log(\"Bokeh: ERROR: Unable to run BokehJS code because BokehJS library is missing\")\n",
       "        clearInterval(timer);\n",
       "      }\n",
       "    }, 10, root)\n",
       "  }\n",
       "})(window);"
      ],
      "application/vnd.bokehjs_exec.v0+json": ""
     },
     "metadata": {
      "application/vnd.bokehjs_exec.v0+json": {
       "id": "f1184540-fcb9-4a5b-b5a0-b592b31e8b75"
      }
     },
     "output_type": "display_data"
    }
   ],
   "source": [
    "year_vs_cou_percent.index = year_vs_cou_percent.index.astype(str)\n",
    "\n",
    "years = list(year_vs_cou_percent.index)\n",
    "months = list(year_vs_cou_percent.columns)\n",
    "\n",
    "arr_p = pd.DataFrame(year_vs_cou_percent.stack(), columns=['Percentage']).reset_index()\n",
    "arr_c = pd.DataFrame(year_vs_cou.stack(), columns=['Count']).reset_index()\n",
    "total_by_cou = year_vs_cou.sum(axis=0)\n",
    "arr_c['Total'] = arr_c.Country.map(total_by_cou)\n",
    "arr = pd.merge(arr_p, arr_c, how='outer', left_on=['Year', 'Country'], right_on=['Year', 'Country'])\n",
    "\n",
    "colors = Viridis256\n",
    "mapper = LinearColorMapper(palette=colors, low=0, high=year_vs_cou_percent.max().max())\n",
    "\n",
    "TOOLS = \"hover,save,pan,box_zoom,reset,wheel_zoom\"\n",
    "\n",
    "p = plotting.figure(title=\"Aircraft Registered to Country by Year ({0} - {1})\".format(years[0], years[-1]),\n",
    "           x_range=years, y_range=list(reversed(months)),\n",
    "           x_axis_location=\"above\", plot_width=950, plot_height=1200,\n",
    "           tools=TOOLS, toolbar_location='above',\n",
    "           tooltips=[('Country', '@Country'), \n",
    "                     ('Year', '@Year'), \n",
    "                     ('Aircraft Count', '@Count'),\n",
    "                     ('Percent of Fleet', '@Percentage{0.0}% of fleet'),\n",
    "                     (\"Total Aircraft\", '@Total{,}')])\n",
    "\n",
    "p.grid.grid_line_color = None\n",
    "p.axis.axis_line_color = None\n",
    "p.axis.major_tick_line_color = None\n",
    "p.axis.major_label_text_font_size = \"10pt\"\n",
    "p.axis.major_label_standoff = 0\n",
    "p.xaxis.major_label_orientation = pi / 3\n",
    "\n",
    "p.rect(x=\"Year\", y=\"Country\", width=1, height=1,\n",
    "       source=arr,\n",
    "       fill_color={'field': 'Percentage', 'transform': mapper},\n",
    "       line_color=None)\n",
    "\n",
    "color_bar = ColorBar(color_mapper=mapper, major_label_text_font_size=\"10pt\",\n",
    "                     ticker=BasicTicker(desired_num_ticks=10),\n",
    "                     label_standoff=6, border_line_color=None, location=(0, 0))\n",
    "p.add_layout(color_bar, 'right')\n",
    "show(p)"
   ]
  },
  {
   "cell_type": "code",
   "execution_count": 7,
   "metadata": {
    "ExecuteTime": {
     "end_time": "2018-10-04T21:18:57.933209Z",
     "start_time": "2018-10-04T21:18:56.984451Z"
    },
    "slideshow": {
     "slide_type": "skip"
    }
   },
   "outputs": [],
   "source": [
    "models = list(set(df.Mdl.dropna().str.strip().str.title()))\n",
    "models2 = {}\n",
    "for m in models:\n",
    "    m_before = m\n",
    "    m = m.strip()\n",
    "    if re.match(r'[0-9]{4} *',m[:5]):\n",
    "        m = m[5:]\n",
    "    m = m.replace('Erj','ERJ').replace('Md-','MD-').replace('Dc-','DC-').replace('Pa-','PA-')\n",
    "    m = m.replace('Emb-','EMB-').replace('Emb ','EMB ')\n",
    "    m = m.replace('Raytheon Aircraft Company', 'Raytheon').replace('Airbus Industrie','Airbus')\n",
    "    m = m.replace('Dehavilland Dhc-2', 'Dehavilland')\n",
    "    m = m.replace('Dassault-Breguet Mystere','Dassault')\n",
    "    m = m.replace('Falcon 20-', 'Falcon 20')\n",
    "    m = m.replace('Mcdonnell', 'McDonnell')\n",
    "    m = m.replace('McDonnell Douglas Aircraft Co', 'McDonnell Douglas')\n",
    "    m = m.replace('McDonnell Douglas Corporation', 'McDonnell Douglas')\n",
    "    m = m.replace('McDonnell Douglas MD', 'MD').replace('McDonnell Douglas DC', 'DC')\n",
    "    m = m.replace('Embraer Executive Aircraft Inc', 'Embraer')\n",
    "    m = m.replace('Embraer E', 'E')\n",
    "    m = m.replace('American General Acft Corp', 'American General')\n",
    "    m = m.replace('Saab-Scania Saab', 'Saab')\n",
    "    m = m.replace('Eurocopter Deutschland Gmbh','Eurocopter')\n",
    "    m = m.replace('Piper Aircraft Inc', 'Piper')\n",
    "    m = m.replace('Diamond Aircraft Ind Inc', 'Diamond')\n",
    "    m = m.replace('Embraer-Empresa Brasileira De', 'Embraer')\n",
    "    m = m.replace('Gulfstream Aerospace', 'Gulfstream')\n",
    "    m = m.replace('Hawker Beechcraft Corp Hawker', 'Hawker')\n",
    "    m = m.replace('Hawker Beechcraft Corp King Air', 'King Air')\n",
    "    m = m.replace('Beech King Air', 'King Air')\n",
    "    m = m.replace('Textron Aviation King Air', 'King Air')\n",
    "    m = m.replace('Raytheon King Air', 'King Air')\n",
    "    m = m.replace('Bombardier Learjet', 'Learjet')\n",
    "    m = m.replace('Bombardier Global', 'Global')\n",
    "    m = m.replace('Bombardier Challenger', 'Challenger')\n",
    "    m = m.replace('Textron Aviation Citation', 'Citation')\n",
    "    m = m.replace('Cessna Citation', 'Citation')\n",
    "    m = m.replace('ERJ 170', 'ERJ-170').replace('ERJ 145', 'ERJ-145').replace('ERJ 190', 'ERJ-190')\n",
    "    m = m.replace('ERJ 1', 'ERJ-1')\n",
    "    m = m.replace('Kc-135R', 'KC-135R')\n",
    "    m = m.replace('Pa 46', 'PA-46')\n",
    "    m = m.replace('Crj', 'CRJ')\n",
    "    m = m.replace('CRJ ', 'CRJ-')\n",
    "    m = m.replace('Boeing ', '')\n",
    "    mdl_list = ['717', '737', '747', '757', '767', '777', '787', \n",
    "                'A300', 'A310', 'A318', 'A319', 'A320', 'A321', 'A330', 'A340', \n",
    "                'A350', 'A380', 'A400', 'ACJ319', 'ERJ-170', 'ERJ-145', 'ERJ-190',\n",
    "                'Cessna 172', 'Cessna 180', 'C-130', 'MD-80', 'MD-90', 'G-IV', 'G-V', 'G200', \n",
    "                'G200', 'G450','G550', 'G650', 'C-27J', 'PA-67', 'PA-28', 'PA-32', 'PA-18',\n",
    "               'PA-20', 'PA-23', 'PA-24', 'PA-25', 'PA-28', 'PA-30', 'PA-31', 'PA-32', \n",
    "               'PA-34', 'PA-44', 'PA-46', 'C-40', 'Cessna 182', 'Cessna 150','Superjet 100']\n",
    "    for ml in mdl_list:\n",
    "        if ml.lower() in m.lower():\n",
    "            m = ml\n",
    "            continue\n",
    "    models2[m_before] =  m"
   ]
  },
  {
   "cell_type": "code",
   "execution_count": 8,
   "metadata": {
    "ExecuteTime": {
     "end_time": "2018-10-04T21:18:58.362551Z",
     "start_time": "2018-10-04T21:18:57.936391Z"
    },
    "slideshow": {
     "slide_type": "skip"
    }
   },
   "outputs": [],
   "source": [
    "df['Mdl'] = df['Mdl'].map(models2)\n",
    "top_models = list(df.Mdl.value_counts()[:15].index)\n",
    "cou_vs_mdl = df.groupby(['Cou', 'Mdl']).count()['Icao'].unstack().fillna(0)\n",
    "cou_vs_mdl.index.name = 'Country'\n",
    "cou_vs_mdl.columns.name = 'Mdl'\n",
    "cou_vs_mdl = cou_vs_mdl[top_models]\n",
    "cou_vs_mdl['Total'] = cou_vs_mdl.sum(axis=1)\n",
    "cou_vs_mdl = cou_vs_mdl.sort_values('Total', ascending=False)\n",
    "del cou_vs_mdl['Total']\n",
    "cou_vs_mdl = cou_vs_mdl[:20]\n",
    "cou_vs_mdl_BAK = cou_vs_mdl.copy()\n",
    "c = list(reversed(cou_vs_mdl.columns))\n",
    "cou_vs_mdl = cou_vs_mdl[c]\n",
    "cou_vs_mdl.columns.name = 'Mdl'\n",
    "cou_vs_mdl_percent = cou_vs_mdl.div(cou_vs_mdl.sum(axis=1),axis=0) * 100\n",
    "mdl_vs_cou_percent = cou_vs_mdl_percent.T\n",
    "mdl_vs_cou = cou_vs_mdl.T"
   ]
  },
  {
   "cell_type": "code",
   "execution_count": 9,
   "metadata": {
    "ExecuteTime": {
     "end_time": "2018-10-04T21:18:58.447497Z",
     "start_time": "2018-10-04T21:18:58.366676Z"
    },
    "slideshow": {
     "slide_type": "slide"
    }
   },
   "outputs": [
    {
     "data": {
      "text/html": [
       "\n",
       "\n",
       "\n",
       "\n",
       "\n",
       "\n",
       "  <div class=\"bk-root\" id=\"267b5cd6-fb97-4780-bb16-4c62c09634a7\"></div>\n"
      ]
     },
     "metadata": {},
     "output_type": "display_data"
    },
    {
     "data": {
      "application/javascript": [
       "(function(root) {\n",
       "  function embed_document(root) {\n",
       "    \n",
       "  var docs_json = {\"434fb5a5-8347-4e5c-b996-eb35cbe081d1\":{\"roots\":{\"references\":[{\"attributes\":{},\"id\":\"355e577d-fcb5-4513-974e-37438aeb14c7\",\"type\":\"CategoricalTicker\"},{\"attributes\":{\"axis_line_color\":{\"value\":null},\"formatter\":{\"id\":\"71870356-1bf7-47d1-ad21-acacfeab077f\",\"type\":\"CategoricalTickFormatter\"},\"major_label_orientation\":1.0471975511965976,\"major_label_standoff\":0,\"major_label_text_font_size\":{\"value\":\"10pt\"},\"major_tick_line_color\":{\"value\":null},\"plot\":{\"id\":\"19408d59-2324-4e65-a28b-035d98caa25a\",\"subtype\":\"Figure\",\"type\":\"Plot\"},\"ticker\":{\"id\":\"a8831a62-4de6-403a-9965-906bc7491864\",\"type\":\"CategoricalTicker\"}},\"id\":\"7745ce28-d571-4069-8865-74c7b94febac\",\"type\":\"CategoricalAxis\"},{\"attributes\":{\"grid_line_color\":{\"value\":null},\"plot\":{\"id\":\"19408d59-2324-4e65-a28b-035d98caa25a\",\"subtype\":\"Figure\",\"type\":\"Plot\"},\"ticker\":{\"id\":\"a8831a62-4de6-403a-9965-906bc7491864\",\"type\":\"CategoricalTicker\"}},\"id\":\"1ed479b7-dfd2-44f5-b010-670b054c48a4\",\"type\":\"Grid\"},{\"attributes\":{},\"id\":\"a8831a62-4de6-403a-9965-906bc7491864\",\"type\":\"CategoricalTicker\"},{\"attributes\":{},\"id\":\"2a8f18df-6b64-46c2-aef5-e2bb38281d37\",\"type\":\"CategoricalScale\"},{\"attributes\":{\"above\":[{\"id\":\"7745ce28-d571-4069-8865-74c7b94febac\",\"type\":\"CategoricalAxis\"}],\"left\":[{\"id\":\"03a91a0e-60dd-4ef7-86ec-14f0fdc06b6f\",\"type\":\"CategoricalAxis\"}],\"plot_height\":900,\"plot_width\":950,\"renderers\":[{\"id\":\"7745ce28-d571-4069-8865-74c7b94febac\",\"type\":\"CategoricalAxis\"},{\"id\":\"1ed479b7-dfd2-44f5-b010-670b054c48a4\",\"type\":\"Grid\"},{\"id\":\"03a91a0e-60dd-4ef7-86ec-14f0fdc06b6f\",\"type\":\"CategoricalAxis\"},{\"id\":\"9ed397c0-bcc6-484e-b27e-6ef656e06ddf\",\"type\":\"Grid\"},{\"id\":\"318d6142-ab37-47d4-b090-6225804d376f\",\"type\":\"BoxAnnotation\"},{\"id\":\"18ce5a02-23c9-4c37-bb0a-b72df763a997\",\"type\":\"GlyphRenderer\"},{\"id\":\"2f20a20d-0e80-4495-9d03-ab399dc5b2a9\",\"type\":\"ColorBar\"}],\"right\":[{\"id\":\"2f20a20d-0e80-4495-9d03-ab399dc5b2a9\",\"type\":\"ColorBar\"}],\"title\":{\"id\":\"b625d48e-7a9e-49d5-a648-7f3f2eabe07a\",\"type\":\"Title\"},\"toolbar\":{\"id\":\"845f092f-ff57-4355-a321-8be3819672b9\",\"type\":\"Toolbar\"},\"toolbar_location\":\"above\",\"x_range\":{\"id\":\"0b21f012-2f9c-4f90-8a0d-0e409bcc414c\",\"type\":\"FactorRange\"},\"x_scale\":{\"id\":\"97f25f4f-4a1c-4694-a8ac-5d933404b94a\",\"type\":\"CategoricalScale\"},\"y_range\":{\"id\":\"874bd138-b71d-42ec-b01c-84e78fafbaef\",\"type\":\"FactorRange\"},\"y_scale\":{\"id\":\"2a8f18df-6b64-46c2-aef5-e2bb38281d37\",\"type\":\"CategoricalScale\"}},\"id\":\"19408d59-2324-4e65-a28b-035d98caa25a\",\"subtype\":\"Figure\",\"type\":\"Plot\"},{\"attributes\":{\"callback\":null,\"data\":{\"Count\":{\"__ndarray__\":\"AAAAAAAAAAAAAAAAAMCAQAAAAAAAAAAAAAAAAAAAAAAAAAAAAAAAAAAAAAAAAAAAAAAAAAAAAAAAAAAAAAAAAAAAAAAAAAAAAAAAAAAAAAAAAAAAAAAAAAAAAAAAAAAAAAAAAAAAAAAAAAAAAAAAAAAAAAAAAAAAAAAAAAAAAAAAAAAAAAAAAAAAAAAAAAAAAAAAAAAAAAAAAAAAAAAAAAAAAAAAAAAAAAAAAAAQdkAAAAAAAAAAAAAAAAAAAAAAAAAAAAAAAAAAAAAAAIBpQAAAAAAAAAAAAAAAAAAAAAAAAAAAAAAAAAAAAAAAAAAAAAAAAAAAAAAAAAAAAAAAAAAAAAAAAAAAAAAAAAAAAAAAAAAAAAAAAAAAAAAAAAAAAAAAAAAAAAAAAAAAAAAAAAAAAAAAAAAAAAAAAAAAAAAAAAAAAAAAAAAAAAAAsINAAAAAAAAAAAAAAAAAAAAcQAAAAAAAAAAAAAAAAAAAAAAAAAAAAAAAAAAAAAAAAAAAAAAAAADgc0AAAAAAAAAAAAAAAAAAAAAAAAAAAAAAAAAAAAAAAAAAAAAAAAAAAAAAAAAAAAAAAAAAAAAAAAAAAAAAAAAAAAAAAAAAAAAAAAAAAAAAAAAAAAAAAAAAAAAAAAAAAAAAAAAAAAAAAAAUQAAAAAAAAAAAAAAAAACAaUAAAAAAAMBiQAAAAAAAAAAAAAAAAAAAAAAAAAAAAAAAAAAAAAAAAAAAAAAAAAAAAAAAAAAAAAAAAAAAAAAAgENAAAAAAAAAAAAAAAAAAAAAAAAAAAAAQHRAAAAAAAAAAAAAAAAAAAAAAAAAAAAAAAAAAAAAAAAAAAAAAAAAAAAAAAAAAAAAsHJAAAAAAAAAAAAAAAAAAAAAAAAAAAAAAAAAAAAAAAAQeEAAAAAAAAAAAAAAAAAAAAAAAAAAAACgcUAAAAAAAAAAAAAAAAAAAAAAAAAAAAAAAAAAAAAAAGBqQAAAAAAAgFFAAAAAAAAAAAAAAAAAAAAAAAAAAAAAAAAAAAAAAAAAAAAAAAAAAAAAAAAAAAAAYGlAAAAAAAAAAAAAAAAAAKBpQAAAAAAAAAAAAAAAAAAAAAAAAAAAAAAAAAAAAAAAwHhAAAAAAAAgbUAAAAAAAAAAAAAAAAAAAAAAAAAAAAAAAAAAAAAAAAAAAAAAAAAAAAAAAAAAAAAwckAAAAAAAAAAAAAAAAAAAAAAAAAAAAAAAAAAAAAAAAAAAAAAAAAAAAAAAAAAAAAAAAAAAAAAAAAAAAAAAAAAAAAAAAAAAACAX0AAAAAAAEBuQAAAAAAAAAAAAAAAAAAwcUAAAAAAAAAAAAAAAAAAAAAAAAAAAAAAAAAAAAAAAAAAAAAAAAAACIZAAAAAAAAAAAAAAAAAAAAmQAAAAAAAAAAAAAAAAAAA8D8AAAAAAAAAAAAAAAAAAFBAAAAAAAAAAAAAAAAAAAAAAAAAAAAAACJAAAAAAAAAAAAAAAAAAAAAAAAAAAAAtKBAAAAAAABwcEAAAAAAAAAAAAAAAAAAAAAAAAAAAAAAAAAAAAAAAAAAAAAAAAAAAAAAAAAAAAAAAAAAAAAAAAAAAAAAAAAAAFNAAAAAAABgbUAAAAAAAAAAAAAAAAAAAAAAAAAAAAAAAAAAAAAAAAAAAAAAAAAAcHZAAAAAAAAAAAAAAAAAAAAAAAAAAAAAAAAAAAAAAAAAAAAAAAAAAGBoQAAAAAAAIJ1AAAAAAAAAPUAAAAAAAAA/QAAAAAAAAAAAAAAAAAAANkAAAAAAAAAAAAAAAAAAAEhAAAAAAAAAQkAAAAAAAKBjQAAAAAAAAAAAAAAAAAAAAAAAAAAAAAAyQAAAAAAAAGtAAAAAAAAAAAAAAAAAAAAAAAAAAAAAAAAAAAAAAAAAAAAAAAAAAAAAAAAAAAAAADFAAAAAAAC0oEAAAAAAAFBwQAAAAAAAAAAAAAAAAAAAAAAAAAAAAOCEQAAAAAAAACBAAAAAAAAAAAAAAAAAAABQQAAAAAAAAAAAAAAAAAAAAAAAAAAAAAAmQAAAAAAAAAAAAAAAAAAAAAAAAAAAAAAAAAAAAAAAAG5AAAAAAACgYUAAAAAAAAAAAAAAAAAAwG9AAAAAAAAAAAAAAAAAAAAAAAAAAAAAsJJAAAAAAADge0AAAAAAAICIQAAAAAAA+IVAAAAAAACAUEAAAAAAAMBZQAAAAAAAQF5AAAAAAAAAMUAAAAAAAEBQQAAAAAAAYH9AAAAAAAAAOEAAAAAAAAAAAAAAAAAA0HNAAAAAAACIgUAAAAAAAAAxQAAAAAAAMHFAAAAAAACAVEAAAAAAAABYQAAAAAAAADxAAAAAAAAAAAAAAAAAAKCeQAAAAAAASIFAAAAAAAAck0AAAAAAADB0QAAAAAAAAAAAAAAAAACAYEAAAAAAAAAAAAAAAAAAgE1AAAAAAABwf0AAAAAAACBkQAAAAAAAAAAAAAAAAAAAQkAAAAAAAAAAAAAAAAAAAAAAAAAAAAAAAAAAAAAAAAAAAAAAAAAAAAAAAAAAAAAAAAAAAAAAAJB3QAAAAAAAgFJAAAAAAADom0AAAAAAAPSYQAAAAAAAWJRAAAAAAADQdEAAAAAAAEB7QAAAAAAAAAAAAAAAAADwjUAAAAAAANCCQAAAAAAAAAAAAAAAAACgakAAAAAAAAAgQAAAAAAAAAAAAAAAAAAAAAAAAAAAAAAAAAAAAAAAAAAAAAAAAAAAAAAAAAAAAAAAAAAAAAAAAAAAAAAAAAAAAAAAAAAAAIBvQAAAAAAAyI9AAAAAAAAgdUAAAAAAAEiLQAAAAAAAAJhAAAAAAACAfEAAAAAAAFiFQAAAAAAAAAAAAAAAAADQd0AAAAAAAAAAAAAAAAAAMHhAAAAAAABYhEAAAAAAADCCQAAAAAAAUIVAAAAAAAAAAAAAAAAAAECCQAAAAAAAoG5AAAAAAADAekAAAAAAALB9QAAAAAAAMHhAAAAAAAAAAAAAAAAAABSdQAAAAAAAoGxAAAAAAACcnUAAAAAAALagQAAAAAAACIRAAAAAAAAwlUAAAAAAAFyQQAAAAAAA2IJAAAAAAABAekAAAAAAAGB/QAAAAAAAbJBAAAAAAAAgfUAAAAAAAAB1QAAAAAAA2INAAAAAAACAWUAAAAAAAABtQAAAAAAAaIJAAAAAAABgZ0AAAAAAAAAAAAAAAAAAeIFA\",\"dtype\":\"float64\",\"shape\":[300]},\"Country\":[\"United Kingdom\",\"United States\",\"Canada\",\"China\",\"Germany\",\"Australia\",\"Austria\",\"Spain\",\"Japan\",\"Bermuda\",\"Ireland\",\"France\",\"Turkey\",\"Lithuania\",\"Taiwan\",\"Iceland\",\"Denmark\",\"Hong Kong\",\"Norway\",\"Mexico\",\"United Kingdom\",\"United States\",\"Canada\",\"China\",\"Germany\",\"Australia\",\"Austria\",\"Spain\",\"Japan\",\"Bermuda\",\"Ireland\",\"France\",\"Turkey\",\"Lithuania\",\"Taiwan\",\"Iceland\",\"Denmark\",\"Hong Kong\",\"Norway\",\"Mexico\",\"United Kingdom\",\"United States\",\"Canada\",\"China\",\"Germany\",\"Australia\",\"Austria\",\"Spain\",\"Japan\",\"Bermuda\",\"Ireland\",\"France\",\"Turkey\",\"Lithuania\",\"Taiwan\",\"Iceland\",\"Denmark\",\"Hong Kong\",\"Norway\",\"Mexico\",\"United Kingdom\",\"United States\",\"Canada\",\"China\",\"Germany\",\"Australia\",\"Austria\",\"Spain\",\"Japan\",\"Bermuda\",\"Ireland\",\"France\",\"Turkey\",\"Lithuania\",\"Taiwan\",\"Iceland\",\"Denmark\",\"Hong Kong\",\"Norway\",\"Mexico\",\"United Kingdom\",\"United States\",\"Canada\",\"China\",\"Germany\",\"Australia\",\"Austria\",\"Spain\",\"Japan\",\"Bermuda\",\"Ireland\",\"France\",\"Turkey\",\"Lithuania\",\"Taiwan\",\"Iceland\",\"Denmark\",\"Hong Kong\",\"Norway\",\"Mexico\",\"United Kingdom\",\"United States\",\"Canada\",\"China\",\"Germany\",\"Australia\",\"Austria\",\"Spain\",\"Japan\",\"Bermuda\",\"Ireland\",\"France\",\"Turkey\",\"Lithuania\",\"Taiwan\",\"Iceland\",\"Denmark\",\"Hong Kong\",\"Norway\",\"Mexico\",\"United Kingdom\",\"United States\",\"Canada\",\"China\",\"Germany\",\"Australia\",\"Austria\",\"Spain\",\"Japan\",\"Bermuda\",\"Ireland\",\"France\",\"Turkey\",\"Lithuania\",\"Taiwan\",\"Iceland\",\"Denmark\",\"Hong Kong\",\"Norway\",\"Mexico\",\"United Kingdom\",\"United States\",\"Canada\",\"China\",\"Germany\",\"Australia\",\"Austria\",\"Spain\",\"Japan\",\"Bermuda\",\"Ireland\",\"France\",\"Turkey\",\"Lithuania\",\"Taiwan\",\"Iceland\",\"Denmark\",\"Hong Kong\",\"Norway\",\"Mexico\",\"United Kingdom\",\"United States\",\"Canada\",\"China\",\"Germany\",\"Australia\",\"Austria\",\"Spain\",\"Japan\",\"Bermuda\",\"Ireland\",\"France\",\"Turkey\",\"Lithuania\",\"Taiwan\",\"Iceland\",\"Denmark\",\"Hong Kong\",\"Norway\",\"Mexico\",\"United Kingdom\",\"United States\",\"Canada\",\"China\",\"Germany\",\"Australia\",\"Austria\",\"Spain\",\"Japan\",\"Bermuda\",\"Ireland\",\"France\",\"Turkey\",\"Lithuania\",\"Taiwan\",\"Iceland\",\"Denmark\",\"Hong Kong\",\"Norway\",\"Mexico\",\"United Kingdom\",\"United States\",\"Canada\",\"China\",\"Germany\",\"Australia\",\"Austria\",\"Spain\",\"Japan\",\"Bermuda\",\"Ireland\",\"France\",\"Turkey\",\"Lithuania\",\"Taiwan\",\"Iceland\",\"Denmark\",\"Hong Kong\",\"Norway\",\"Mexico\",\"United Kingdom\",\"United States\",\"Canada\",\"China\",\"Germany\",\"Australia\",\"Austria\",\"Spain\",\"Japan\",\"Bermuda\",\"Ireland\",\"France\",\"Turkey\",\"Lithuania\",\"Taiwan\",\"Iceland\",\"Denmark\",\"Hong Kong\",\"Norway\",\"Mexico\",\"United Kingdom\",\"United States\",\"Canada\",\"China\",\"Germany\",\"Australia\",\"Austria\",\"Spain\",\"Japan\",\"Bermuda\",\"Ireland\",\"France\",\"Turkey\",\"Lithuania\",\"Taiwan\",\"Iceland\",\"Denmark\",\"Hong Kong\",\"Norway\",\"Mexico\",\"United Kingdom\",\"United States\",\"Canada\",\"China\",\"Germany\",\"Australia\",\"Austria\",\"Spain\",\"Japan\",\"Bermuda\",\"Ireland\",\"France\",\"Turkey\",\"Lithuania\",\"Taiwan\",\"Iceland\",\"Denmark\",\"Hong Kong\",\"Norway\",\"Mexico\",\"United Kingdom\",\"United States\",\"Canada\",\"China\",\"Germany\",\"Australia\",\"Austria\",\"Spain\",\"Japan\",\"Bermuda\",\"Ireland\",\"France\",\"Turkey\",\"Lithuania\",\"Taiwan\",\"Iceland\",\"Denmark\",\"Hong Kong\",\"Norway\",\"Mexico\"],\"Mdl\":[\"Citation Latitude\",\"Citation Latitude\",\"Citation Latitude\",\"Citation Latitude\",\"Citation Latitude\",\"Citation Latitude\",\"Citation Latitude\",\"Citation Latitude\",\"Citation Latitude\",\"Citation Latitude\",\"Citation Latitude\",\"Citation Latitude\",\"Citation Latitude\",\"Citation Latitude\",\"Citation Latitude\",\"Citation Latitude\",\"Citation Latitude\",\"Citation Latitude\",\"Citation Latitude\",\"Citation Latitude\",\"717\",\"717\",\"717\",\"717\",\"717\",\"717\",\"717\",\"717\",\"717\",\"717\",\"717\",\"717\",\"717\",\"717\",\"717\",\"717\",\"717\",\"717\",\"717\",\"717\",\"767\",\"767\",\"767\",\"767\",\"767\",\"767\",\"767\",\"767\",\"767\",\"767\",\"767\",\"767\",\"767\",\"767\",\"767\",\"767\",\"767\",\"767\",\"767\",\"767\",\"A350\",\"A350\",\"A350\",\"A350\",\"A350\",\"A350\",\"A350\",\"A350\",\"A350\",\"A350\",\"A350\",\"A350\",\"A350\",\"A350\",\"A350\",\"A350\",\"A350\",\"A350\",\"A350\",\"A350\",\"A340\",\"A340\",\"A340\",\"A340\",\"A340\",\"A340\",\"A340\",\"A340\",\"A340\",\"A340\",\"A340\",\"A340\",\"A340\",\"A340\",\"A340\",\"A340\",\"A340\",\"A340\",\"A340\",\"A340\",\"A380\",\"A380\",\"A380\",\"A380\",\"A380\",\"A380\",\"A380\",\"A380\",\"A380\",\"A380\",\"A380\",\"A380\",\"A380\",\"A380\",\"A380\",\"A380\",\"A380\",\"A380\",\"A380\",\"A380\",\"777\",\"777\",\"777\",\"777\",\"777\",\"777\",\"777\",\"777\",\"777\",\"777\",\"777\",\"777\",\"777\",\"777\",\"777\",\"777\",\"777\",\"777\",\"777\",\"777\",\"757\",\"757\",\"757\",\"757\",\"757\",\"757\",\"757\",\"757\",\"757\",\"757\",\"757\",\"757\",\"757\",\"757\",\"757\",\"757\",\"757\",\"757\",\"757\",\"757\",\"737\",\"737\",\"737\",\"737\",\"737\",\"737\",\"737\",\"737\",\"737\",\"737\",\"737\",\"737\",\"737\",\"737\",\"737\",\"737\",\"737\",\"737\",\"737\",\"737\",\"747\",\"747\",\"747\",\"747\",\"747\",\"747\",\"747\",\"747\",\"747\",\"747\",\"747\",\"747\",\"747\",\"747\",\"747\",\"747\",\"747\",\"747\",\"747\",\"747\",\"A321\",\"A321\",\"A321\",\"A321\",\"A321\",\"A321\",\"A321\",\"A321\",\"A321\",\"A321\",\"A321\",\"A321\",\"A321\",\"A321\",\"A321\",\"A321\",\"A321\",\"A321\",\"A321\",\"A321\",\"787\",\"787\",\"787\",\"787\",\"787\",\"787\",\"787\",\"787\",\"787\",\"787\",\"787\",\"787\",\"787\",\"787\",\"787\",\"787\",\"787\",\"787\",\"787\",\"787\",\"A319\",\"A319\",\"A319\",\"A319\",\"A319\",\"A319\",\"A319\",\"A319\",\"A319\",\"A319\",\"A319\",\"A319\",\"A319\",\"A319\",\"A319\",\"A319\",\"A319\",\"A319\",\"A319\",\"A319\",\"A330\",\"A330\",\"A330\",\"A330\",\"A330\",\"A330\",\"A330\",\"A330\",\"A330\",\"A330\",\"A330\",\"A330\",\"A330\",\"A330\",\"A330\",\"A330\",\"A330\",\"A330\",\"A330\",\"A330\",\"A320\",\"A320\",\"A320\",\"A320\",\"A320\",\"A320\",\"A320\",\"A320\",\"A320\",\"A320\",\"A320\",\"A320\",\"A320\",\"A320\",\"A320\",\"A320\",\"A320\",\"A320\",\"A320\",\"A320\"],\"Percentage\":{\"__ndarray__\":\"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\",\"dtype\":\"float64\",\"shape\":[300]},\"Total\":{\"__ndarray__\":\"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\",\"dtype\":\"float64\",\"shape\":[300]},\"index\":[0,1,2,3,4,5,6,7,8,9,10,11,12,13,14,15,16,17,18,19,20,21,22,23,24,25,26,27,28,29,30,31,32,33,34,35,36,37,38,39,40,41,42,43,44,45,46,47,48,49,50,51,52,53,54,55,56,57,58,59,60,61,62,63,64,65,66,67,68,69,70,71,72,73,74,75,76,77,78,79,80,81,82,83,84,85,86,87,88,89,90,91,92,93,94,95,96,97,98,99,100,101,102,103,104,105,106,107,108,109,110,111,112,113,114,115,116,117,118,119,120,121,122,123,124,125,126,127,128,129,130,131,132,133,134,135,136,137,138,139,140,141,142,143,144,145,146,147,148,149,150,151,152,153,154,155,156,157,158,159,160,161,162,163,164,165,166,167,168,169,170,171,172,173,174,175,176,177,178,179,180,181,182,183,184,185,186,187,188,189,190,191,192,193,194,195,196,197,198,199,200,201,202,203,204,205,206,207,208,209,210,211,212,213,214,215,216,217,218,219,220,221,222,223,224,225,226,227,228,229,230,231,232,233,234,235,236,237,238,239,240,241,242,243,244,245,246,247,248,249,250,251,252,253,254,255,256,257,258,259,260,261,262,263,264,265,266,267,268,269,270,271,272,273,274,275,276,277,278,279,280,281,282,283,284,285,286,287,288,289,290,291,292,293,294,295,296,297,298,299]},\"selected\":{\"id\":\"fc98211f-a2a9-4418-bbf8-5a35f651a356\",\"type\":\"Selection\"},\"selection_policy\":{\"id\":\"155ec078-18e3-45f9-8eeb-763588cab72c\",\"type\":\"UnionRenderers\"}},\"id\":\"7d2f6ec4-177b-4b8b-a278-ae41a076ae5c\",\"type\":\"ColumnDataSource\"},{\"attributes\":{},\"id\":\"97f25f4f-4a1c-4694-a8ac-5d933404b94a\",\"type\":\"CategoricalScale\"},{\"attributes\":{\"axis_line_color\":{\"value\":null},\"formatter\":{\"id\":\"410fd853-85fc-4637-9f5b-fcba90d37f0b\",\"type\":\"CategoricalTickFormatter\"},\"major_label_standoff\":0,\"major_label_text_font_size\":{\"value\":\"10pt\"},\"major_tick_line_color\":{\"value\":null},\"plot\":{\"id\":\"19408d59-2324-4e65-a28b-035d98caa25a\",\"subtype\":\"Figure\",\"type\":\"Plot\"},\"ticker\":{\"id\":\"355e577d-fcb5-4513-974e-37438aeb14c7\",\"type\":\"CategoricalTicker\"}},\"id\":\"03a91a0e-60dd-4ef7-86ec-14f0fdc06b6f\",\"type\":\"CategoricalAxis\"},{\"attributes\":{\"active_drag\":\"auto\",\"active_inspect\":\"auto\",\"active_multi\":null,\"active_scroll\":\"auto\",\"active_tap\":\"auto\",\"tools\":[{\"id\":\"b533c76a-721d-4c84-bb0e-ea89334e6623\",\"type\":\"HoverTool\"},{\"id\":\"daf7bc69-f135-4a52-a143-b3d7c450c484\",\"type\":\"SaveTool\"},{\"id\":\"13f8256d-9feb-40aa-9e18-5021a67d1b14\",\"type\":\"PanTool\"},{\"id\":\"07aa230d-91bf-421c-9faf-49f666554a32\",\"type\":\"BoxZoomTool\"},{\"id\":\"e12666c1-2076-4d82-b66c-c55da3126f5f\",\"type\":\"ResetTool\"},{\"id\":\"7ff964b3-467e-4f7f-b117-bdc5844a7bb7\",\"type\":\"WheelZoomTool\"}]},\"id\":\"845f092f-ff57-4355-a321-8be3819672b9\",\"type\":\"Toolbar\"},{\"attributes\":{\"desired_num_ticks\":10},\"id\":\"3a5ab5d7-2fc7-4c3f-bb47-f45d9b3c24a9\",\"type\":\"BasicTicker\"},{\"attributes\":{\"plot\":null,\"text\":\"Aircraft Registered to Country by Model (1985 - 2018)\"},\"id\":\"b625d48e-7a9e-49d5-a648-7f3f2eabe07a\",\"type\":\"Title\"},{\"attributes\":{\"high\":61.97339246119734,\"low\":0,\"palette\":[\"#440154\",\"#440255\",\"#440357\",\"#450558\",\"#45065A\",\"#45085B\",\"#46095C\",\"#460B5E\",\"#460C5F\",\"#460E61\",\"#470F62\",\"#471163\",\"#471265\",\"#471466\",\"#471567\",\"#471669\",\"#47186A\",\"#48196B\",\"#481A6C\",\"#481C6E\",\"#481D6F\",\"#481E70\",\"#482071\",\"#482172\",\"#482273\",\"#482374\",\"#472575\",\"#472676\",\"#472777\",\"#472878\",\"#472A79\",\"#472B7A\",\"#472C7B\",\"#462D7C\",\"#462F7C\",\"#46307D\",\"#46317E\",\"#45327F\",\"#45347F\",\"#453580\",\"#453681\",\"#443781\",\"#443982\",\"#433A83\",\"#433B83\",\"#433C84\",\"#423D84\",\"#423E85\",\"#424085\",\"#414186\",\"#414286\",\"#404387\",\"#404487\",\"#3F4587\",\"#3F4788\",\"#3E4888\",\"#3E4989\",\"#3D4A89\",\"#3D4B89\",\"#3D4C89\",\"#3C4D8A\",\"#3C4E8A\",\"#3B508A\",\"#3B518A\",\"#3A528B\",\"#3A538B\",\"#39548B\",\"#39558B\",\"#38568B\",\"#38578C\",\"#37588C\",\"#37598C\",\"#365A8C\",\"#365B8C\",\"#355C8C\",\"#355D8C\",\"#345E8D\",\"#345F8D\",\"#33608D\",\"#33618D\",\"#32628D\",\"#32638D\",\"#31648D\",\"#31658D\",\"#31668D\",\"#30678D\",\"#30688D\",\"#2F698D\",\"#2F6A8D\",\"#2E6B8E\",\"#2E6C8E\",\"#2E6D8E\",\"#2D6E8E\",\"#2D6F8E\",\"#2C708E\",\"#2C718E\",\"#2C728E\",\"#2B738E\",\"#2B748E\",\"#2A758E\",\"#2A768E\",\"#2A778E\",\"#29788E\",\"#29798E\",\"#287A8E\",\"#287A8E\",\"#287B8E\",\"#277C8E\",\"#277D8E\",\"#277E8E\",\"#267F8E\",\"#26808E\",\"#26818E\",\"#25828E\",\"#25838D\",\"#24848D\",\"#24858D\",\"#24868D\",\"#23878D\",\"#23888D\",\"#23898D\",\"#22898D\",\"#228A8D\",\"#228B8D\",\"#218C8D\",\"#218D8C\",\"#218E8C\",\"#208F8C\",\"#20908C\",\"#20918C\",\"#1F928C\",\"#1F938B\",\"#1F948B\",\"#1F958B\",\"#1F968B\",\"#1E978A\",\"#1E988A\",\"#1E998A\",\"#1E998A\",\"#1E9A89\",\"#1E9B89\",\"#1E9C89\",\"#1E9D88\",\"#1E9E88\",\"#1E9F88\",\"#1EA087\",\"#1FA187\",\"#1FA286\",\"#1FA386\",\"#20A485\",\"#20A585\",\"#21A685\",\"#21A784\",\"#22A784\",\"#23A883\",\"#23A982\",\"#24AA82\",\"#25AB81\",\"#26AC81\",\"#27AD80\",\"#28AE7F\",\"#29AF7F\",\"#2AB07E\",\"#2BB17D\",\"#2CB17D\",\"#2EB27C\",\"#2FB37B\",\"#30B47A\",\"#32B57A\",\"#33B679\",\"#35B778\",\"#36B877\",\"#38B976\",\"#39B976\",\"#3BBA75\",\"#3DBB74\",\"#3EBC73\",\"#40BD72\",\"#42BE71\",\"#44BE70\",\"#45BF6F\",\"#47C06E\",\"#49C16D\",\"#4BC26C\",\"#4DC26B\",\"#4FC369\",\"#51C468\",\"#53C567\",\"#55C666\",\"#57C665\",\"#59C764\",\"#5BC862\",\"#5EC961\",\"#60C960\",\"#62CA5F\",\"#64CB5D\",\"#67CC5C\",\"#69CC5B\",\"#6BCD59\",\"#6DCE58\",\"#70CE56\",\"#72CF55\",\"#74D054\",\"#77D052\",\"#79D151\",\"#7CD24F\",\"#7ED24E\",\"#81D34C\",\"#83D34B\",\"#86D449\",\"#88D547\",\"#8BD546\",\"#8DD644\",\"#90D643\",\"#92D741\",\"#95D73F\",\"#97D83E\",\"#9AD83C\",\"#9DD93A\",\"#9FD938\",\"#A2DA37\",\"#A5DA35\",\"#A7DB33\",\"#AADB32\",\"#ADDC30\",\"#AFDC2E\",\"#B2DD2C\",\"#B5DD2B\",\"#B7DD29\",\"#BADE27\",\"#BDDE26\",\"#BFDF24\",\"#C2DF22\",\"#C5DF21\",\"#C7E01F\",\"#CAE01E\",\"#CDE01D\",\"#CFE11C\",\"#D2E11B\",\"#D4E11A\",\"#D7E219\",\"#DAE218\",\"#DCE218\",\"#DFE318\",\"#E1E318\",\"#E4E318\",\"#E7E419\",\"#E9E419\",\"#ECE41A\",\"#EEE51B\",\"#F1E51C\",\"#F3E51E\",\"#F6E61F\",\"#F8E621\",\"#FAE622\",\"#FDE724\"]},\"id\":\"f799ab4d-e21c-4fcc-942e-da394150c7ee\",\"type\":\"LinearColorMapper\"},{\"attributes\":{},\"id\":\"fc98211f-a2a9-4418-bbf8-5a35f651a356\",\"type\":\"Selection\"},{\"attributes\":{},\"id\":\"155ec078-18e3-45f9-8eeb-763588cab72c\",\"type\":\"UnionRenderers\"},{\"attributes\":{},\"id\":\"410fd853-85fc-4637-9f5b-fcba90d37f0b\",\"type\":\"CategoricalTickFormatter\"},{\"attributes\":{},\"id\":\"4e1858f0-74db-4446-87e9-bd73c9d3a630\",\"type\":\"BasicTickFormatter\"},{\"attributes\":{},\"id\":\"71870356-1bf7-47d1-ad21-acacfeab077f\",\"type\":\"CategoricalTickFormatter\"},{\"attributes\":{\"color_mapper\":{\"id\":\"f799ab4d-e21c-4fcc-942e-da394150c7ee\",\"type\":\"LinearColorMapper\"},\"formatter\":{\"id\":\"4e1858f0-74db-4446-87e9-bd73c9d3a630\",\"type\":\"BasicTickFormatter\"},\"label_standoff\":6,\"location\":[0,0],\"major_label_text_font_size\":{\"value\":\"10pt\"},\"plot\":{\"id\":\"19408d59-2324-4e65-a28b-035d98caa25a\",\"subtype\":\"Figure\",\"type\":\"Plot\"},\"ticker\":{\"id\":\"3a5ab5d7-2fc7-4c3f-bb47-f45d9b3c24a9\",\"type\":\"BasicTicker\"}},\"id\":\"2f20a20d-0e80-4495-9d03-ab399dc5b2a9\",\"type\":\"ColorBar\"},{\"attributes\":{\"data_source\":{\"id\":\"7d2f6ec4-177b-4b8b-a278-ae41a076ae5c\",\"type\":\"ColumnDataSource\"},\"glyph\":{\"id\":\"340d2ec7-ef3e-4989-8ca6-439667db81db\",\"type\":\"Rect\"},\"hover_glyph\":null,\"muted_glyph\":null,\"nonselection_glyph\":{\"id\":\"3b3f906a-819c-41f1-891c-6cae72078ed5\",\"type\":\"Rect\"},\"selection_glyph\":null,\"view\":{\"id\":\"42af02e0-0a3c-4d00-9671-3226beabe8cf\",\"type\":\"CDSView\"}},\"id\":\"18ce5a02-23c9-4c37-bb0a-b72df763a997\",\"type\":\"GlyphRenderer\"},{\"attributes\":{},\"id\":\"7ff964b3-467e-4f7f-b117-bdc5844a7bb7\",\"type\":\"WheelZoomTool\"},{\"attributes\":{},\"id\":\"e12666c1-2076-4d82-b66c-c55da3126f5f\",\"type\":\"ResetTool\"},{\"attributes\":{\"overlay\":{\"id\":\"318d6142-ab37-47d4-b090-6225804d376f\",\"type\":\"BoxAnnotation\"}},\"id\":\"07aa230d-91bf-421c-9faf-49f666554a32\",\"type\":\"BoxZoomTool\"},{\"attributes\":{},\"id\":\"13f8256d-9feb-40aa-9e18-5021a67d1b14\",\"type\":\"PanTool\"},{\"attributes\":{},\"id\":\"daf7bc69-f135-4a52-a143-b3d7c450c484\",\"type\":\"SaveTool\"},{\"attributes\":{\"callback\":null,\"renderers\":\"auto\",\"tooltips\":[[\"Country\",\"@Country\"],[\"Model\",\"@Mdl\"],[\"Aircraft Count\",\"@Count\"],[\"Percent of Fleet\",\"@Percentage{0.0}% of fleet\"],[\"Total Aircraft\",\"@Total{,}\"]]},\"id\":\"b533c76a-721d-4c84-bb0e-ea89334e6623\",\"type\":\"HoverTool\"},{\"attributes\":{\"bottom_units\":\"screen\",\"fill_alpha\":{\"value\":0.5},\"fill_color\":{\"value\":\"lightgrey\"},\"left_units\":\"screen\",\"level\":\"overlay\",\"line_alpha\":{\"value\":1.0},\"line_color\":{\"value\":\"black\"},\"line_dash\":[4,4],\"line_width\":{\"value\":2},\"plot\":null,\"render_mode\":\"css\",\"right_units\":\"screen\",\"top_units\":\"screen\"},\"id\":\"318d6142-ab37-47d4-b090-6225804d376f\",\"type\":\"BoxAnnotation\"},{\"attributes\":{\"fill_color\":{\"field\":\"Percentage\",\"transform\":{\"id\":\"f799ab4d-e21c-4fcc-942e-da394150c7ee\",\"type\":\"LinearColorMapper\"}},\"height\":{\"units\":\"data\",\"value\":1},\"line_color\":{\"value\":null},\"width\":{\"units\":\"data\",\"value\":1},\"x\":{\"field\":\"Mdl\"},\"y\":{\"field\":\"Country\"}},\"id\":\"340d2ec7-ef3e-4989-8ca6-439667db81db\",\"type\":\"Rect\"},{\"attributes\":{\"fill_alpha\":{\"value\":0.1},\"fill_color\":{\"value\":\"#1f77b4\"},\"height\":{\"units\":\"data\",\"value\":1},\"line_alpha\":{\"value\":0.1},\"line_color\":{\"value\":\"#1f77b4\"},\"width\":{\"units\":\"data\",\"value\":1},\"x\":{\"field\":\"Mdl\"},\"y\":{\"field\":\"Country\"}},\"id\":\"3b3f906a-819c-41f1-891c-6cae72078ed5\",\"type\":\"Rect\"},{\"attributes\":{\"callback\":null,\"factors\":[\"Mexico\",\"Norway\",\"Hong Kong\",\"Denmark\",\"Iceland\",\"Taiwan\",\"Lithuania\",\"Turkey\",\"France\",\"Ireland\",\"Bermuda\",\"Japan\",\"Spain\",\"Austria\",\"Australia\",\"Germany\",\"China\",\"Canada\",\"United States\",\"United Kingdom\"]},\"id\":\"874bd138-b71d-42ec-b01c-84e78fafbaef\",\"type\":\"FactorRange\"},{\"attributes\":{\"dimension\":1,\"grid_line_color\":{\"value\":null},\"plot\":{\"id\":\"19408d59-2324-4e65-a28b-035d98caa25a\",\"subtype\":\"Figure\",\"type\":\"Plot\"},\"ticker\":{\"id\":\"355e577d-fcb5-4513-974e-37438aeb14c7\",\"type\":\"CategoricalTicker\"}},\"id\":\"9ed397c0-bcc6-484e-b27e-6ef656e06ddf\",\"type\":\"Grid\"},{\"attributes\":{\"callback\":null,\"factors\":[\"Citation Latitude\",\"717\",\"767\",\"A350\",\"A340\",\"A380\",\"777\",\"757\",\"737\",\"747\",\"A321\",\"787\",\"A319\",\"A330\",\"A320\"]},\"id\":\"0b21f012-2f9c-4f90-8a0d-0e409bcc414c\",\"type\":\"FactorRange\"},{\"attributes\":{\"source\":{\"id\":\"7d2f6ec4-177b-4b8b-a278-ae41a076ae5c\",\"type\":\"ColumnDataSource\"}},\"id\":\"42af02e0-0a3c-4d00-9671-3226beabe8cf\",\"type\":\"CDSView\"}],\"root_ids\":[\"19408d59-2324-4e65-a28b-035d98caa25a\"]},\"title\":\"Bokeh Application\",\"version\":\"0.13.0\"}};\n",
       "  var render_items = [{\"docid\":\"434fb5a5-8347-4e5c-b996-eb35cbe081d1\",\"roots\":{\"19408d59-2324-4e65-a28b-035d98caa25a\":\"267b5cd6-fb97-4780-bb16-4c62c09634a7\"}}];\n",
       "  root.Bokeh.embed.embed_items_notebook(docs_json, render_items);\n",
       "\n",
       "  }\n",
       "  if (root.Bokeh !== undefined) {\n",
       "    embed_document(root);\n",
       "  } else {\n",
       "    var attempts = 0;\n",
       "    var timer = setInterval(function(root) {\n",
       "      if (root.Bokeh !== undefined) {\n",
       "        embed_document(root);\n",
       "        clearInterval(timer);\n",
       "      }\n",
       "      attempts++;\n",
       "      if (attempts > 100) {\n",
       "        console.log(\"Bokeh: ERROR: Unable to run BokehJS code because BokehJS library is missing\")\n",
       "        clearInterval(timer);\n",
       "      }\n",
       "    }, 10, root)\n",
       "  }\n",
       "})(window);"
      ],
      "application/vnd.bokehjs_exec.v0+json": ""
     },
     "metadata": {
      "application/vnd.bokehjs_exec.v0+json": {
       "id": "19408d59-2324-4e65-a28b-035d98caa25a"
      }
     },
     "output_type": "display_data"
    }
   ],
   "source": [
    "mdl_vs_cou_percent.index = mdl_vs_cou_percent.index.astype(str)\n",
    "\n",
    "mdl = list(mdl_vs_cou_percent.index)\n",
    "country = list(mdl_vs_cou_percent.columns)\n",
    "\n",
    "arr_p = pd.DataFrame(mdl_vs_cou_percent.stack(), columns=['Percentage']).reset_index()\n",
    "arr_c = pd.DataFrame(mdl_vs_cou.stack(), columns=['Count']).reset_index()\n",
    "total_by_cou = mdl_vs_cou.sum(axis=0)\n",
    "arr_c['Total'] = arr_c.Country.map(total_by_cou)\n",
    "arr = pd.merge(arr_p, arr_c, how='outer', left_on=['Mdl', 'Country'], right_on=['Mdl', 'Country'])\n",
    "\n",
    "colors = Viridis256\n",
    "mapper = LinearColorMapper(palette=colors, low=0, high=mdl_vs_cou_percent.max().max())\n",
    "\n",
    "TOOLS = \"hover,save,pan,box_zoom,reset,wheel_zoom\"\n",
    "\n",
    "p = plotting.figure(title=\"Aircraft Registered to Country by Model ({0} - {1})\".format(years[0], years[-1]),\n",
    "           x_range=mdl, y_range=list(reversed(country)),\n",
    "           x_axis_location=\"above\", plot_width=950, plot_height=900,\n",
    "           tools=TOOLS, toolbar_location='above',\n",
    "           tooltips=[('Country', '@Country'), \n",
    "                     ('Model', '@Mdl'), \n",
    "                     ('Aircraft Count', '@Count'),\n",
    "                     ('Percent of Fleet', '@Percentage{0.0}% of fleet'),\n",
    "                     (\"Total Aircraft\", '@Total{,}')])\n",
    "\n",
    "p.grid.grid_line_color = None\n",
    "p.axis.axis_line_color = None\n",
    "p.axis.major_tick_line_color = None\n",
    "p.axis.major_label_text_font_size = \"10pt\"\n",
    "p.axis.major_label_standoff = 0\n",
    "p.xaxis.major_label_orientation = pi / 3\n",
    "\n",
    "p.rect(x=\"Mdl\", y=\"Country\", width=1, height=1,\n",
    "       source=arr,\n",
    "       fill_color={'field': 'Percentage', 'transform': mapper},\n",
    "       line_color=None)\n",
    "\n",
    "color_bar = ColorBar(color_mapper=mapper, major_label_text_font_size=\"10pt\",\n",
    "                     ticker=BasicTicker(desired_num_ticks=10),\n",
    "                     label_standoff=6, border_line_color=None, location=(0, 0))\n",
    "p.add_layout(color_bar, 'right')\n",
    "show(p)"
   ]
  },
  {
   "cell_type": "code",
   "execution_count": null,
   "metadata": {},
   "outputs": [],
   "source": []
  }
 ],
 "metadata": {
  "celltoolbar": "Slideshow",
  "kernelspec": {
   "display_name": "Python [conda env:py3.6_sfte]",
   "language": "python",
   "name": "conda-env-py3.6_sfte-py"
  },
  "language_info": {
   "codemirror_mode": {
    "name": "ipython",
    "version": 3
   },
   "file_extension": ".py",
   "mimetype": "text/x-python",
   "name": "python",
   "nbconvert_exporter": "python",
   "pygments_lexer": "ipython3",
   "version": "3.6.6"
  }
 },
 "nbformat": 4,
 "nbformat_minor": 2
}
