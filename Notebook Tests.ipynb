{
 "cells": [
  {
   "cell_type": "code",
   "execution_count": 2,
   "metadata": {},
   "outputs": [],
   "source": [
    "import nbformat\n",
    "from nbconvert.preprocessors import ExecutePreprocessor\n",
    "from nbconvert.preprocessors.execute import CellExecutionError\n",
    "import shutil"
   ]
  },
  {
   "cell_type": "code",
   "execution_count": 4,
   "metadata": {},
   "outputs": [],
   "source": [
    "ep = ExecutePreprocessor(timeout=60*20, kernel_name='python3')"
   ]
  },
  {
   "cell_type": "code",
   "execution_count": 5,
   "metadata": {},
   "outputs": [],
   "source": [
    "import os\n",
    "nb_test_dir = os.path.join(os.getcwd(), 'nb_test')\n",
    "if not os.path.exists(nb_test_dir):\n",
    "    os.mkdir(nb_test_dir)"
   ]
  },
  {
   "cell_type": "code",
   "execution_count": 6,
   "metadata": {},
   "outputs": [],
   "source": [
    "def print_errors(nb):\n",
    "    cell_cnt = len(nb.cells)\n",
    "    error_cnt = 0\n",
    "    for i, c in enumerate(nb.cells):\n",
    "        if 'outputs' in c:\n",
    "            for co in c['outputs']:\n",
    "                if co['output_type'] == 'error':\n",
    "                    t = co['traceback']\n",
    "                    error_cnt += 1\n",
    "                    print(f'Cell {i+1} of {cell_cnt}')\n",
    "                    for t_ in t:\n",
    "                        print ('\\t'+t_.replace('\\n', '\\n\\t'))\n",
    "    print(f'Total of {error_cnt} errors across {cell_cnt} cells.')"
   ]
  },
  {
   "cell_type": "code",
   "execution_count": 7,
   "metadata": {},
   "outputs": [],
   "source": [
    "def test_nb(nb_file, nb_out_dir=nb_test_dir, nb_out_ext='_TEST.ipynb'):\n",
    "    ep.allow_errors = True\n",
    "    nb_out = os.path.join(nb_out_dir, nb_file.replace('.ipynb', nb_out_ext))\n",
    "    with open(nb_file, encoding=\"utf8\") as f:\n",
    "        nb = nbformat.read(f, as_version=4)\n",
    "    out = ep.preprocess(nb, {'metadata': {'path': ''}})\n",
    "    with open(nb_out, mode='wt') as f:\n",
    "        nbformat.write(nb, f)\n",
    "    print_errors(nb)"
   ]
  },
  {
   "cell_type": "code",
   "execution_count": 8,
   "metadata": {},
   "outputs": [],
   "source": [
    "files_under_test = ['sfte2018.ipynb',\n",
    "                    'Bokeh - Heat Map.ipynb',\n",
    "                    'Flight Data with Google Maps.ipynb',\n",
    "                    'Flight Data with Map Tiles.ipynb',\n",
    "                    'Interactive Datashader.ipynb',\n",
    "                    'Worldwide Viz with Datashader.ipynb']"
   ]
  },
  {
   "cell_type": "code",
   "execution_count": 21,
   "metadata": {},
   "outputs": [],
   "source": [
    "# Remove pickle files\n",
    "if os.path.exists('data'):\n",
    "    for pk in os.listdir('data'):\n",
    "        pk_p = os.path.join(os.getcwd(), 'data', pk)\n",
    "        if os.path.isfile(pk_p):\n",
    "            os.remove(pk_p)"
   ]
  },
  {
   "cell_type": "code",
   "execution_count": 9,
   "metadata": {},
   "outputs": [
    {
     "name": "stdout",
     "output_type": "stream",
     "text": [
      "\n",
      "Testing sfte2018.ipynb\n",
      "Total of 0 errors across 28 cells.\n",
      "Wall time: 10.4 s\n",
      "\n",
      "Testing Bokeh - Heat Map.ipynb\n",
      "Total of 0 errors across 10 cells.\n",
      "Wall time: 34.8 s\n",
      "\n",
      "Testing Flight Data with Google Maps.ipynb\n",
      "Total of 0 errors across 12 cells.\n",
      "Wall time: 17.1 s\n",
      "\n",
      "Testing Flight Data with Map Tiles.ipynb\n",
      "Total of 0 errors across 12 cells.\n",
      "Wall time: 15.2 s\n",
      "\n",
      "Testing Interactive Datashader.ipynb\n",
      "Total of 0 errors across 12 cells.\n",
      "Wall time: 15.2 s\n",
      "\n",
      "Testing Worldwide Viz with Datashader.ipynb\n",
      "Total of 0 errors across 16 cells.\n",
      "Wall time: 8min 37s\n"
     ]
    }
   ],
   "source": [
    "for f in files_under_test:\n",
    "    print(f'\\nTesting {f}')\n",
    "    %time test_nb(f, nb_out_ext='_NO_PIK.ipynb')"
   ]
  },
  {
   "cell_type": "code",
   "execution_count": null,
   "metadata": {},
   "outputs": [],
   "source": [
    "for f in files_under_test:\n",
    "    print(f'\\nTesting {f}')\n",
    "    %time test_nb(f, nb_out_ext='_WITH_PIK.ipynb')"
   ]
  }
 ],
 "metadata": {
  "kernelspec": {
   "display_name": "Python 3",
   "language": "python",
   "name": "python3"
  },
  "language_info": {
   "codemirror_mode": {
    "name": "ipython",
    "version": 3
   },
   "file_extension": ".py",
   "mimetype": "text/x-python",
   "name": "python",
   "nbconvert_exporter": "python",
   "pygments_lexer": "ipython3",
   "version": "3.6.2"
  }
 },
 "nbformat": 4,
 "nbformat_minor": 2
}
